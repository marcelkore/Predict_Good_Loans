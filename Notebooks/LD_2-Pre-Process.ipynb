{
 "cells": [
  {
   "cell_type": "markdown",
   "metadata": {},
   "source": [
    "### Predict Loan Defaulters Part 2_Pre-Processing\n",
    "We will be processing this notebook using the insight we gained from the first notebook (link below). <br>\n",
    "\n",
    "[Predict Loan Defaulters: Part 1 - EDA](https://nbviewer.jupyter.org/gist/marcelkore/0115941837b398617e535024b4c8ba56) \n",
    "\n",
    "I will be running the pipelines one by one for the purpose of going through the different steps invoveld in processing this dataset"
   ]
  },
  {
   "cell_type": "markdown",
   "metadata": {},
   "source": [
    "<h3>Notebook Setup</h3>\n",
    "\n",
    "<ol>\n",
    "  <li>Create Transformers to handle diffrents processing needs of our dataset </li>\n",
    "  <li>Apply Transformation to train and test data</li>\n",
    "</ol> \n",
    "\n",
    "\n",
    "[Github Link to orginial notebooks and helper files](https://github.com/marcelkore/Predict_Good_Loans)"
   ]
  },
  {
   "cell_type": "markdown",
   "metadata": {},
   "source": [
    "### Steps in the process\n",
    "1. [Reading the DataSet](#reading_the_data)\n",
    "2. [Encode Target Feature](#encode_target)\n",
    "3. [Drop Data Leakage Features](#drop_data_leak)\n",
    "3. [Drop Duplicates](#drop_duplicates)  \n",
    "3. [Drop Single Unique Features](#single_unique)  \n",
    "3. [Handle Missing - Drop Using Threshold](#missing_features)  \n",
    "3. [Impute Categoricals](#impute_categorical)  \n",
    "3. [Impute Numerical](#impute_numerical)  \n",
    "3. [Feature Extraction](#feature_extraction)  \n",
    "3. [Feature Engineering](#feature_engineer)\n",
    "3. [Feature Selection](#feature_selector)\n",
    "3. [Export DataSet](#export_dataset)"
   ]
  },
  {
   "cell_type": "code",
   "execution_count": 1,
   "metadata": {
    "slideshow": {
     "slide_type": "slide"
    }
   },
   "outputs": [
    {
     "name": "stderr",
     "output_type": "stream",
     "text": [
      "C:\\ProgramData\\Anaconda3\\lib\\site-packages\\sklearn\\utils\\deprecation.py:144: FutureWarning: The sklearn.metrics.classification module is  deprecated in version 0.22 and will be removed in version 0.24. The corresponding classes / functions should instead be imported from sklearn.metrics. Anything that cannot be imported from sklearn.metrics is now part of the private API.\n",
      "  warnings.warn(message, FutureWarning)\n",
      "C:\\ProgramData\\Anaconda3\\lib\\site-packages\\sklearn\\utils\\deprecation.py:144: FutureWarning: The sklearn.metrics.scorer module is  deprecated in version 0.22 and will be removed in version 0.24. The corresponding classes / functions should instead be imported from sklearn.metrics. Anything that cannot be imported from sklearn.metrics is now part of the private API.\n",
      "  warnings.warn(message, FutureWarning)\n",
      "C:\\ProgramData\\Anaconda3\\lib\\site-packages\\sklearn\\utils\\deprecation.py:144: FutureWarning: The sklearn.feature_selection.base module is  deprecated in version 0.22 and will be removed in version 0.24. The corresponding classes / functions should instead be imported from sklearn.feature_selection. Anything that cannot be imported from sklearn.feature_selection is now part of the private API.\n",
      "  warnings.warn(message, FutureWarning)\n",
      "Using TensorFlow backend.\n"
     ]
    }
   ],
   "source": [
    "# Standard Libraries\n",
    "import pandas as pd\n",
    "import numpy as np\n",
    "\n",
    "# category encoding\n",
    "import category_encoders as ce\n",
    "\n",
    "#helper functions\n",
    "import helper_functions as helpers\n",
    "import modeling_helper_functions as mhf\n",
    "import parameter_tuning_helper as pt\n",
    "from mlxtend.evaluate import scoring\n",
    "\n",
    "#skearn libraries\n",
    "from sklearn.pipeline import make_pipeline, Pipeline\n",
    "#from sklearn.preprocessing import Imputer, LabelEncoder\n",
    "from sklearn.base import BaseEstimator, TransformerMixin\n",
    "from sklearn.preprocessing import StandardScaler\n",
    "from sklearn.preprocessing import Normalizer\n",
    "from sklearn.impute import SimpleImputer\n",
    "\n",
    "from missingpy import MissForest\n",
    "\n",
    "'''\n",
    "from sklearn.model_selection import train_test_split, cross_val_score\n",
    "from sklearn.metrics import (roc_curve, precision_recall_curve)\n",
    "from sklearn.metrics import accuracy_score, precision_score, recall_score, f1_score\n",
    "from mlxtend.evaluate import feature_importance_permutation\n",
    "\n",
    "'''\n",
    "\n",
    "from sklearn.linear_model import LogisticRegression\n",
    "from sklearn.feature_selection import RFECV\n",
    "from sklearn.ensemble import RandomForestClassifier\n",
    "from sklearn.model_selection import StratifiedKFold\n",
    "from sklearn.feature_selection import SelectKBest, chi2\n",
    "\n",
    "from sklearn.model_selection import train_test_split\n",
    "\n",
    "from sklearn.experimental import enable_iterative_imputer\n",
    "from sklearn.impute import IterativeImputer\n",
    "\n",
    "from mlxtend.plotting import plot_sequential_feature_selection as plot_sfs\n",
    "import lightgbm as lgb\n",
    "from mlxtend.feature_selection import SequentialFeatureSelector as sfs\n",
    "import eli5\n",
    "from eli5.sklearn import PermutationImportance\n",
    "from sklearn.feature_selection import SelectFromModel\n",
    "\n",
    "\n",
    "# feature selection\n",
    "from sklearn.ensemble import RandomForestClassifier\n",
    "import lightgbm as lgb\n",
    "from xverse.transformer import WOE\n",
    "import boruta_py as bpy\n",
    "\n",
    "import yagmail\n",
    "from missingpy import MissForest\n",
    "\n",
    "import itertools\n",
    "# for auto-reloading external modules\n",
    "%load_ext autoreload\n",
    "%autoreload 2\n",
    "\n",
    "import os\n",
    "from datetime import datetime\n",
    "from datetime import date\n",
    "\n",
    "from IPython.core.interactiveshell import InteractiveShell\n",
    "\n",
    "# Viz Libraries\n",
    "import seaborn as sns\n",
    "import psutil\n",
    "import matplotlib.style as style\n",
    "import matplotlib.pyplot as plt\n",
    "%matplotlib inline\n",
    "style.use('fivethirtyeight')\n",
    "\n",
    "import psutil\n",
    "\n",
    "import warnings\n",
    "warnings.filterwarnings('ignore')\n",
    "from warnings import simplefilter\n",
    "# ignore all future warnings\n",
    "simplefilter(action='ignore', category=FutureWarning)\n",
    "\n",
    "import modeling_helper_functions as mhf\n",
    "import parameter_tuning_helper as pt\n",
    "from skew_autotransform import skew_autotransform"
   ]
  },
  {
   "cell_type": "code",
   "execution_count": 2,
   "metadata": {},
   "outputs": [
    {
     "name": "stdout",
     "output_type": "stream",
     "text": [
      "Total number of cpus detected: 16.\n",
      "Total size of system memory: 68.40692 gb.\n"
     ]
    }
   ],
   "source": [
    "print('Total number of cpus detected: {}.'.format(psutil.cpu_count()))\n",
    "print('Total size of system memory: {:.5f} gb.'.format(psutil.virtual_memory().total / 1e9))"
   ]
  },
  {
   "cell_type": "code",
   "execution_count": 3,
   "metadata": {
    "jupyter": {
     "source_hidden": true
    }
   },
   "outputs": [
    {
     "name": "stdout",
     "output_type": "stream",
     "text": [
      "Couldn't find program: 'False'\n"
     ]
    }
   ],
   "source": [
    "%%script False\n",
    "!pip install category_encoders\n",
    "!pip install shap\n",
    "!pip install xverse\n",
    "!pip install yagmail\n",
    "!pip install missingpy\n",
    "!pip install mlxtend\n",
    "!pip install eli5\n",
    "!pip install scikit_plot\n",
    "!pip install yellowbrick\n",
    "!pip install xgboost\n",
    "!pip install catboost\n",
    "!pip install hyperopt\n",
    "!pip install missingpy\n",
    "!pip install lightgbm\n",
    "!pip install mlens"
   ]
  },
  {
   "cell_type": "code",
   "execution_count": 4,
   "metadata": {},
   "outputs": [],
   "source": [
    "# track how long notebook took to run\n",
    "notebook_start_time = datetime.now()"
   ]
  },
  {
   "cell_type": "code",
   "execution_count": 5,
   "metadata": {},
   "outputs": [],
   "source": [
    "#!pip install -r requirements.txt\n",
    "#! pipreqs"
   ]
  },
  {
   "cell_type": "code",
   "execution_count": 6,
   "metadata": {},
   "outputs": [],
   "source": [
    "# pretty print all cell's output and not just the last one\n",
    "InteractiveShell.ast_node_interactivity = \"all\"\n",
    "# scientific notation\n",
    "pd.options.display.float_format = '{:.2f}'.format\n",
    "pd.set_option('display.max_columns', 50)\n",
    "pd.set_option('display.max_rows', 50)"
   ]
  },
  {
   "cell_type": "code",
   "execution_count": 7,
   "metadata": {},
   "outputs": [],
   "source": [
    "# not advised but for the ease of running multiple iterations of this notebook, \n",
    "# i set a couple of global variables for use in the subsequent functions\n",
    "CPU_COUNT = -1\n",
    "CROSS_VAL_COUNT = 10\n",
    "SCORING_METRIC = 'f1_weighted'"
   ]
  },
  {
   "cell_type": "markdown",
   "metadata": {},
   "source": [
    "We noticed a large class imbalance in the dataset from 2007 to 2018 in the Exploratory Phase. The strategy I used for the <br>\n",
    "balanced dataset below is to use all the negative samples from 2007 to 2016 together with all the negative samples from the previous <br>\n",
    "years resulting in a more or less balanced dataset (see catplots below). "
   ]
  },
  {
   "cell_type": "code",
   "execution_count": 8,
   "metadata": {},
   "outputs": [],
   "source": [
    "# load the balanced dataset\n",
    "df = pd.read_csv('lc_data_balanced.csv')"
   ]
  },
  {
   "cell_type": "code",
   "execution_count": 9,
   "metadata": {},
   "outputs": [
    {
     "data": {
      "image/png": "[encoded data removed]",
      "text/plain": [
       "<Figure size 842.4x187.2 with 1 Axes>"
      ]
     },
     "metadata": {},
     "output_type": "display_data"
    }
   ],
   "source": [
    "# review our target feature distribution\n",
    "sns.catplot(y=\"loan_status\", kind=\"count\", data=df, height=2.6, aspect=4.5, orient='h')\n",
    "plt.title('Full Data Set')\n",
    "plt.show();"
   ]
  },
  {
   "cell_type": "markdown",
   "metadata": {},
   "source": [
    "## **Convert DataTypes**\n",
    "<a id=\"encode_target\"></a>\n",
    "<p> For memory management, this first transformer converts 'object' datatypes to the less memory demanding 'category' data types. <br>\n",
    "    We also convert any 'float64' data types to 'float32' <br>"
   ]
  },
  {
   "cell_type": "code",
   "execution_count": 10,
   "metadata": {},
   "outputs": [],
   "source": [
    "class ConvertDataTypes(TransformerMixin,BaseEstimator):\n",
    "    \"\"\"\n",
    "    This transformer receives a dataframe and performs the following conversion:\n",
    "    \n",
    "    Any 'object' datatypes present are converted to 'category' datatype\n",
    "    Any 'float64' datatypes present are covnerted to 'float32' datatype\n",
    "    \n",
    "    Args: Pass a dataframe\n",
    "    \n",
    "    Returns: \n",
    "    A dataframe with the data types converted\n",
    "    \n",
    "    \"\"\"\n",
    "    def __init__(self):\n",
    "        pass\n",
    "    \n",
    "    def fit(self,df,y=None):\n",
    "        return self\n",
    "    \n",
    "    def transform(self,df): # pass the dataframe\n",
    "        '''\n",
    "        This transformer calls the convert_data_type function from the helpers_functions file. \n",
    "        '''\n",
    "        df = helpers.reduce_mem_usage(df)\n",
    "        \n",
    "        df = helpers.convert_data_type(df)\n",
    "        \n",
    "        return df"
   ]
  },
  {
   "cell_type": "code",
   "execution_count": 11,
   "metadata": {},
   "outputs": [
    {
     "name": "stdout",
     "output_type": "stream",
     "text": [
      "Memory usage of dataframe is 815.54 MB\n",
      "Memory usage after optimization is: 247.74 MB\n",
      "Decreased by 69.6%\n",
      "Train Set Size: (703252, 152)\n"
     ]
    }
   ],
   "source": [
    "# create transformer \n",
    "data_type_encoder = ConvertDataTypes()\n",
    "\n",
    "#fit transform dataset\n",
    "df = data_type_encoder.fit_transform(df)\n",
    "\n",
    "# confirm\n",
    "print(\"Train Set Size: {}\".format(df.shape))"
   ]
  },
  {
   "cell_type": "markdown",
   "metadata": {},
   "source": [
    "### <b> Split into Test, Train, Split<b>"
   ]
  },
  {
   "cell_type": "code",
   "execution_count": 12,
   "metadata": {},
   "outputs": [],
   "source": [
    "# split the data into two - a train set with 70% and 30% for validation and hold-out test\n",
    "train_set, set_b = train_test_split(df,test_size=0.30, random_state=2019, stratify=df['loan_status'])"
   ]
  },
  {
   "cell_type": "code",
   "execution_count": 13,
   "metadata": {},
   "outputs": [],
   "source": [
    "# we perform a second split here for test set and hold out test set\n",
    "test_set, hold_out_test = train_test_split(set_b,test_size=0.30, random_state=2019, stratify=set_b['loan_status'])"
   ]
  },
  {
   "cell_type": "code",
   "execution_count": 14,
   "metadata": {},
   "outputs": [
    {
     "name": "stdout",
     "output_type": "stream",
     "text": [
      "Train Set Shape (492276, 152), Test Set Shape (147683, 152)\n",
      "Hold Out Test Set Shape: (63293, 152)\n"
     ]
    }
   ],
   "source": [
    "print(\"Train Set Shape {}, Test Set Shape {}\".format(train_set.shape,test_set.shape))\n",
    "print(\"Hold Out Test Set Shape: {}\".format(hold_out_test.shape))"
   ]
  },
  {
   "cell_type": "code",
   "execution_count": 15,
   "metadata": {},
   "outputs": [
    {
     "data": {
      "image/png": "[encoded data removed]",
      "text/plain": [
       "<Figure size 842.4x187.2 with 1 Axes>"
      ]
     },
     "metadata": {},
     "output_type": "display_data"
    }
   ],
   "source": [
    "# review new distribution of our target feature\n",
    "sns.catplot(y=\"loan_status\", kind=\"count\", data=test_set, height=2.6, aspect=4.5, orient='h')\n",
    "plt.title('Test Set')\n",
    "plt.show();"
   ]
  },
  {
   "cell_type": "code",
   "execution_count": 16,
   "metadata": {},
   "outputs": [
    {
     "data": {
      "image/png": "[encoded data removed]",
      "text/plain": [
       "<Figure size 842.4x187.2 with 1 Axes>"
      ]
     },
     "metadata": {},
     "output_type": "display_data"
    }
   ],
   "source": [
    "# review new distribution of our target feature\n",
    "sns.catplot(y=\"loan_status\", kind=\"count\", data=train_set, height=2.6, aspect=4.5, orient='h')\n",
    "plt.title('Train Set')\n",
    "plt.show();"
   ]
  },
  {
   "cell_type": "code",
   "execution_count": 17,
   "metadata": {},
   "outputs": [
    {
     "data": {
      "image/png": "[encoded data removed]",
      "text/plain": [
       "<Figure size 842.4x187.2 with 1 Axes>"
      ]
     },
     "metadata": {},
     "output_type": "display_data"
    }
   ],
   "source": [
    "# review new distribution of our target feature\n",
    "sns.catplot(y=\"loan_status\", kind=\"count\", data=hold_out_test, height=2.6, aspect=4.5, orient='h')\n",
    "plt.title('Hold Out Test Set')\n",
    "plt.show();"
   ]
  },
  {
   "cell_type": "markdown",
   "metadata": {},
   "source": [
    "<h2><b> Pre-Process Transformers <b></h2>\n",
    "<a id=\"transformers\"></a>\n",
    "We will start our feature selection process during the cleaning phase. With the large number of features available in this dataset,<br> we will first target low hanging fruit i.e., features with a large % of Missing Values, low variance features as candidates for dropping. <p> \n",
    "    \n",
    "<p> We will also drop features as we proceed based on domain/common knowledge i.e., index columns,customer name columns <br>and data collected after a loan applicant has been approved i.e.Target Leak candidates </p>"
   ]
  },
  {
   "cell_type": "markdown",
   "metadata": {},
   "source": [
    "<h2><b> Drop Features <b></h2>\n",
    "<a id=\"drop_features\"></a>"
   ]
  },
  {
   "cell_type": "markdown",
   "metadata": {},
   "source": [
    "We will create a `transformer` that will handle dropping of the following features in our dataset\n",
    "\n",
    "* Irrelevant features that will not inform our final model i.e, indexes\n",
    "* Data Leakage features (see below)\n",
    "* Other features that we determine are not required\n",
    "\n",
    "<p> Data Leakage has to do with using features collected after our event of interest ..in this case, defaulting on a loan.<br>\n",
    "    To put it in another way, these features will not be available to you prior to making the decision whether you should give an <br>\n",
    "    individual a loan or not. The business has to make a decision prior with all the features that make it to our final model\n",
    "    \n",
    "More details on the link below.\n",
    "</p>  \n",
    "<p> <a href=\"https://machinelearningmastery.com/data-leakage-machine-learning/\">Data Leakage in Machine Learning</a></p>\n"
   ]
  },
  {
   "cell_type": "code",
   "execution_count": 18,
   "metadata": {},
   "outputs": [],
   "source": [
    "class DropFeatures(TransformerMixin,BaseEstimator):\n",
    "    \"\"\"\n",
    "    This transformer drops features passed in a list and returns\n",
    "    a dataframe with the features dropped.\n",
    "    \n",
    "    Args:\n",
    "    A list of feature names to be dropped and the dataframe object\n",
    "    Returns:\n",
    "    A dataframe with the features provided dropped. \n",
    "    \"\"\"\n",
    "       \n",
    "    def __init__(self,drop_candidates): # pass list of features to be dropped\n",
    "        self.to_drop = drop_candidates\n",
    "        pass\n",
    "    \n",
    "    def fit(self,df,y=None):\n",
    "        return self\n",
    "    \n",
    "    def transform(self,df):\n",
    "               \n",
    "        drop_features = []\n",
    "        for value in self.to_drop:\n",
    "            if value in df.columns:\n",
    "                drop_features.append(value)\n",
    "                \n",
    "        # Drop the features selected above passed in drop_candidates\n",
    "        return df.drop(labels=drop_features,axis=1) # return dataframe with dropped features"
   ]
  },
  {
   "cell_type": "code",
   "execution_count": 19,
   "metadata": {},
   "outputs": [],
   "source": [
    "# below is a list of features i have determined to either be target leak features or features\n",
    "# that will not inform our model\n",
    "leakage_not_required_features=['recoveries','collection_recovery_fee','last_pymnt_amnt','total_rec_prncp','title',\\\n",
    "                    'total_rec_int','total_rec_late_fee','last_pymnt_d','total_pymnt','funded_amnt',\\\n",
    "                      'total_pymnt_inv','last_credit_pull_d','issue_d','funded_amnt_inv','debt_settlement_flag',\\\n",
    "                'id','member_id','addr_state','zip_code','emp_title','payment_plan_start_date',\n",
    "                'last_fico_range_low','last_fico_range_high','url','issue_date', 'disbursement_method',\\\n",
    "                'desc', 'next_pymnt_d', 'orig_projected_additional_accrued_interest','next_pymnt_d']\n",
    "\n",
    "\n",
    "# we are not going to know payment plan features before providing a loan decision, hence we drop them\n",
    "payment_plan_features = [x for x in train_set.columns[train_set.columns.str.contains('payment')]]\n",
    "\n",
    "# we are not going to know settlement features before providing a loan decision, hence we drop them\n",
    "settlement_features = [x for x in train_set.columns[train_set.columns.str.contains('settlement')]]\n",
    "\n",
    "# hardship features are included if an individual starts facing difficulties during the \n",
    "# life of the loan. definetly information we will not have. hence we drop them\n",
    "hardship_features = [x for x in train_set.columns[train_set.columns.str.contains('hardship')]]\n",
    "\n",
    "# we combine the list of all the features identified above into one list\n",
    "features_to_drop = leakage_not_required_features + payment_plan_features + settlement_features + hardship_features"
   ]
  },
  {
   "cell_type": "code",
   "execution_count": 20,
   "metadata": {},
   "outputs": [
    {
     "name": "stdout",
     "output_type": "stream",
     "text": [
      "Number of features to be dropped including target leakeage features: 51\n",
      "\n",
      "Number of Payment plan features to be dropped: 2\n",
      "\n",
      "Number of Settlement features to be dropped: 2\n",
      "\n",
      "Number of Hardship features to be dropped: 12\n"
     ]
    }
   ],
   "source": [
    "print(\"Number of features to be dropped including target leakeage features: {}\".format(len(features_to_drop)))\n",
    "print(\"\")\n",
    "\n",
    "# drop_features\n",
    "print(\"Number of Payment plan features to be dropped: {}\".format(len(payment_plan_features)))\n",
    "print(\"\")\n",
    "print(\"Number of Settlement features to be dropped: {}\".format(len(payment_plan_features)))\n",
    "print(\"\")\n",
    "print(\"Number of Hardship features to be dropped: {}\".format(len(hardship_features)))"
   ]
  },
  {
   "cell_type": "code",
   "execution_count": 21,
   "metadata": {},
   "outputs": [
    {
     "name": "stdout",
     "output_type": "stream",
     "text": [
      "Train Set Size: (492276, 105), Test Set Size: (147683, 105)\n"
     ]
    }
   ],
   "source": [
    "#create transformer\n",
    "drop_features_transformer = DropFeatures(features_to_drop)\n",
    "\n",
    "# fit transform training set\n",
    "train_set = drop_features_transformer.fit_transform(train_set)\n",
    "\n",
    "#fit transform dataset\n",
    "test_set = drop_features_transformer.fit_transform(test_set)\n",
    "hold_out_test = drop_features_transformer.fit_transform(hold_out_test)\n",
    "\n",
    "# confirm\n",
    "print(\"Train Set Size: {}, Test Set Size: {}\".format(train_set.shape, test_set.shape))"
   ]
  },
  {
   "cell_type": "markdown",
   "metadata": {},
   "source": [
    "<h2><b> Drop Joint Applications <b></h2>\n",
    "<a id=\"drop_joint_applications\"></a>"
   ]
  },
  {
   "cell_type": "code",
   "execution_count": 22,
   "metadata": {},
   "outputs": [
    {
     "data": {
      "text/plain": [
       "Individual   0.96\n",
       "Joint App    0.04\n",
       "Name: application_type, dtype: float64"
      ]
     },
     "execution_count": 22,
     "metadata": {},
     "output_type": "execute_result"
    }
   ],
   "source": [
    "# check application type unique counts\n",
    "train_set.application_type.value_counts(normalize=True)"
   ]
  },
  {
   "cell_type": "code",
   "execution_count": 23,
   "metadata": {},
   "outputs": [
    {
     "data": {
      "image/png": "[encoded data removed]",
      "text/plain": [
       "<Figure size 842.4x187.2 with 1 Axes>"
      ]
     },
     "metadata": {},
     "output_type": "display_data"
    }
   ],
   "source": [
    "# review new distribution of our application types\n",
    "sns.catplot(y=\"application_type\", kind=\"count\", data=train_set, height=2.6, aspect=4.5, orient='h')\n",
    "plt.title('Train Set')\n",
    "plt.show();"
   ]
  },
  {
   "cell_type": "code",
   "execution_count": 24,
   "metadata": {},
   "outputs": [
    {
     "data": {
      "image/png": "[encoded data removed]",
      "text/plain": [
       "<Figure size 842.4x187.2 with 1 Axes>"
      ]
     },
     "metadata": {},
     "output_type": "display_data"
    }
   ],
   "source": [
    "# review new distribution of our application types\n",
    "sns.catplot(y=\"application_type\", kind=\"count\", data=test_set, height=2.6, aspect=4.5, orient='h')\n",
    "plt.title('2018 Test Set')\n",
    "plt.show();"
   ]
  },
  {
   "cell_type": "code",
   "execution_count": 25,
   "metadata": {},
   "outputs": [
    {
     "data": {
      "image/png": "[encoded data removed]",
      "text/plain": [
       "<Figure size 842.4x187.2 with 1 Axes>"
      ]
     },
     "metadata": {},
     "output_type": "display_data"
    }
   ],
   "source": [
    "# review new distribution of our application types\n",
    "sns.catplot(y=\"application_type\", kind=\"count\", data=hold_out_test, height=2.6, aspect=4.5, orient='h')\n",
    "plt.title('2019 Test Set')\n",
    "plt.show();"
   ]
  },
  {
   "cell_type": "markdown",
   "metadata": {},
   "source": [
    "<p> The output above shows that we have more examples of individual vs joint applications. We want to avoid imbalanced <br> features and more importantly, we can drop 17+ features related to joint applicants that will be otherwise missing. <br>\n",
    "Let's drop those observations and any joint application features available in the dataset i.e., joint & secondary applicant\n",
    "references <br>"
   ]
  },
  {
   "cell_type": "code",
   "execution_count": 26,
   "metadata": {},
   "outputs": [],
   "source": [
    "class DropJointApplications(TransformerMixin,BaseEstimator):\n",
    "    \"\"\"\n",
    "    This transformer drops feature names that match our strings of interest. \n",
    "    In our case, any references to sec & joint\n",
    "    \n",
    "    Args: \n",
    "    ---------------------------------------------\n",
    "    A datframe with our features\n",
    "    \n",
    "    Returns:\n",
    "    ---------------------------------------------\n",
    "    A dataframe without any features with references\n",
    "    to sec, join, hardship and settlement   \n",
    "    \n",
    "    \"\"\"\n",
    "       \n",
    "    def __init__(self):\n",
    "        pass\n",
    "    \n",
    "    def fit(self,df,y=None):\n",
    "        return self\n",
    "    \n",
    "    def transform(self,df):\n",
    "        # we can now assume all references to a secondary applicant start with sec\n",
    "        self.secondary_applicant_drop = [x for x in df.columns[df.columns.str.match('sec')]]\n",
    "        # retrieve columns that contain the word joint which is similar to the\n",
    "        self.secondary_applicant_drop_joint = [x for x in df.columns[df.columns.str.contains('joint')]]\n",
    "   \n",
    "        # Lets drop those features\n",
    "        df.drop(labels=self.secondary_applicant_drop + self.secondary_applicant_drop_joint,inplace=True,axis=1)\n",
    "        return df"
   ]
  },
  {
   "cell_type": "code",
   "execution_count": 27,
   "metadata": {},
   "outputs": [
    {
     "name": "stdout",
     "output_type": "stream",
     "text": [
      "Train Set Size: (492276, 89), Test Set Size: (147683, 89)\n"
     ]
    }
   ],
   "source": [
    "#create transformer\n",
    "drop_joint_applications_transformer = DropJointApplications()\n",
    "\n",
    "# fit transform training set\n",
    "train_set = drop_joint_applications_transformer.fit_transform(train_set)\n",
    "\n",
    "#fit transform dataset\n",
    "test_set = drop_joint_applications_transformer.fit_transform(test_set)\n",
    "hold_out_test = drop_joint_applications_transformer.fit_transform(hold_out_test)\n",
    "\n",
    "# confirm\n",
    "print(\"Train Set Size: {}, Test Set Size: {}\".format(train_set.shape, test_set.shape))"
   ]
  },
  {
   "cell_type": "markdown",
   "metadata": {},
   "source": [
    "<h2><b> Drop Duplicates <b></h2>\n",
    "<a id=\"drop_duplicates\"></a>"
   ]
  },
  {
   "cell_type": "markdown",
   "metadata": {},
   "source": [
    "Duplicate values decrease the performance of some models. We will drop duplicate observations in the dataset"
   ]
  },
  {
   "cell_type": "code",
   "execution_count": 28,
   "metadata": {},
   "outputs": [],
   "source": [
    "class DropDuplicates(TransformerMixin,BaseEstimator):\n",
    "    \"\"\"\n",
    "    This transformer drops duplicate observations in the dataset\n",
    "    \n",
    "    Args:\n",
    "    a dataframe\n",
    "    \n",
    "    Returns:\n",
    "    a datframe with all duplicates observations dropped\n",
    "    \n",
    "    \"\"\"\n",
    "       \n",
    "    def __init__(self):\n",
    "        pass\n",
    "    \n",
    "    def fit(self,df,y=None):\n",
    "        return self\n",
    "    \n",
    "    def transform(self,df):\n",
    "        # use the pandas function drop duplicates\n",
    "        df.drop_duplicates(inplace=True)\n",
    "        return df"
   ]
  },
  {
   "cell_type": "code",
   "execution_count": 29,
   "metadata": {},
   "outputs": [
    {
     "name": "stdout",
     "output_type": "stream",
     "text": [
      "Train Set Size: (492276, 89), Test Set Size: (147683, 89)\n"
     ]
    }
   ],
   "source": [
    "#create transformer\n",
    "drop_duplicates = DropDuplicates()\n",
    "\n",
    "# fit transform training set\n",
    "train_set = drop_duplicates.fit_transform(train_set)\n",
    "\n",
    "#fit transform dataset\n",
    "test_set = drop_duplicates.fit_transform(test_set)\n",
    "hold_out_test = drop_duplicates.fit_transform(hold_out_test)\n",
    "\n",
    "# confirm\n",
    "print(\"Train Set Size: {}, Test Set Size: {}\".format(train_set.shape, test_set.shape))"
   ]
  },
  {
   "cell_type": "markdown",
   "metadata": {},
   "source": [
    "<h2><b> Low Variance Features <b></h2>\n",
    "<a id=\"single_unique\"></a>"
   ]
  },
  {
   "cell_type": "markdown",
   "metadata": {},
   "source": [
    "<p> Single unique values do not provide enough variance to benefit a ML algorithm. <p> \n",
    "<p> A feature with all zero would not be able to discriminate instances from the different loan status classes <p>"
   ]
  },
  {
   "cell_type": "code",
   "execution_count": 30,
   "metadata": {},
   "outputs": [],
   "source": [
    "class LowVarianceTransformer(TransformerMixin,BaseEstimator):\n",
    "    \"\"\"\n",
    "    This transformer drops features with single unique values\n",
    "    \n",
    "    Args:\n",
    "    a dataframe\n",
    "    \n",
    "    Returns:\n",
    "    a dataframe with all features with single unique values\n",
    "    dropped\n",
    "    \n",
    "    \"\"\"\n",
    "       \n",
    "    def __init__(self):\n",
    "        pass\n",
    "    \n",
    "    def fit(self,df,y=None):\n",
    "        return self\n",
    "    \n",
    "    def transform(self,df):\n",
    "        \"\"\"\n",
    "        Call function that drops single unique values given a \n",
    "        dataframe\n",
    "        \"\"\"\n",
    "        \n",
    "        df = helpers.drop_low_variance_features(df)\n",
    "        \n",
    "        return df"
   ]
  },
  {
   "cell_type": "code",
   "execution_count": 31,
   "metadata": {},
   "outputs": [
    {
     "name": "stdout",
     "output_type": "stream",
     "text": [
      "The number of features with single unique values is 2\n",
      "The number of features with single unique values is 2\n",
      "The number of features with single unique values is 2\n",
      "Train Set Size: (492276, 87), Test Set Size: (147683, 87)\n"
     ]
    }
   ],
   "source": [
    "#create transformer\n",
    "drop_low_variance= LowVarianceTransformer()\n",
    "\n",
    "# fit transform training set\n",
    "train_set = drop_low_variance.fit_transform(train_set)\n",
    "\n",
    "#fit transform dataset\n",
    "test_set = drop_low_variance.fit_transform(test_set)\n",
    "hold_out_test = drop_low_variance.fit_transform(hold_out_test)\n",
    "\n",
    "# confirm\n",
    "print(\"Train Set Size: {}, Test Set Size: {}\".format(train_set.shape, test_set.shape))"
   ]
  },
  {
   "cell_type": "code",
   "execution_count": 32,
   "metadata": {},
   "outputs": [
    {
     "name": "stdout",
     "output_type": "stream",
     "text": [
      "Your selected dataframe has 87 columns.\n",
      "There are 61 columns that have missing values.\n"
     ]
    },
    {
     "data": {
      "text/html": [
       "<div>\n",
       "<style scoped>\n",
       "    .dataframe tbody tr th:only-of-type {\n",
       "        vertical-align: middle;\n",
       "    }\n",
       "\n",
       "    .dataframe tbody tr th {\n",
       "        vertical-align: top;\n",
       "    }\n",
       "\n",
       "    .dataframe thead th {\n",
       "        text-align: right;\n",
       "    }\n",
       "</style>\n",
       "<table border=\"1\" class=\"dataframe\">\n",
       "  <thead>\n",
       "    <tr style=\"text-align: right;\">\n",
       "      <th></th>\n",
       "      <th>Missing Values</th>\n",
       "      <th>% of Total Values</th>\n",
       "    </tr>\n",
       "  </thead>\n",
       "  <tbody>\n",
       "    <tr>\n",
       "      <th>mths_since_last_record</th>\n",
       "      <td>399265</td>\n",
       "      <td>81.10</td>\n",
       "    </tr>\n",
       "    <tr>\n",
       "      <th>mths_since_recent_bc_dlq</th>\n",
       "      <td>371973</td>\n",
       "      <td>75.60</td>\n",
       "    </tr>\n",
       "    <tr>\n",
       "      <th>mths_since_last_major_derog</th>\n",
       "      <td>353495</td>\n",
       "      <td>71.80</td>\n",
       "    </tr>\n",
       "    <tr>\n",
       "      <th>mths_since_recent_revol_delinq</th>\n",
       "      <td>322262</td>\n",
       "      <td>65.50</td>\n",
       "    </tr>\n",
       "    <tr>\n",
       "      <th>mths_since_last_delinq</th>\n",
       "      <td>241447</td>\n",
       "      <td>49.00</td>\n",
       "    </tr>\n",
       "    <tr>\n",
       "      <th>il_util</th>\n",
       "      <td>157262</td>\n",
       "      <td>31.90</td>\n",
       "    </tr>\n",
       "    <tr>\n",
       "      <th>mths_since_rcnt_il</th>\n",
       "      <td>115102</td>\n",
       "      <td>23.40</td>\n",
       "    </tr>\n",
       "    <tr>\n",
       "      <th>all_util</th>\n",
       "      <td>104715</td>\n",
       "      <td>21.30</td>\n",
       "    </tr>\n",
       "    <tr>\n",
       "      <th>total_cu_tl</th>\n",
       "      <td>104673</td>\n",
       "      <td>21.30</td>\n",
       "    </tr>\n",
       "    <tr>\n",
       "      <th>inq_last_12m</th>\n",
       "      <td>104673</td>\n",
       "      <td>21.30</td>\n",
       "    </tr>\n",
       "    <tr>\n",
       "      <th>open_acc_6m</th>\n",
       "      <td>104673</td>\n",
       "      <td>21.30</td>\n",
       "    </tr>\n",
       "    <tr>\n",
       "      <th>total_bal_il</th>\n",
       "      <td>104672</td>\n",
       "      <td>21.30</td>\n",
       "    </tr>\n",
       "    <tr>\n",
       "      <th>max_bal_bc</th>\n",
       "      <td>104672</td>\n",
       "      <td>21.30</td>\n",
       "    </tr>\n",
       "    <tr>\n",
       "      <th>open_rv_24m</th>\n",
       "      <td>104672</td>\n",
       "      <td>21.30</td>\n",
       "    </tr>\n",
       "    <tr>\n",
       "      <th>open_rv_12m</th>\n",
       "      <td>104672</td>\n",
       "      <td>21.30</td>\n",
       "    </tr>\n",
       "  </tbody>\n",
       "</table>\n",
       "</div>"
      ],
      "text/plain": [
       "                                Missing Values  % of Total Values\n",
       "mths_since_last_record                  399265              81.10\n",
       "mths_since_recent_bc_dlq                371973              75.60\n",
       "mths_since_last_major_derog             353495              71.80\n",
       "mths_since_recent_revol_delinq          322262              65.50\n",
       "mths_since_last_delinq                  241447              49.00\n",
       "il_util                                 157262              31.90\n",
       "mths_since_rcnt_il                      115102              23.40\n",
       "all_util                                104715              21.30\n",
       "total_cu_tl                             104673              21.30\n",
       "inq_last_12m                            104673              21.30\n",
       "open_acc_6m                             104673              21.30\n",
       "total_bal_il                            104672              21.30\n",
       "max_bal_bc                              104672              21.30\n",
       "open_rv_24m                             104672              21.30\n",
       "open_rv_12m                             104672              21.30"
      ]
     },
     "execution_count": 32,
     "metadata": {},
     "output_type": "execute_result"
    }
   ],
   "source": [
    "# check number of features with missing values in the dataset\n",
    "helpers.missing_values_table(train_set).head(15)"
   ]
  },
  {
   "cell_type": "markdown",
   "metadata": {},
   "source": [
    "<h2><b> Impute Numerical Features <b></h2>\n",
    "<a id=\"impute_numerical\"></a>"
   ]
  },
  {
   "cell_type": "markdown",
   "metadata": {},
   "source": [
    "We create a `transformer` that will handle imputing numerical features. We will impute specific 'count' features that <br>\n",
    "would be penalized  if replaced with a mean or median. These features are relevant in the sense that having an occurence <br>\n",
    "of them is significant i.e., number of charged_off_accounts. The difference between having 1 or more charged_off_accounts <br>\n",
    "and having none (0) means a lot as the latter signifies a discplined clean record  while the former has shown that they <br>\n",
    "are capable of 'defaulting' on an account. Imputing such features with a mean or a median does not  make any sense as they <br>\n",
    "will 'penalize' the observation uncessarily "
   ]
  },
  {
   "cell_type": "code",
   "execution_count": 33,
   "metadata": {},
   "outputs": [],
   "source": [
    "class ReplaceWithValue(TransformerMixin,BaseEstimator):\n",
    "    \"\"\"\n",
    "    This transformer imputes missing  categoricals by replacing them \n",
    "    with the median value.\n",
    "    \n",
    "    Args:\n",
    "    features set: A dataframe\n",
    "    \n",
    "    Returns: \n",
    "    A dataframe with numerical features imputed\n",
    "    \"\"\"\n",
    "    def __init__(self, replace_with_value = None):\n",
    "        self.replace_with_value = replace_with_value\n",
    "        pass\n",
    "    \n",
    "    def fit(self,df,y=None):\n",
    "        return self\n",
    "    \n",
    "    def transform(self,df):\n",
    "        \"\"\"\n",
    "        Call function that imputes missing values in features\n",
    "        passed with a specific value. In this instance the default\n",
    "        replacement value is 0 \n",
    "        \"\"\"\n",
    "        \n",
    "        features_to_impute = []\n",
    "        \n",
    "        for value in self.replace_with_value:\n",
    "            if value in df.columns:\n",
    "                features_to_impute.append(value)        \n",
    "        \n",
    "        \n",
    "        return helpers.impute_numerical_features(df,features_to_impute=features_to_impute)\n",
    "    "
   ]
  },
  {
   "cell_type": "markdown",
   "metadata": {},
   "source": [
    "Below code selects features that are 'counts' of observations i.e., months since last derogatory account, number of open accounts etc. <br>\n",
    "\n",
    "We will replace all missing instances with zero instead of a median or mean value. "
   ]
  },
  {
   "cell_type": "code",
   "execution_count": 34,
   "metadata": {},
   "outputs": [],
   "source": [
    "mths_since = [x for x in train_set.columns[train_set.columns.str.match('mths_since')]]\n",
    "inquiries_since = [x for x in train_set.columns[train_set.columns.str.match('inq_')]]\n",
    "mo_since = [x for x in train_set.columns[train_set.columns.str.match('mo_sin')]]\n",
    "number_of_counts = [x for x in train_set.columns[train_set.columns.str.match('num_')]]\n",
    "number_of_open_a = [x for x in train_set.columns[train_set.columns.str.match('open_')]]\n",
    "number_of_open_b = [x for x in train_set.columns[train_set.columns.str.match('acc_now')]]\n",
    "number_of_open_c = [x for x in train_set.columns[train_set.columns.str.match('chargeoff_within')]]\n",
    "number_of_open_d = [x for x in train_set.columns[train_set.columns.str.match('inq_last')]]\n",
    "number_of_open_e = [x for x in train_set.columns[train_set.columns.str.match('mort_')]]\n",
    "\n",
    "# ['num_tl_120dpd_2m',  'acc_now_delinq', 'num_tl_30dpd']\n",
    "                                                                             \n",
    "replace_with_zero = number_of_open_a + number_of_open_b +\\\n",
    "                    number_of_open_c + number_of_open_d +\\\n",
    "                    number_of_open_d + number_of_open_e +\\\n",
    "                    mths_since + number_of_counts +\\\n",
    "                    mo_since + inquiries_since"
   ]
  },
  {
   "cell_type": "code",
   "execution_count": 35,
   "metadata": {},
   "outputs": [
    {
     "name": "stdout",
     "output_type": "stream",
     "text": [
      "43 features have been imputed with 0 value\n",
      "43 features have been imputed with 0 value\n",
      "43 features have been imputed with 0 value\n",
      "Train Set Size: (492276, 87), Test Set Size: (147683, 87)\n"
     ]
    }
   ],
   "source": [
    "replace_with_value = ReplaceWithValue(replace_with_zero)\n",
    "\n",
    "# fit transform train set\n",
    "train_set = replace_with_value.fit_transform(train_set)\n",
    "\n",
    "#fit transform dataset\n",
    "test_set = replace_with_value.fit_transform(test_set)\n",
    "hold_out_test = replace_with_value.fit_transform(hold_out_test)\n",
    "\n",
    "# confirm\n",
    "print(\"Train Set Size: {}, Test Set Size: {}\".format(train_set.shape, test_set.shape))"
   ]
  },
  {
   "cell_type": "markdown",
   "metadata": {},
   "source": [
    "<h2><b> Feature Extraction <b></h2>\n",
    "<a id=\"feature_extraction\"></a>\n",
    "\n",
    "`Feature extraction`, not to be confused by `Feature Engineering` or feature selection in my opinion deals with extracting features from the <br>\n",
    "existing features. Feature engineering aims to create new features and dimension reduction techniques come up with completly new features that are <br>\n",
    "representative of the orginial data . <br>\n",
    "<br>\n",
    "We will create the `transformer` below to perform feature extraction on the dataset"
   ]
  },
  {
   "cell_type": "code",
   "execution_count": 36,
   "metadata": {},
   "outputs": [],
   "source": [
    "class FeatureExtraction(TransformerMixin,BaseEstimator):\n",
    "    \n",
    "    \"\"\"\n",
    "    This transformer takes as input a dataframe and a list of features. It then\n",
    "    strips the strings values and leaves only the numerical values resulting in a numeric feature. \n",
    "    \n",
    "    As a secondary step, it also maintains the category dtype for categorical features. \n",
    "    \n",
    "    Args: a dataframe, list of  features to be extracted\n",
    "    \n",
    "    Returns: a dataframe with features extracted\n",
    "     \n",
    "    \"\"\"\n",
    "    \n",
    "    def __init__(self,features_to_extract, convert_to_category): # pass list of features with potential numerical values\n",
    "        self.features = features_to_extract\n",
    "        self.convert_cats = convert_to_category\n",
    "        pass\n",
    "    \n",
    "    def fit(self,df,y=None):\n",
    "        return self\n",
    "    \n",
    "    def transform(self,df):\n",
    "        # calls a function for the helpers file that extract numerical features from a list passed\n",
    "        return helpers.extract_numerical_features(df,\n",
    "                                                  feature_names_to_extract=self.features,\n",
    "                                                  convert_to_categorical=self.convert_cats)"
   ]
  },
  {
   "cell_type": "code",
   "execution_count": 37,
   "metadata": {},
   "outputs": [],
   "source": [
    "# variable for feature extractor - pass features you want to extract numerical\n",
    "features_to_extract = ['term','emp_length','earliest_cr_line']\n",
    "convert_to_categorical_dtype = ['term','emp_length']"
   ]
  },
  {
   "cell_type": "code",
   "execution_count": 38,
   "metadata": {},
   "outputs": [
    {
     "name": "stdout",
     "output_type": "stream",
     "text": [
      "Train Set Size: (492276, 87), Test Set Size: (147683, 87)\n"
     ]
    }
   ],
   "source": [
    "#create transformer\n",
    "feature_extractor = FeatureExtraction(features_to_extract,convert_to_category = convert_to_categorical_dtype)\n",
    "\n",
    "# fit transform training set\n",
    "train_set = feature_extractor.fit_transform(train_set)\n",
    "\n",
    "#fit transform dataset\n",
    "test_set = feature_extractor.fit_transform(test_set)\n",
    "hold_out_test = feature_extractor.fit_transform(hold_out_test)\n",
    "\n",
    "# confirm\n",
    "print(\"Train Set Size: {}, Test Set Size: {}\".format(train_set.shape, test_set.shape))"
   ]
  },
  {
   "cell_type": "markdown",
   "metadata": {},
   "source": [
    "<h2><b> Handle Missing Values - Drop Using Threshold <b></h2>\n",
    "<a id=\"missing_features\"></a>"
   ]
  },
  {
   "cell_type": "markdown",
   "metadata": {},
   "source": [
    "We will create a `transformer` that will handle dropping of features with missing values and scenarios where imputation should work. This transformer uses a threshold of 80%. We will still inspect <br>\n",
    "the selected features to be dropped to determine if any of them are informative enough for techniques like binning or transforming them into  binary categories. <br>\n",
    "\n",
    "Missing values should be investigated during the exploratory phase to determine why the values are missing and if so, what steps can be taken upstream to ensure they come down the pipeline <br>\n",
    "in a desired format. Organizations with mature data governance shops might see less of these types of issues. <br>\n",
    " "
   ]
  },
  {
   "cell_type": "code",
   "execution_count": 39,
   "metadata": {},
   "outputs": [],
   "source": [
    "class DropMissingTransformer(TransformerMixin,BaseEstimator):\n",
    "    \"\"\"\n",
    "    This transformer drops features with greater than 80% of features missing.  \n",
    "    \n",
    "    Args:\n",
    "    features set: A dataframe\n",
    "    drop threshold: optional field with the target % features to be dropped. default is 80\n",
    "    \n",
    "    Returns: \n",
    "    A dataframe without features with greater than the specified amount of missing values\n",
    "    \"\"\"\n",
    "    def __init__(self,drop_threshold = 80):\n",
    "        self.threshold_for_drop = drop_threshold\n",
    "        pass\n",
    "    \n",
    "    def fit(self,df,y=None):\n",
    "        return self\n",
    "    \n",
    "    def transform(self,df):\n",
    "        # this function calls the helpers - drop_features_with miss function\n",
    "        return helpers.drop_features_with_missing_values(df,threshold_value=self.threshold_for_drop)\n",
    "    "
   ]
  },
  {
   "cell_type": "code",
   "execution_count": 40,
   "metadata": {},
   "outputs": [
    {
     "name": "stdout",
     "output_type": "stream",
     "text": [
      "Train Set Size: (492276, 87), Test Set Size: (147683, 87)\n"
     ]
    }
   ],
   "source": [
    "#create transformer\n",
    "drop_missing= DropMissingTransformer()\n",
    "\n",
    "# fit transform training set\n",
    "train_set = drop_missing.fit_transform(train_set)\n",
    "\n",
    "#fit transform dataset\n",
    "test_set = drop_missing.fit_transform(test_set)\n",
    "hold_out_test = drop_missing.fit_transform(hold_out_test)\n",
    "\n",
    "# confirm\n",
    "print(\"Train Set Size: {}, Test Set Size: {}\".format(train_set.shape, test_set.shape))"
   ]
  },
  {
   "cell_type": "code",
   "execution_count": 41,
   "metadata": {},
   "outputs": [
    {
     "name": "stdout",
     "output_type": "stream",
     "text": [
      "Your selected dataframe has 87 columns.\n",
      "There are 24 columns that have missing values.\n"
     ]
    },
    {
     "data": {
      "text/html": [
       "<div>\n",
       "<style scoped>\n",
       "    .dataframe tbody tr th:only-of-type {\n",
       "        vertical-align: middle;\n",
       "    }\n",
       "\n",
       "    .dataframe tbody tr th {\n",
       "        vertical-align: top;\n",
       "    }\n",
       "\n",
       "    .dataframe thead th {\n",
       "        text-align: right;\n",
       "    }\n",
       "</style>\n",
       "<table border=\"1\" class=\"dataframe\">\n",
       "  <thead>\n",
       "    <tr style=\"text-align: right;\">\n",
       "      <th></th>\n",
       "      <th>Missing Values</th>\n",
       "      <th>% of Total Values</th>\n",
       "    </tr>\n",
       "  </thead>\n",
       "  <tbody>\n",
       "    <tr>\n",
       "      <th>il_util</th>\n",
       "      <td>157262</td>\n",
       "      <td>31.90</td>\n",
       "    </tr>\n",
       "    <tr>\n",
       "      <th>all_util</th>\n",
       "      <td>104715</td>\n",
       "      <td>21.30</td>\n",
       "    </tr>\n",
       "    <tr>\n",
       "      <th>total_cu_tl</th>\n",
       "      <td>104673</td>\n",
       "      <td>21.30</td>\n",
       "    </tr>\n",
       "    <tr>\n",
       "      <th>total_bal_il</th>\n",
       "      <td>104672</td>\n",
       "      <td>21.30</td>\n",
       "    </tr>\n",
       "    <tr>\n",
       "      <th>max_bal_bc</th>\n",
       "      <td>104672</td>\n",
       "      <td>21.30</td>\n",
       "    </tr>\n",
       "    <tr>\n",
       "      <th>emp_length</th>\n",
       "      <td>34025</td>\n",
       "      <td>6.90</td>\n",
       "    </tr>\n",
       "    <tr>\n",
       "      <th>bc_util</th>\n",
       "      <td>10961</td>\n",
       "      <td>2.20</td>\n",
       "    </tr>\n",
       "    <tr>\n",
       "      <th>percent_bc_gt_75</th>\n",
       "      <td>10751</td>\n",
       "      <td>2.20</td>\n",
       "    </tr>\n",
       "    <tr>\n",
       "      <th>bc_open_to_buy</th>\n",
       "      <td>10682</td>\n",
       "      <td>2.20</td>\n",
       "    </tr>\n",
       "    <tr>\n",
       "      <th>pct_tl_nvr_dlq</th>\n",
       "      <td>7289</td>\n",
       "      <td>1.50</td>\n",
       "    </tr>\n",
       "  </tbody>\n",
       "</table>\n",
       "</div>"
      ],
      "text/plain": [
       "                  Missing Values  % of Total Values\n",
       "il_util                   157262              31.90\n",
       "all_util                  104715              21.30\n",
       "total_cu_tl               104673              21.30\n",
       "total_bal_il              104672              21.30\n",
       "max_bal_bc                104672              21.30\n",
       "emp_length                 34025               6.90\n",
       "bc_util                    10961               2.20\n",
       "percent_bc_gt_75           10751               2.20\n",
       "bc_open_to_buy             10682               2.20\n",
       "pct_tl_nvr_dlq              7289               1.50"
      ]
     },
     "execution_count": 41,
     "metadata": {},
     "output_type": "execute_result"
    }
   ],
   "source": [
    "# check number of features with missing values in the dataset\n",
    "helpers.missing_values_table(train_set).head(10)"
   ]
  },
  {
   "cell_type": "markdown",
   "metadata": {},
   "source": [
    "<h2><b> Impute Categorical Features <b></h2>\n",
    "<a id=\"impute_categorical\"></a>"
   ]
  },
  {
   "cell_type": "markdown",
   "metadata": {},
   "source": [
    "We will create a `transformer` that will handle imputing categorical features <br>"
   ]
  },
  {
   "cell_type": "code",
   "execution_count": 42,
   "metadata": {},
   "outputs": [],
   "source": [
    "class Impute_Categorical_Features(TransformerMixin,BaseEstimator):\n",
    "    \"\"\"\n",
    "    This transformer imputes missing  categoricals by replacing them \n",
    "    with the most frequent occurence in the feature. It uses the sklearn_pandas\n",
    "    library and replaces missing values with the most frequent occurence\n",
    "    \n",
    "    It will determine categorical features using the dtype 'category'\n",
    "    \n",
    "    Args:\n",
    "    features set: A dataframe\n",
    "    \n",
    "    Returns: \n",
    "    A dataframe with categorical features imputed\n",
    "    \"\"\"\n",
    "    def __init__(self):\n",
    "        pass\n",
    "    \n",
    "    def fit(self,df,y=None):\n",
    "        return self\n",
    "    \n",
    "    def transform(self,df):\n",
    "        '''\n",
    "        create a list of categorical features by identifying\n",
    "        them using the dtype ='category'\n",
    "        '''\n",
    "        df = helpers.impute_features(df,strategy='most_frequent')\n",
    "        return df"
   ]
  },
  {
   "cell_type": "code",
   "execution_count": 43,
   "metadata": {},
   "outputs": [
    {
     "name": "stdout",
     "output_type": "stream",
     "text": [
      "Train Set Size: (492276, 87), Test Set Size: (147683, 87)\n"
     ]
    }
   ],
   "source": [
    "#create transformer\n",
    "cat_imputer = Impute_Categorical_Features()\n",
    "\n",
    "# fit transform training set\n",
    "train_set = cat_imputer.fit_transform(train_set)\n",
    "\n",
    "#fit transform dataset\n",
    "test_set = cat_imputer.fit_transform(test_set)\n",
    "hold_out_test = cat_imputer.fit_transform(hold_out_test)\n",
    "\n",
    "# confirm\n",
    "print(\"Train Set Size: {}, Test Set Size: {}\".format(train_set.shape, test_set.shape))"
   ]
  },
  {
   "cell_type": "markdown",
   "metadata": {},
   "source": [
    "<h2> <b> Category Encoding </b> </h2>\n",
    "<a id=\"category_encoder\"></a>\n",
    "\n",
    "`Categorical Data`, as the name suggests refers to data that is grouped into different categories such that each variable can take on a limited, or typically <br>\n",
    "fixed number of possible values, thus assigning each individual to a particular category. <br>\n",
    "\n",
    "Different types of categorical data exist today in literature. \n",
    "\n",
    "`Nominal Data` - Defines categorical data without any natural order i.e., dataset that has favourite pie as a feature representing different categories (pies) <br>\n",
    "`Ordinal Data` - As the name implies, this is categorical data that has a ranking order i.e., first grade, second grade, third grade <br>\n",
    "\n",
    "In general, how we handle such features slightly varies depending on the algorithms we are planning to use. We will use the category_encoders libarary <br>\n",
    "to perform the encoding of our categorical data. \n",
    "\n",
    "As a note, there are different types of categorical encoding schemes available including `Binary encoding`,  `One Hot Encoding (OHE)` etc. <br>\n",
    "\n",
    "Some literature highlights that tree-based algorithms are not affected by OneHotEncoding while other say they do. See article below. \n",
    "<p> <a href=\"https://roamanalytics.com/2016/10/28/are-categorical-variables-getting-lost-in-your-random-forests//\">RomanticAnalytics take on OneHotEncoding</a></p>\n",
    "\n",
    "For ordered features, we will use the ordinal encoder to maintain the relationship in heirarchy \n"
   ]
  },
  {
   "cell_type": "code",
   "execution_count": 44,
   "metadata": {},
   "outputs": [],
   "source": [
    "class Ordinal_Encoder(TransformerMixin,BaseEstimator):\n",
    "    \"\"\"\n",
    "    This transformer takes as input a dataframe and encodes\n",
    "    pre-selected features passed as a list.\n",
    "    \n",
    "    Args:\n",
    "    a dataframe and ordinal features\n",
    "    \n",
    "    Returns: \n",
    "    a dataframe containing encoded categorical features\n",
    "    \n",
    "    \"\"\"\n",
    "    def __init__(self,strategy,list_of_features):\n",
    "        self.list_of_features = list_of_features\n",
    "        self.strategy = strategy\n",
    "        pass\n",
    "    \n",
    "    def fit(self,df,y=None):\n",
    "        return self\n",
    "    \n",
    "    def transform(self,df): # pass the dataframe \n",
    "        # catboost ordinal encoder uses the target variable to determine the encodings\n",
    "        dataframe = helpers.encode_categorical_features(df,self.strategy,self.list_of_features)\n",
    "        return dataframe"
   ]
  },
  {
   "cell_type": "code",
   "execution_count": 45,
   "metadata": {},
   "outputs": [
    {
     "data": {
      "text/html": [
       "<div>\n",
       "<style scoped>\n",
       "    .dataframe tbody tr th:only-of-type {\n",
       "        vertical-align: middle;\n",
       "    }\n",
       "\n",
       "    .dataframe tbody tr th {\n",
       "        vertical-align: top;\n",
       "    }\n",
       "\n",
       "    .dataframe thead th {\n",
       "        text-align: right;\n",
       "    }\n",
       "</style>\n",
       "<table border=\"1\" class=\"dataframe\">\n",
       "  <thead>\n",
       "    <tr style=\"text-align: right;\">\n",
       "      <th></th>\n",
       "      <th>term</th>\n",
       "      <th>grade</th>\n",
       "      <th>sub_grade</th>\n",
       "      <th>emp_length</th>\n",
       "      <th>home_ownership</th>\n",
       "      <th>verification_status</th>\n",
       "      <th>pymnt_plan</th>\n",
       "      <th>purpose</th>\n",
       "    </tr>\n",
       "  </thead>\n",
       "  <tbody>\n",
       "    <tr>\n",
       "      <th>434919</th>\n",
       "      <td>60.00</td>\n",
       "      <td>F</td>\n",
       "      <td>F2</td>\n",
       "      <td>3.00</td>\n",
       "      <td>MORTGAGE</td>\n",
       "      <td>Not Verified</td>\n",
       "      <td>n</td>\n",
       "      <td>home_improvement</td>\n",
       "    </tr>\n",
       "    <tr>\n",
       "      <th>538383</th>\n",
       "      <td>36.00</td>\n",
       "      <td>A</td>\n",
       "      <td>A2</td>\n",
       "      <td>8.00</td>\n",
       "      <td>OWN</td>\n",
       "      <td>Source Verified</td>\n",
       "      <td>n</td>\n",
       "      <td>medical</td>\n",
       "    </tr>\n",
       "    <tr>\n",
       "      <th>450201</th>\n",
       "      <td>60.00</td>\n",
       "      <td>C</td>\n",
       "      <td>C3</td>\n",
       "      <td>10.00</td>\n",
       "      <td>MORTGAGE</td>\n",
       "      <td>Verified</td>\n",
       "      <td>n</td>\n",
       "      <td>debt_consolidation</td>\n",
       "    </tr>\n",
       "  </tbody>\n",
       "</table>\n",
       "</div>"
      ],
      "text/plain": [
       "        term grade sub_grade emp_length home_ownership verification_status  \\\n",
       "434919 60.00     F        F2       3.00       MORTGAGE        Not Verified   \n",
       "538383 36.00     A        A2       8.00            OWN     Source Verified   \n",
       "450201 60.00     C        C3      10.00       MORTGAGE            Verified   \n",
       "\n",
       "       pymnt_plan             purpose  \n",
       "434919          n    home_improvement  \n",
       "538383          n             medical  \n",
       "450201          n  debt_consolidation  "
      ]
     },
     "execution_count": 45,
     "metadata": {},
     "output_type": "execute_result"
    }
   ],
   "source": [
    "train_set.iloc[:,0:25].select_dtypes(include='category').sample(3)"
   ]
  },
  {
   "cell_type": "code",
   "execution_count": 46,
   "metadata": {},
   "outputs": [
    {
     "name": "stdout",
     "output_type": "stream",
     "text": [
      "Train Set Size: (492276, 87), Test Set Size: (147683, 87)\n"
     ]
    }
   ],
   "source": [
    "# ordinal features to encode using the ordinal encoder\n",
    "ordinals = ['grade','sub_grade']\n",
    "\n",
    "#create transformer\n",
    "ordinal_encoder =Ordinal_Encoder(strategy='ordinal',list_of_features=ordinals)\n",
    "\n",
    "# fit transform training set\n",
    "train_set = ordinal_encoder.fit_transform(train_set)\n",
    "\n",
    "#fit transform dataset\n",
    "test_set = ordinal_encoder.fit_transform(test_set)\n",
    "hold_out_test = ordinal_encoder.fit_transform(hold_out_test)\n",
    "\n",
    "# confirm\n",
    "print(\"Train Set Size: {}, Test Set Size: {}\".format(train_set.shape, test_set.shape))"
   ]
  },
  {
   "cell_type": "code",
   "execution_count": 47,
   "metadata": {},
   "outputs": [
    {
     "data": {
      "text/html": [
       "<div>\n",
       "<style scoped>\n",
       "    .dataframe tbody tr th:only-of-type {\n",
       "        vertical-align: middle;\n",
       "    }\n",
       "\n",
       "    .dataframe tbody tr th {\n",
       "        vertical-align: top;\n",
       "    }\n",
       "\n",
       "    .dataframe thead th {\n",
       "        text-align: right;\n",
       "    }\n",
       "</style>\n",
       "<table border=\"1\" class=\"dataframe\">\n",
       "  <thead>\n",
       "    <tr style=\"text-align: right;\">\n",
       "      <th></th>\n",
       "      <th>term</th>\n",
       "      <th>grade</th>\n",
       "      <th>sub_grade</th>\n",
       "      <th>emp_length</th>\n",
       "      <th>home_ownership</th>\n",
       "      <th>verification_status</th>\n",
       "      <th>pymnt_plan</th>\n",
       "      <th>purpose</th>\n",
       "    </tr>\n",
       "  </thead>\n",
       "  <tbody>\n",
       "    <tr>\n",
       "      <th>288116</th>\n",
       "      <td>60.00</td>\n",
       "      <td>3</td>\n",
       "      <td>15</td>\n",
       "      <td>3.00</td>\n",
       "      <td>RENT</td>\n",
       "      <td>Not Verified</td>\n",
       "      <td>n</td>\n",
       "      <td>debt_consolidation</td>\n",
       "    </tr>\n",
       "    <tr>\n",
       "      <th>487600</th>\n",
       "      <td>60.00</td>\n",
       "      <td>2</td>\n",
       "      <td>10</td>\n",
       "      <td>1.00</td>\n",
       "      <td>MORTGAGE</td>\n",
       "      <td>Verified</td>\n",
       "      <td>n</td>\n",
       "      <td>debt_consolidation</td>\n",
       "    </tr>\n",
       "    <tr>\n",
       "      <th>266868</th>\n",
       "      <td>36.00</td>\n",
       "      <td>3</td>\n",
       "      <td>15</td>\n",
       "      <td>1.00</td>\n",
       "      <td>RENT</td>\n",
       "      <td>Source Verified</td>\n",
       "      <td>n</td>\n",
       "      <td>credit_card</td>\n",
       "    </tr>\n",
       "  </tbody>\n",
       "</table>\n",
       "</div>"
      ],
      "text/plain": [
       "        term grade sub_grade emp_length home_ownership verification_status  \\\n",
       "288116 60.00     3        15       3.00           RENT        Not Verified   \n",
       "487600 60.00     2        10       1.00       MORTGAGE            Verified   \n",
       "266868 36.00     3        15       1.00           RENT     Source Verified   \n",
       "\n",
       "       pymnt_plan             purpose  \n",
       "288116          n  debt_consolidation  \n",
       "487600          n  debt_consolidation  \n",
       "266868          n         credit_card  "
      ]
     },
     "execution_count": 47,
     "metadata": {},
     "output_type": "execute_result"
    }
   ],
   "source": [
    "train_set.iloc[:,0:25].select_dtypes(include='category').sample(3)"
   ]
  },
  {
   "cell_type": "code",
   "execution_count": 48,
   "metadata": {},
   "outputs": [],
   "source": [
    "class Non_Ordinal_Encoder(TransformerMixin,BaseEstimator):\n",
    "    \"\"\"\n",
    "    This transformer takes as input a dataframe and encodes selected features. \n",
    "    \n",
    "    Args: a dataframe\n",
    "    \n",
    "    Returns: \n",
    "    a dataframe containing encoded categorical features. We use the JamesStein Encoder\n",
    "    \n",
    "    \"\"\"\n",
    "    def __init__(self,strategy,list_of_features):\n",
    "        self.list_of_features = list_of_features\n",
    "        self.strategy = strategy\n",
    "        pass\n",
    "    \n",
    "    def fit(self,df,y=None):\n",
    "        return self\n",
    "    \n",
    "    def transform(self,df): # pass the dataframe \n",
    "        # encoder uses the target variable to determine the encodings\n",
    "        # thus we will split the dataset as such, show below\n",
    "        dataframe = helpers.encode_categorical_features(df,self.strategy, self.list_of_features)\n",
    "        return dataframe    "
   ]
  },
  {
   "cell_type": "code",
   "execution_count": 49,
   "metadata": {},
   "outputs": [],
   "source": [
    "# ordinal features to exclude\n",
    "features_to_exclude = ['grade','sub_grade','emp_length','term']"
   ]
  },
  {
   "cell_type": "markdown",
   "metadata": {},
   "source": [
    "We exclude the features above as the transformer relies on the 'category' data type to single out features for encoding. <br>\n",
    "Loan status is also excluded in the function. "
   ]
  },
  {
   "cell_type": "code",
   "execution_count": 50,
   "metadata": {},
   "outputs": [
    {
     "name": "stdout",
     "output_type": "stream",
     "text": [
      "Train Set Size: (492276, 87), Test Set Size: (147683, 87)\n"
     ]
    }
   ],
   "source": [
    "#create transformer\n",
    "non_ordinal_encoder =Non_Ordinal_Encoder(strategy='non_ordinal',list_of_features=features_to_exclude)\n",
    "\n",
    "# fit transform training set\n",
    "train_set = non_ordinal_encoder.fit_transform(train_set)\n",
    "\n",
    "#fit transform dataset\n",
    "test_set = non_ordinal_encoder.fit_transform(test_set)\n",
    "hold_out_test = non_ordinal_encoder.fit_transform(hold_out_test)\n",
    "\n",
    "# confirm\n",
    "print(\"Train Set Size: {}, Test Set Size: {}\".format(train_set.shape, test_set.shape))"
   ]
  },
  {
   "cell_type": "code",
   "execution_count": 51,
   "metadata": {},
   "outputs": [
    {
     "data": {
      "text/html": [
       "<div>\n",
       "<style scoped>\n",
       "    .dataframe tbody tr th:only-of-type {\n",
       "        vertical-align: middle;\n",
       "    }\n",
       "\n",
       "    .dataframe tbody tr th {\n",
       "        vertical-align: top;\n",
       "    }\n",
       "\n",
       "    .dataframe thead th {\n",
       "        text-align: right;\n",
       "    }\n",
       "</style>\n",
       "<table border=\"1\" class=\"dataframe\">\n",
       "  <thead>\n",
       "    <tr style=\"text-align: right;\">\n",
       "      <th></th>\n",
       "      <th>term</th>\n",
       "      <th>grade</th>\n",
       "      <th>sub_grade</th>\n",
       "      <th>emp_length</th>\n",
       "      <th>home_ownership</th>\n",
       "      <th>verification_status</th>\n",
       "      <th>pymnt_plan</th>\n",
       "      <th>purpose</th>\n",
       "      <th>initial_list_status</th>\n",
       "      <th>application_type</th>\n",
       "    </tr>\n",
       "  </thead>\n",
       "  <tbody>\n",
       "    <tr>\n",
       "      <th>306022</th>\n",
       "      <td>36.00</td>\n",
       "      <td>2</td>\n",
       "      <td>9</td>\n",
       "      <td>10.00</td>\n",
       "      <td>0.57</td>\n",
       "      <td>0.70</td>\n",
       "      <td>0.61</td>\n",
       "      <td>0.62</td>\n",
       "      <td>0.67</td>\n",
       "      <td>0.60</td>\n",
       "    </tr>\n",
       "    <tr>\n",
       "      <th>397273</th>\n",
       "      <td>36.00</td>\n",
       "      <td>1</td>\n",
       "      <td>4</td>\n",
       "      <td>9.00</td>\n",
       "      <td>0.64</td>\n",
       "      <td>0.70</td>\n",
       "      <td>0.61</td>\n",
       "      <td>0.59</td>\n",
       "      <td>0.67</td>\n",
       "      <td>0.60</td>\n",
       "    </tr>\n",
       "  </tbody>\n",
       "</table>\n",
       "</div>"
      ],
      "text/plain": [
       "        term grade sub_grade emp_length home_ownership verification_status  \\\n",
       "306022 36.00     2         9      10.00           0.57                0.70   \n",
       "397273 36.00     1         4       9.00           0.64                0.70   \n",
       "\n",
       "       pymnt_plan purpose initial_list_status application_type  \n",
       "306022       0.61    0.62                0.67             0.60  \n",
       "397273       0.61    0.59                0.67             0.60  "
      ]
     },
     "execution_count": 51,
     "metadata": {},
     "output_type": "execute_result"
    }
   ],
   "source": [
    "# confirm categorical features have been encoded and ordinal features excluded\n",
    "train_set.select_dtypes(include='category').sample(2)"
   ]
  },
  {
   "cell_type": "code",
   "execution_count": 52,
   "metadata": {},
   "outputs": [
    {
     "data": {
      "text/html": [
       "<div>\n",
       "<style scoped>\n",
       "    .dataframe tbody tr th:only-of-type {\n",
       "        vertical-align: middle;\n",
       "    }\n",
       "\n",
       "    .dataframe tbody tr th {\n",
       "        vertical-align: top;\n",
       "    }\n",
       "\n",
       "    .dataframe thead th {\n",
       "        text-align: right;\n",
       "    }\n",
       "</style>\n",
       "<table border=\"1\" class=\"dataframe\">\n",
       "  <thead>\n",
       "    <tr style=\"text-align: right;\">\n",
       "      <th></th>\n",
       "      <th>loan_amnt</th>\n",
       "      <th>term</th>\n",
       "      <th>int_rate</th>\n",
       "      <th>installment</th>\n",
       "      <th>grade</th>\n",
       "      <th>sub_grade</th>\n",
       "      <th>emp_length</th>\n",
       "      <th>home_ownership</th>\n",
       "      <th>annual_inc</th>\n",
       "      <th>verification_status</th>\n",
       "      <th>pymnt_plan</th>\n",
       "      <th>purpose</th>\n",
       "      <th>dti</th>\n",
       "      <th>delinq_2yrs</th>\n",
       "      <th>earliest_cr_line</th>\n",
       "      <th>fico_range_low</th>\n",
       "      <th>fico_range_high</th>\n",
       "      <th>inq_last_6mths</th>\n",
       "      <th>mths_since_last_delinq</th>\n",
       "      <th>mths_since_last_record</th>\n",
       "      <th>open_acc</th>\n",
       "      <th>pub_rec</th>\n",
       "      <th>revol_bal</th>\n",
       "      <th>revol_util</th>\n",
       "      <th>total_acc</th>\n",
       "      <th>...</th>\n",
       "      <th>mths_since_recent_inq</th>\n",
       "      <th>mths_since_recent_revol_delinq</th>\n",
       "      <th>num_accts_ever_120_pd</th>\n",
       "      <th>num_actv_bc_tl</th>\n",
       "      <th>num_actv_rev_tl</th>\n",
       "      <th>num_bc_sats</th>\n",
       "      <th>num_bc_tl</th>\n",
       "      <th>num_il_tl</th>\n",
       "      <th>num_op_rev_tl</th>\n",
       "      <th>num_rev_accts</th>\n",
       "      <th>num_rev_tl_bal_gt_0</th>\n",
       "      <th>num_sats</th>\n",
       "      <th>num_tl_120dpd_2m</th>\n",
       "      <th>num_tl_30dpd</th>\n",
       "      <th>num_tl_90g_dpd_24m</th>\n",
       "      <th>num_tl_op_past_12m</th>\n",
       "      <th>pct_tl_nvr_dlq</th>\n",
       "      <th>percent_bc_gt_75</th>\n",
       "      <th>pub_rec_bankruptcies</th>\n",
       "      <th>tax_liens</th>\n",
       "      <th>tot_hi_cred_lim</th>\n",
       "      <th>total_bal_ex_mort</th>\n",
       "      <th>total_bc_limit</th>\n",
       "      <th>total_il_high_credit_limit</th>\n",
       "      <th>loan_status</th>\n",
       "    </tr>\n",
       "  </thead>\n",
       "  <tbody>\n",
       "    <tr>\n",
       "      <th>0</th>\n",
       "      <td>3200.00</td>\n",
       "      <td>36.00</td>\n",
       "      <td>7.96</td>\n",
       "      <td>100.25</td>\n",
       "      <td>1</td>\n",
       "      <td>5</td>\n",
       "      <td>3.00</td>\n",
       "      <td>0.57</td>\n",
       "      <td>75000.00</td>\n",
       "      <td>0.70</td>\n",
       "      <td>0.61</td>\n",
       "      <td>0.62</td>\n",
       "      <td>4.26</td>\n",
       "      <td>0.00</td>\n",
       "      <td>2011.00</td>\n",
       "      <td>710.00</td>\n",
       "      <td>714.00</td>\n",
       "      <td>0.00</td>\n",
       "      <td>0.00</td>\n",
       "      <td>0.00</td>\n",
       "      <td>3.00</td>\n",
       "      <td>0.00</td>\n",
       "      <td>3202.00</td>\n",
       "      <td>25.41</td>\n",
       "      <td>3.00</td>\n",
       "      <td>...</td>\n",
       "      <td>9.00</td>\n",
       "      <td>0.00</td>\n",
       "      <td>0.00</td>\n",
       "      <td>1.00</td>\n",
       "      <td>1.00</td>\n",
       "      <td>2.00</td>\n",
       "      <td>2.00</td>\n",
       "      <td>1.00</td>\n",
       "      <td>2.00</td>\n",
       "      <td>2.00</td>\n",
       "      <td>1.00</td>\n",
       "      <td>3.00</td>\n",
       "      <td>0.00</td>\n",
       "      <td>0.00</td>\n",
       "      <td>0.00</td>\n",
       "      <td>0.00</td>\n",
       "      <td>100.00</td>\n",
       "      <td>0.00</td>\n",
       "      <td>0.00</td>\n",
       "      <td>0.00</td>\n",
       "      <td>29100.00</td>\n",
       "      <td>15406.00</td>\n",
       "      <td>12600.00</td>\n",
       "      <td>16500.00</td>\n",
       "      <td>1</td>\n",
       "    </tr>\n",
       "    <tr>\n",
       "      <th>1</th>\n",
       "      <td>30800.00</td>\n",
       "      <td>60.00</td>\n",
       "      <td>17.09</td>\n",
       "      <td>767.00</td>\n",
       "      <td>4</td>\n",
       "      <td>16</td>\n",
       "      <td>10.00</td>\n",
       "      <td>0.57</td>\n",
       "      <td>68000.00</td>\n",
       "      <td>0.52</td>\n",
       "      <td>0.61</td>\n",
       "      <td>0.59</td>\n",
       "      <td>11.77</td>\n",
       "      <td>0.00</td>\n",
       "      <td>2009.00</td>\n",
       "      <td>730.00</td>\n",
       "      <td>734.00</td>\n",
       "      <td>0.00</td>\n",
       "      <td>0.00</td>\n",
       "      <td>0.00</td>\n",
       "      <td>11.00</td>\n",
       "      <td>0.00</td>\n",
       "      <td>15303.00</td>\n",
       "      <td>42.91</td>\n",
       "      <td>16.00</td>\n",
       "      <td>...</td>\n",
       "      <td>0.00</td>\n",
       "      <td>0.00</td>\n",
       "      <td>0.00</td>\n",
       "      <td>6.00</td>\n",
       "      <td>6.00</td>\n",
       "      <td>9.00</td>\n",
       "      <td>10.00</td>\n",
       "      <td>4.00</td>\n",
       "      <td>9.00</td>\n",
       "      <td>10.00</td>\n",
       "      <td>6.00</td>\n",
       "      <td>11.00</td>\n",
       "      <td>0.00</td>\n",
       "      <td>0.00</td>\n",
       "      <td>0.00</td>\n",
       "      <td>1.00</td>\n",
       "      <td>100.00</td>\n",
       "      <td>25.00</td>\n",
       "      <td>0.00</td>\n",
       "      <td>0.00</td>\n",
       "      <td>240700.00</td>\n",
       "      <td>28484.00</td>\n",
       "      <td>35700.00</td>\n",
       "      <td>15000.00</td>\n",
       "      <td>1</td>\n",
       "    </tr>\n",
       "    <tr>\n",
       "      <th>2</th>\n",
       "      <td>6824.00</td>\n",
       "      <td>36.00</td>\n",
       "      <td>15.59</td>\n",
       "      <td>238.62</td>\n",
       "      <td>3</td>\n",
       "      <td>15</td>\n",
       "      <td>10.00</td>\n",
       "      <td>0.57</td>\n",
       "      <td>22800.00</td>\n",
       "      <td>0.52</td>\n",
       "      <td>0.61</td>\n",
       "      <td>0.59</td>\n",
       "      <td>18.27</td>\n",
       "      <td>2.00</td>\n",
       "      <td>1972.00</td>\n",
       "      <td>665.00</td>\n",
       "      <td>669.00</td>\n",
       "      <td>0.00</td>\n",
       "      <td>6.00</td>\n",
       "      <td>0.00</td>\n",
       "      <td>5.00</td>\n",
       "      <td>0.00</td>\n",
       "      <td>5847.00</td>\n",
       "      <td>54.09</td>\n",
       "      <td>25.00</td>\n",
       "      <td>...</td>\n",
       "      <td>10.00</td>\n",
       "      <td>6.00</td>\n",
       "      <td>0.00</td>\n",
       "      <td>1.00</td>\n",
       "      <td>4.00</td>\n",
       "      <td>1.00</td>\n",
       "      <td>4.00</td>\n",
       "      <td>17.00</td>\n",
       "      <td>4.00</td>\n",
       "      <td>7.00</td>\n",
       "      <td>4.00</td>\n",
       "      <td>5.00</td>\n",
       "      <td>0.00</td>\n",
       "      <td>0.00</td>\n",
       "      <td>0.00</td>\n",
       "      <td>1.00</td>\n",
       "      <td>88.00</td>\n",
       "      <td>100.00</td>\n",
       "      <td>0.00</td>\n",
       "      <td>0.00</td>\n",
       "      <td>13850.00</td>\n",
       "      <td>7856.00</td>\n",
       "      <td>500.00</td>\n",
       "      <td>3050.00</td>\n",
       "      <td>1</td>\n",
       "    </tr>\n",
       "    <tr>\n",
       "      <th>3</th>\n",
       "      <td>20000.00</td>\n",
       "      <td>60.00</td>\n",
       "      <td>18.92</td>\n",
       "      <td>518.00</td>\n",
       "      <td>4</td>\n",
       "      <td>19</td>\n",
       "      <td>9.00</td>\n",
       "      <td>0.62</td>\n",
       "      <td>80000.00</td>\n",
       "      <td>0.61</td>\n",
       "      <td>0.61</td>\n",
       "      <td>0.59</td>\n",
       "      <td>24.69</td>\n",
       "      <td>2.00</td>\n",
       "      <td>2000.00</td>\n",
       "      <td>680.00</td>\n",
       "      <td>684.00</td>\n",
       "      <td>1.00</td>\n",
       "      <td>13.00</td>\n",
       "      <td>0.00</td>\n",
       "      <td>12.00</td>\n",
       "      <td>0.00</td>\n",
       "      <td>114795.00</td>\n",
       "      <td>82.50</td>\n",
       "      <td>35.00</td>\n",
       "      <td>...</td>\n",
       "      <td>1.00</td>\n",
       "      <td>16.00</td>\n",
       "      <td>0.00</td>\n",
       "      <td>2.00</td>\n",
       "      <td>6.00</td>\n",
       "      <td>2.00</td>\n",
       "      <td>8.00</td>\n",
       "      <td>9.00</td>\n",
       "      <td>8.00</td>\n",
       "      <td>22.00</td>\n",
       "      <td>6.00</td>\n",
       "      <td>12.00</td>\n",
       "      <td>0.00</td>\n",
       "      <td>0.00</td>\n",
       "      <td>0.00</td>\n",
       "      <td>0.00</td>\n",
       "      <td>94.31</td>\n",
       "      <td>100.00</td>\n",
       "      <td>0.00</td>\n",
       "      <td>0.00</td>\n",
       "      <td>300938.00</td>\n",
       "      <td>124898.00</td>\n",
       "      <td>19700.00</td>\n",
       "      <td>29117.00</td>\n",
       "      <td>0</td>\n",
       "    </tr>\n",
       "    <tr>\n",
       "      <th>4</th>\n",
       "      <td>15400.00</td>\n",
       "      <td>36.00</td>\n",
       "      <td>10.75</td>\n",
       "      <td>502.25</td>\n",
       "      <td>2</td>\n",
       "      <td>9</td>\n",
       "      <td>1.00</td>\n",
       "      <td>0.57</td>\n",
       "      <td>45000.00</td>\n",
       "      <td>0.61</td>\n",
       "      <td>0.61</td>\n",
       "      <td>0.59</td>\n",
       "      <td>5.39</td>\n",
       "      <td>0.00</td>\n",
       "      <td>2001.00</td>\n",
       "      <td>705.00</td>\n",
       "      <td>709.00</td>\n",
       "      <td>1.00</td>\n",
       "      <td>0.00</td>\n",
       "      <td>0.00</td>\n",
       "      <td>4.00</td>\n",
       "      <td>0.00</td>\n",
       "      <td>6483.00</td>\n",
       "      <td>82.12</td>\n",
       "      <td>10.00</td>\n",
       "      <td>...</td>\n",
       "      <td>1.00</td>\n",
       "      <td>0.00</td>\n",
       "      <td>0.00</td>\n",
       "      <td>2.00</td>\n",
       "      <td>3.00</td>\n",
       "      <td>3.00</td>\n",
       "      <td>5.00</td>\n",
       "      <td>1.00</td>\n",
       "      <td>4.00</td>\n",
       "      <td>8.00</td>\n",
       "      <td>3.00</td>\n",
       "      <td>4.00</td>\n",
       "      <td>0.00</td>\n",
       "      <td>0.00</td>\n",
       "      <td>0.00</td>\n",
       "      <td>1.00</td>\n",
       "      <td>100.00</td>\n",
       "      <td>66.69</td>\n",
       "      <td>0.00</td>\n",
       "      <td>0.00</td>\n",
       "      <td>7900.00</td>\n",
       "      <td>6483.00</td>\n",
       "      <td>7200.00</td>\n",
       "      <td>0.00</td>\n",
       "      <td>1</td>\n",
       "    </tr>\n",
       "  </tbody>\n",
       "</table>\n",
       "<p>5 rows × 87 columns</p>\n",
       "</div>"
      ],
      "text/plain": [
       "   loan_amnt  term  int_rate  installment grade sub_grade emp_length  \\\n",
       "0    3200.00 36.00      7.96       100.25     1         5       3.00   \n",
       "1   30800.00 60.00     17.09       767.00     4        16      10.00   \n",
       "2    6824.00 36.00     15.59       238.62     3        15      10.00   \n",
       "3   20000.00 60.00     18.92       518.00     4        19       9.00   \n",
       "4   15400.00 36.00     10.75       502.25     2         9       1.00   \n",
       "\n",
       "  home_ownership  annual_inc verification_status pymnt_plan purpose   dti  \\\n",
       "0           0.57    75000.00                0.70       0.61    0.62  4.26   \n",
       "1           0.57    68000.00                0.52       0.61    0.59 11.77   \n",
       "2           0.57    22800.00                0.52       0.61    0.59 18.27   \n",
       "3           0.62    80000.00                0.61       0.61    0.59 24.69   \n",
       "4           0.57    45000.00                0.61       0.61    0.59  5.39   \n",
       "\n",
       "   delinq_2yrs  earliest_cr_line  fico_range_low  fico_range_high  \\\n",
       "0         0.00           2011.00          710.00           714.00   \n",
       "1         0.00           2009.00          730.00           734.00   \n",
       "2         2.00           1972.00          665.00           669.00   \n",
       "3         2.00           2000.00          680.00           684.00   \n",
       "4         0.00           2001.00          705.00           709.00   \n",
       "\n",
       "   inq_last_6mths  mths_since_last_delinq  mths_since_last_record  open_acc  \\\n",
       "0            0.00                    0.00                    0.00      3.00   \n",
       "1            0.00                    0.00                    0.00     11.00   \n",
       "2            0.00                    6.00                    0.00      5.00   \n",
       "3            1.00                   13.00                    0.00     12.00   \n",
       "4            1.00                    0.00                    0.00      4.00   \n",
       "\n",
       "   pub_rec  revol_bal  revol_util  total_acc  ... mths_since_recent_inq  \\\n",
       "0     0.00    3202.00       25.41       3.00  ...                  9.00   \n",
       "1     0.00   15303.00       42.91      16.00  ...                  0.00   \n",
       "2     0.00    5847.00       54.09      25.00  ...                 10.00   \n",
       "3     0.00  114795.00       82.50      35.00  ...                  1.00   \n",
       "4     0.00    6483.00       82.12      10.00  ...                  1.00   \n",
       "\n",
       "   mths_since_recent_revol_delinq  num_accts_ever_120_pd  num_actv_bc_tl  \\\n",
       "0                            0.00                   0.00            1.00   \n",
       "1                            0.00                   0.00            6.00   \n",
       "2                            6.00                   0.00            1.00   \n",
       "3                           16.00                   0.00            2.00   \n",
       "4                            0.00                   0.00            2.00   \n",
       "\n",
       "   num_actv_rev_tl num_bc_sats  num_bc_tl  num_il_tl  num_op_rev_tl  \\\n",
       "0             1.00        2.00       2.00       1.00           2.00   \n",
       "1             6.00        9.00      10.00       4.00           9.00   \n",
       "2             4.00        1.00       4.00      17.00           4.00   \n",
       "3             6.00        2.00       8.00       9.00           8.00   \n",
       "4             3.00        3.00       5.00       1.00           4.00   \n",
       "\n",
       "   num_rev_accts  num_rev_tl_bal_gt_0  num_sats  num_tl_120dpd_2m  \\\n",
       "0           2.00                 1.00      3.00              0.00   \n",
       "1          10.00                 6.00     11.00              0.00   \n",
       "2           7.00                 4.00      5.00              0.00   \n",
       "3          22.00                 6.00     12.00              0.00   \n",
       "4           8.00                 3.00      4.00              0.00   \n",
       "\n",
       "   num_tl_30dpd  num_tl_90g_dpd_24m  num_tl_op_past_12m  pct_tl_nvr_dlq  \\\n",
       "0          0.00                0.00                0.00          100.00   \n",
       "1          0.00                0.00                1.00          100.00   \n",
       "2          0.00                0.00                1.00           88.00   \n",
       "3          0.00                0.00                0.00           94.31   \n",
       "4          0.00                0.00                1.00          100.00   \n",
       "\n",
       "   percent_bc_gt_75  pub_rec_bankruptcies  tax_liens  tot_hi_cred_lim  \\\n",
       "0              0.00                  0.00       0.00         29100.00   \n",
       "1             25.00                  0.00       0.00        240700.00   \n",
       "2            100.00                  0.00       0.00         13850.00   \n",
       "3            100.00                  0.00       0.00        300938.00   \n",
       "4             66.69                  0.00       0.00          7900.00   \n",
       "\n",
       "   total_bal_ex_mort  total_bc_limit  total_il_high_credit_limit  loan_status  \n",
       "0           15406.00        12600.00                    16500.00            1  \n",
       "1           28484.00        35700.00                    15000.00            1  \n",
       "2            7856.00          500.00                     3050.00            1  \n",
       "3          124898.00        19700.00                    29117.00            0  \n",
       "4            6483.00         7200.00                        0.00            1  \n",
       "\n",
       "[5 rows x 87 columns]"
      ]
     },
     "execution_count": 52,
     "metadata": {},
     "output_type": "execute_result"
    }
   ],
   "source": [
    "train_set.head()"
   ]
  },
  {
   "cell_type": "markdown",
   "metadata": {},
   "source": [
    "From the table above, we can now see that all our categorical features have been imputed and encoded based on their specific characteristics"
   ]
  },
  {
   "cell_type": "code",
   "execution_count": 53,
   "metadata": {},
   "outputs": [
    {
     "name": "stdout",
     "output_type": "stream",
     "text": [
      "Your selected dataframe has 87 columns.\n",
      "There are 23 columns that have missing values.\n"
     ]
    },
    {
     "data": {
      "text/html": [
       "<div>\n",
       "<style scoped>\n",
       "    .dataframe tbody tr th:only-of-type {\n",
       "        vertical-align: middle;\n",
       "    }\n",
       "\n",
       "    .dataframe tbody tr th {\n",
       "        vertical-align: top;\n",
       "    }\n",
       "\n",
       "    .dataframe thead th {\n",
       "        text-align: right;\n",
       "    }\n",
       "</style>\n",
       "<table border=\"1\" class=\"dataframe\">\n",
       "  <thead>\n",
       "    <tr style=\"text-align: right;\">\n",
       "      <th></th>\n",
       "      <th>Missing Values</th>\n",
       "      <th>% of Total Values</th>\n",
       "    </tr>\n",
       "  </thead>\n",
       "  <tbody>\n",
       "    <tr>\n",
       "      <th>il_util</th>\n",
       "      <td>157262</td>\n",
       "      <td>31.90</td>\n",
       "    </tr>\n",
       "    <tr>\n",
       "      <th>all_util</th>\n",
       "      <td>104715</td>\n",
       "      <td>21.30</td>\n",
       "    </tr>\n",
       "    <tr>\n",
       "      <th>total_cu_tl</th>\n",
       "      <td>104673</td>\n",
       "      <td>21.30</td>\n",
       "    </tr>\n",
       "    <tr>\n",
       "      <th>max_bal_bc</th>\n",
       "      <td>104672</td>\n",
       "      <td>21.30</td>\n",
       "    </tr>\n",
       "    <tr>\n",
       "      <th>total_bal_il</th>\n",
       "      <td>104672</td>\n",
       "      <td>21.30</td>\n",
       "    </tr>\n",
       "    <tr>\n",
       "      <th>bc_util</th>\n",
       "      <td>10961</td>\n",
       "      <td>2.20</td>\n",
       "    </tr>\n",
       "    <tr>\n",
       "      <th>percent_bc_gt_75</th>\n",
       "      <td>10751</td>\n",
       "      <td>2.20</td>\n",
       "    </tr>\n",
       "    <tr>\n",
       "      <th>bc_open_to_buy</th>\n",
       "      <td>10682</td>\n",
       "      <td>2.20</td>\n",
       "    </tr>\n",
       "    <tr>\n",
       "      <th>pct_tl_nvr_dlq</th>\n",
       "      <td>7289</td>\n",
       "      <td>1.50</td>\n",
       "    </tr>\n",
       "    <tr>\n",
       "      <th>avg_cur_bal</th>\n",
       "      <td>7281</td>\n",
       "      <td>1.50</td>\n",
       "    </tr>\n",
       "    <tr>\n",
       "      <th>tot_cur_bal</th>\n",
       "      <td>7269</td>\n",
       "      <td>1.50</td>\n",
       "    </tr>\n",
       "    <tr>\n",
       "      <th>tot_hi_cred_lim</th>\n",
       "      <td>7269</td>\n",
       "      <td>1.50</td>\n",
       "    </tr>\n",
       "    <tr>\n",
       "      <th>total_rev_hi_lim</th>\n",
       "      <td>7269</td>\n",
       "      <td>1.50</td>\n",
       "    </tr>\n",
       "    <tr>\n",
       "      <th>tot_coll_amt</th>\n",
       "      <td>7269</td>\n",
       "      <td>1.50</td>\n",
       "    </tr>\n",
       "    <tr>\n",
       "      <th>total_il_high_credit_limit</th>\n",
       "      <td>7269</td>\n",
       "      <td>1.50</td>\n",
       "    </tr>\n",
       "    <tr>\n",
       "      <th>total_bal_ex_mort</th>\n",
       "      <td>4850</td>\n",
       "      <td>1.00</td>\n",
       "    </tr>\n",
       "    <tr>\n",
       "      <th>total_bc_limit</th>\n",
       "      <td>4850</td>\n",
       "      <td>1.00</td>\n",
       "    </tr>\n",
       "    <tr>\n",
       "      <th>acc_open_past_24mths</th>\n",
       "      <td>4850</td>\n",
       "      <td>1.00</td>\n",
       "    </tr>\n",
       "    <tr>\n",
       "      <th>revol_util</th>\n",
       "      <td>393</td>\n",
       "      <td>0.10</td>\n",
       "    </tr>\n",
       "    <tr>\n",
       "      <th>dti</th>\n",
       "      <td>286</td>\n",
       "      <td>0.10</td>\n",
       "    </tr>\n",
       "    <tr>\n",
       "      <th>pub_rec_bankruptcies</th>\n",
       "      <td>77</td>\n",
       "      <td>0.00</td>\n",
       "    </tr>\n",
       "    <tr>\n",
       "      <th>collections_12_mths_ex_med</th>\n",
       "      <td>5</td>\n",
       "      <td>0.00</td>\n",
       "    </tr>\n",
       "    <tr>\n",
       "      <th>tax_liens</th>\n",
       "      <td>1</td>\n",
       "      <td>0.00</td>\n",
       "    </tr>\n",
       "  </tbody>\n",
       "</table>\n",
       "</div>"
      ],
      "text/plain": [
       "                            Missing Values  % of Total Values\n",
       "il_util                             157262              31.90\n",
       "all_util                            104715              21.30\n",
       "total_cu_tl                         104673              21.30\n",
       "max_bal_bc                          104672              21.30\n",
       "total_bal_il                        104672              21.30\n",
       "bc_util                              10961               2.20\n",
       "percent_bc_gt_75                     10751               2.20\n",
       "bc_open_to_buy                       10682               2.20\n",
       "pct_tl_nvr_dlq                        7289               1.50\n",
       "avg_cur_bal                           7281               1.50\n",
       "tot_cur_bal                           7269               1.50\n",
       "tot_hi_cred_lim                       7269               1.50\n",
       "total_rev_hi_lim                      7269               1.50\n",
       "tot_coll_amt                          7269               1.50\n",
       "total_il_high_credit_limit            7269               1.50\n",
       "total_bal_ex_mort                     4850               1.00\n",
       "total_bc_limit                        4850               1.00\n",
       "acc_open_past_24mths                  4850               1.00\n",
       "revol_util                             393               0.10\n",
       "dti                                    286               0.10\n",
       "pub_rec_bankruptcies                    77               0.00\n",
       "collections_12_mths_ex_med               5               0.00\n",
       "tax_liens                                1               0.00"
      ]
     },
     "execution_count": 53,
     "metadata": {},
     "output_type": "execute_result"
    }
   ],
   "source": [
    "# check number of features with missing values in the dataset\n",
    "helpers.missing_values_table(train_set)"
   ]
  },
  {
   "cell_type": "markdown",
   "metadata": {},
   "source": [
    "<h2><b> Impute Numerical Features <b></h2>\n",
    "<a id=\"impute_numerical\"></a>"
   ]
  },
  {
   "cell_type": "markdown",
   "metadata": {},
   "source": [
    "We will create a `transformer` that will handle imputing numerical features.<br>\n",
    "I'll be using MICE imputation for the remaining missing numerical values. More on MICE imputation below:\n",
    "\n",
    "[Azure et,al on MICE Imputation](https://www.ncbi.nlm.nih.gov/pmc/articles/PMC3074241/)"
   ]
  },
  {
   "cell_type": "code",
   "execution_count": 54,
   "metadata": {},
   "outputs": [],
   "source": [
    "class Impute_Numerical_Features(TransformerMixin,BaseEstimator):\n",
    "    \"\"\"\n",
    "    This transformer imputes missing numerical using the \n",
    "    Iterative imputer which is a variant of mice imputation. \n",
    "    \n",
    "    Args:\n",
    "    features set: A dataframe\n",
    "    \n",
    "    Returns: \n",
    "    A dataframe with numerical features imputed\n",
    "    \"\"\"\n",
    "    def __init__(self):\n",
    "        pass\n",
    "    \n",
    "    def fit(self,df,y=None):\n",
    "        return self\n",
    "    \n",
    "    def transform(self,df):\n",
    "              \n",
    "        # drop our target feature\n",
    "        X = df.drop('loan_status', axis=1)\n",
    "        # save our target feature in a y variable\n",
    "        y = df.loan_status\n",
    "        \n",
    "        from sklearn.impute import SimpleImputer\n",
    "        imp_mean = SimpleImputer(missing_values=np.nan, strategy='mean')\n",
    "        \n",
    "        feature_names = X.columns.to_list()\n",
    "        \n",
    "        df_temp = imp_mean.fit_transform(X)\n",
    "        \n",
    "        X = pd.DataFrame(df_temp, columns=feature_names)\n",
    "        \n",
    "        # merge back the target variable to the dataframe(df)\n",
    "        df = X.merge(y, on=y.index)\n",
    "        \n",
    "        df.drop(\"key_0\", axis=1, inplace=True)\n",
    "              \n",
    "        return df\n",
    "    "
   ]
  },
  {
   "cell_type": "code",
   "execution_count": 55,
   "metadata": {},
   "outputs": [
    {
     "name": "stdout",
     "output_type": "stream",
     "text": [
      "Train Set Size: (492276, 87)\n"
     ]
    }
   ],
   "source": [
    "#create transformer\n",
    "mice_imputer = Impute_Numerical_Features()\n",
    "\n",
    "# fit transform training set\n",
    "train_set = mice_imputer.fit_transform(train_set)\n",
    "\n",
    "#fit transform dataset\n",
    "test_set = mice_imputer.fit_transform(test_set)\n",
    "hold_out_test = mice_imputer.fit_transform(hold_out_test)\n",
    "\n",
    "# confirm\n",
    "print(\"Train Set Size: {}\".format(train_set.shape))"
   ]
  },
  {
   "cell_type": "code",
   "execution_count": 56,
   "metadata": {},
   "outputs": [
    {
     "name": "stdout",
     "output_type": "stream",
     "text": [
      "Your selected dataframe has 87 columns.\n",
      "There are 0 columns that have missing values.\n"
     ]
    },
    {
     "data": {
      "text/html": [
       "<div>\n",
       "<style scoped>\n",
       "    .dataframe tbody tr th:only-of-type {\n",
       "        vertical-align: middle;\n",
       "    }\n",
       "\n",
       "    .dataframe tbody tr th {\n",
       "        vertical-align: top;\n",
       "    }\n",
       "\n",
       "    .dataframe thead th {\n",
       "        text-align: right;\n",
       "    }\n",
       "</style>\n",
       "<table border=\"1\" class=\"dataframe\">\n",
       "  <thead>\n",
       "    <tr style=\"text-align: right;\">\n",
       "      <th></th>\n",
       "      <th>Missing Values</th>\n",
       "      <th>% of Total Values</th>\n",
       "    </tr>\n",
       "  </thead>\n",
       "  <tbody>\n",
       "  </tbody>\n",
       "</table>\n",
       "</div>"
      ],
      "text/plain": [
       "Empty DataFrame\n",
       "Columns: [Missing Values, % of Total Values]\n",
       "Index: []"
      ]
     },
     "execution_count": 56,
     "metadata": {},
     "output_type": "execute_result"
    }
   ],
   "source": [
    "# peek at remaining missing values in our dataframe\n",
    "helpers.missing_values_table(train_set).head(3)"
   ]
  },
  {
   "cell_type": "markdown",
   "metadata": {},
   "source": [
    "At this point we have cleaned the dataset of missing values based on various strategies."
   ]
  },
  {
   "cell_type": "markdown",
   "metadata": {},
   "source": [
    "<h2> <b> Feature Engineering <b> </h2>\n",
    "<a id=\"feature_engineer\"></a>\n",
    "<p> Feature Engineering different from feature selection involves generating  new features from the existing data as opposed to say <br>\n",
    "    feature selection which picks and chooses which features to drop based on domain knowledge or unimportance </p>\n",
    "    \n",
    "<p> Feature Engineering is the difference between a great model and a subpar model and usual involves sourcing data from outside <br>\n",
    "    other sources to come up with unique features. We stick to the basics below by interacting with existing features to create new ones </p>\n",
    "    "
   ]
  },
  {
   "cell_type": "code",
   "execution_count": 57,
   "metadata": {},
   "outputs": [],
   "source": [
    "class FeatureEngineering_Manual(TransformerMixin,BaseEstimator):\n",
    "    \"\"\"\n",
    "    This transformer generates new features from the existing dataset. \n",
    "    \n",
    "    Parameters:\n",
    "    ------------------\n",
    "    A dataframe object\n",
    "    \n",
    "    Returns:\n",
    "    ------------------\n",
    "    A dataframe object with new features created\n",
    "    \n",
    "    \"\"\"\n",
    "    def __init__(self):\n",
    "        pass\n",
    "    \n",
    "    def fit(self,df,y=None):\n",
    "        return self\n",
    "    \n",
    "    def transform(self,df):\n",
    "        # store features in a separate variable                \n",
    "        cats= ['term','emp_length']\n",
    "        df[cats] = df[cats].astype('float32')\n",
    "        \n",
    "        # age of earliest credit line\n",
    "        current_year = date.today().year\n",
    "        df['earliest_cr_line_length'] = current_year - df['earliest_cr_line']\n",
    "    \n",
    "        # total interest paid\n",
    "        df['fe_interest_paid_monthly'] = (df['int_rate'] / 12) * df['loan_amnt']\n",
    "        \n",
    "        df['fe_interest_paid_term'] = (df['int_rate'] / df['term']) * df['loan_amnt']\n",
    "        \n",
    "        # calculate monthly interest paid\n",
    "        df['fe_monthly_int'] = (df[\"loan_amnt\"]/df[\"term\"]) + (((df[\"int_rate\"]/100)* 12) * df[\"loan_amnt\"])\n",
    "        \n",
    "        # Total Loan Two\n",
    "        df['fe_loan_total']=(df.dti/100)*(df.annual_inc/12)*df.term\n",
    "        \n",
    "        # calculate annual percentage rate\n",
    "        df['fe_apr'] = ((df['int_rate'] / df['loan_amnt']) * 365) * 100\n",
    "        \n",
    "        \n",
    "         # monthly payment \n",
    "        df['fe_monthly_payment'] = df['loan_amnt'] /df['term']\n",
    "        \n",
    "        # monthly_to_income_available\n",
    "        df['fe_mti_avail'] = df['annual_inc'] - (df['fe_monthly_payment'] * 1000)\n",
    "        \n",
    "        # debt repayment monthly\n",
    "        df['fe_monthly_income'] = df['annual_inc'].apply(lambda x: x/12 if x > 0 else -9999)\n",
    "        \n",
    "        df['fe_int_rate + open_acc'] = df['int_rate'] + df['open_acc']\n",
    "        \n",
    "        df['fe_int_rate * loan_amnt'] = df['int_rate'] * df['loan_amnt']\n",
    "\n",
    "        \n",
    "        # fico score - i think lending club already uses fico score to determine the grades\n",
    "        # in any case, if they are highly correlated, we have a transformer will take care of that\n",
    "        # below.I am really trying to get interaction between fico score and other 'key' features\n",
    "        df['fico_score'] = ((df['fico_range_high'] + df['fico_range_low'])/2)\n",
    "        \n",
    "        df['fico_score_neg'] = (df['fico_range_high'] - df['fico_range_low'])\n",
    "        \n",
    "        df['fico_score_neg_dti'] = (df['fico_range_high'] - df['fico_range_low']) * df['dti']\n",
    "        \n",
    "        df['fico_score_neg_term'] = (df['fico_range_high'] - df['fico_range_low']) * df['term']\n",
    "        \n",
    "        \n",
    "        df.drop('fico_range_high',axis=1,inplace=True)\n",
    "        df.drop('fico_range_low',axis=1,inplace=True)\n",
    "        df.drop('earliest_cr_line',axis=1,inplace=True)\n",
    "        \n",
    "        cats= ['term','emp_length']        \n",
    "        df[cats] = df[cats].astype('category')\n",
    "        \n",
    "        return df"
   ]
  },
  {
   "cell_type": "code",
   "execution_count": 58,
   "metadata": {},
   "outputs": [
    {
     "name": "stdout",
     "output_type": "stream",
     "text": [
      "Train Set Size: (492276, 99)\n"
     ]
    }
   ],
   "source": [
    "#create transformer\n",
    "ft_engineering = FeatureEngineering_Manual()\n",
    "\n",
    "# fit transform training set\n",
    "train_set = ft_engineering.fit_transform(train_set)\n",
    "\n",
    "#fit transform dataset\n",
    "test_set = ft_engineering.fit_transform(test_set)\n",
    "hold_out_test = ft_engineering.fit_transform(hold_out_test)\n",
    "\n",
    "# confirm\n",
    "print(\"Train Set Size: {}\".format(train_set.shape))"
   ]
  },
  {
   "cell_type": "markdown",
   "metadata": {},
   "source": [
    "<h2> <b>Correlation <b> </h2>\n",
    "<a id=\"correlation\"></a>\n",
    "<p> We look for highly correlated features because of a couple of reasons. If two or more features are correlated, they <br>\n",
    "    would be informing our final model with the same information. With a dataset with high dimensions like the one we have, <br>\n",
    "    we are looking for ways of reducing the search space for training our final model. Removing highly correlated features is one way to achieve this</p>\n",
    "    "
   ]
  },
  {
   "cell_type": "code",
   "execution_count": 59,
   "metadata": {},
   "outputs": [],
   "source": [
    "class CorrelationTransformer(TransformerMixin,BaseEstimator):\n",
    "    \"\"\"\n",
    "    This transformer takes as input a dataframe and calculates the correlation between the features. \n",
    "    It will then remove the most correlated features based on a threshold of 0.90\n",
    "    \n",
    "    Args: dataframe and threshold hold value that is defaulted at 0.90\n",
    "    \n",
    "    Return: dataframe with correlated features dropped\n",
    "    \n",
    "    \"\"\"\n",
    "    def __init__(self,threshold=0.90):\n",
    "        self.threshold = threshold\n",
    "        pass\n",
    "    \n",
    "    def fit(self,df,y=None):\n",
    "        return self\n",
    "    \n",
    "    def transform(self,df):\n",
    "        \n",
    "        df = helpers.drop_highly_correlated_features(df)\n",
    "        return df"
   ]
  },
  {
   "cell_type": "code",
   "execution_count": 60,
   "metadata": {},
   "outputs": [
    {
     "data": {
      "text/html": [
       "<div>\n",
       "<style scoped>\n",
       "    .dataframe tbody tr th:only-of-type {\n",
       "        vertical-align: middle;\n",
       "    }\n",
       "\n",
       "    .dataframe tbody tr th {\n",
       "        vertical-align: top;\n",
       "    }\n",
       "\n",
       "    .dataframe thead th {\n",
       "        text-align: right;\n",
       "    }\n",
       "</style>\n",
       "<table border=\"1\" class=\"dataframe\">\n",
       "  <thead>\n",
       "    <tr style=\"text-align: right;\">\n",
       "      <th></th>\n",
       "      <th>feature</th>\n",
       "      <th>Description</th>\n",
       "    </tr>\n",
       "  </thead>\n",
       "  <tbody>\n",
       "    <tr>\n",
       "      <th>143</th>\n",
       "      <td>disbursement_method</td>\n",
       "      <td>The method by which the borrower receives their loan. Possible values are: CASH, DIRECT_PAY</td>\n",
       "    </tr>\n",
       "  </tbody>\n",
       "</table>\n",
       "</div>"
      ],
      "text/plain": [
       "                 feature  \\\n",
       "143  disbursement_method   \n",
       "\n",
       "                                                                                     Description  \n",
       "143  The method by which the borrower receives their loan. Possible values are: CASH, DIRECT_PAY  "
      ]
     },
     "execution_count": 60,
     "metadata": {},
     "output_type": "execute_result"
    }
   ],
   "source": [
    "helpers.data_dictionary(['disbursement_method'])"
   ]
  },
  {
   "cell_type": "code",
   "execution_count": 61,
   "metadata": {},
   "outputs": [
    {
     "name": "stdout",
     "output_type": "stream",
     "text": [
      "Number of correlated features dropped = 14\n",
      "Train Set Size: (492276, 85)\n"
     ]
    }
   ],
   "source": [
    "#create transformer\n",
    "correlation = CorrelationTransformer()\n",
    "\n",
    "list_of_features_prior = train_set.columns.tolist()\n",
    "\n",
    "# fit transform training set\n",
    "train_set = correlation.fit_transform(train_set)\n",
    "\n",
    "\n",
    "list_of_features_post = train_set.columns.tolist()\n",
    "\n",
    "\n",
    "def Diff(li1, li2): \n",
    "    return (list(set(li1) - set(li2)))\n",
    "\n",
    "corr_features_to_drop = Diff(list_of_features_prior,list_of_features_post )\n",
    "\n",
    "#fit transform dataset\n",
    "\n",
    "for value in corr_features_to_drop:\n",
    "    if value in corr_features_to_drop:\n",
    "        test_set.drop(labels=value,axis=1,inplace=True)\n",
    "        \n",
    "for value in corr_features_to_drop:\n",
    "    if value in corr_features_to_drop:\n",
    "        hold_out_test.drop(labels=value,axis=1,inplace=True)\n",
    "\n",
    "# confirm\n",
    "print(\"Train Set Size: {}\".format(train_set.shape))"
   ]
  },
  {
   "cell_type": "markdown",
   "metadata": {},
   "source": [
    "We can see most of our engineered features were dropped since they were highly correlated as suspected."
   ]
  },
  {
   "cell_type": "markdown",
   "metadata": {},
   "source": [
    "<h2> <b> Remove Outliers<b> </h2>\n",
    "<h3> Multi-variate Outlier Detection </h3>\n",
    "<a id=\"outliers\"></a>\n",
    "<p>\n",
    "Outliers represent a rare occurence in the dataset, an unusual occurence of a distribution or some mistakes in the data collection phase. <br>\n",
    "Due to the high dimensions in the dataset, we will employ multi-variate outlier detection techniques. One point to note  is that fact that tree-based algorithms <br>\n",
    "are not neccessarily affected by outliers (Arora, 2016). Having said that, we might try to explore linear models during the feature selection phase or even explore a <br>\n",
    "neural network algorithm which might be affected by outliers. Needless to say, removing outliers from the dataset does not neccesarily degrade performance of a <br>\n",
    "decision tree based algorithm other than the fact we are are removing more training examples that could be used by the model </p>"
   ]
  },
  {
   "cell_type": "markdown",
   "metadata": {},
   "source": [
    "<h4> Elliptic Envelope </h4>\n",
    "\n",
    "`Elliptic Envolope` function tries to figure out the key parameters while assuming the entire dataset is an expression of an underlying multivariate gaussian distribution. <br>\n",
    "It checks the distance of each observation with respect to a grand mean that takes into account all variables in your dataset. (Boschetti and Massaron, 2018) </p>\n",
    "\n",
    "Elliptic envolope function tries to figure out the key parameters while assuming the entire dataset is an expression of an underlying multivariate gaussian <br>\n",
    "distribution. It will spot both univariate and multivariate outliers. <br> \n",
    "\n",
    "For this reason, we will also ensure we scale the features before performing the outlier detection due to the aforemention assumptioned of a gaussian distribution. <br>\n",
    "The function used below scales the features using sklearn's standard scaler before applying the EE function. \n",
    "    \n",
    "Also for this large dataset, it would be tedious to manually use boxplots to determine and drop outliers for each feature. \n",
    "\n",
    "</p>"
   ]
  },
  {
   "cell_type": "code",
   "execution_count": 62,
   "metadata": {},
   "outputs": [],
   "source": [
    "class OutlierTransformer(TransformerMixin,BaseEstimator):\n",
    "    \"\"\"\n",
    "    This transformer is responsible for removing outliers in our dataset. \n",
    "    It uses the elliptical envolope functions to achieve this. \n",
    "    \"\"\"\n",
    "    \n",
    "    def __init__(self,contamination = 0.01):\n",
    "        self.contamination_value = contamination\n",
    "        pass\n",
    "    \n",
    "    def fit(self,df,y=None):\n",
    "        return self\n",
    "    \n",
    "    def transform(self,df):\n",
    "        \n",
    "        for col_name in df.columns:\n",
    "            if df[col_name].dtype != 'float64':\n",
    "                df[col_name] =df[col_name].astype('int64')\n",
    "        \n",
    "        # call the Ellliptic Envelope function through the helpers file\n",
    "        df = helpers.remove_outliers(df,cpu_count=CPU_COUNT,contamination=self.contamination_value)\n",
    "        \n",
    "        return df"
   ]
  },
  {
   "cell_type": "code",
   "execution_count": 63,
   "metadata": {},
   "outputs": [
    {
     "name": "stdout",
     "output_type": "stream",
     "text": [
      "The number of outliers in the dataframe passed : (4923, 86)\n",
      "The number of outliers in the dataframe passed : (1477, 86)\n",
      "The number of outliers in the dataframe passed : (633, 86)\n",
      "Train Set Size: (487353, 85)\n"
     ]
    }
   ],
   "source": [
    "#create transformer\n",
    "outliers = OutlierTransformer()\n",
    "\n",
    "# fit transform training set\n",
    "train_set = outliers.fit_transform(train_set)\n",
    "\n",
    "#fit transform dataset\n",
    "test_set = outliers.fit_transform(test_set)\n",
    "hold_out_test = outliers.fit_transform(hold_out_test)\n",
    "\n",
    "# confirm\n",
    "print(\"Train Set Size: {}\".format(train_set.shape))"
   ]
  },
  {
   "cell_type": "markdown",
   "metadata": {},
   "source": [
    "<h2> <b> Feature Selection <b> </h2>\n",
    "    \n",
    "<h3> <b> Weight of Evidence (WOE) <b> </h3>\n",
    "<a id=\"feature_selector\"></a>\n",
    "    \n",
    "I have reviewed a number of papers related to this specific dataset and what I noticed was that while most of them achieve higher scores, <br>\n",
    "they perform no feature selection whatsoever. This is impracticable as a trade-off between predictive performance and model interpretability <br>\n",
    "has to be considered. This paper by StanFord graduates for instance used 900 features for their final model [Peiqian Li and Gao Han]( http://cs229.stanford.edu/proj2018/poster/69.pdf). \n",
    "    \n",
    "For this dataset, we will be using  WOE to calculate the most informative features in our dataset. <br>\n",
    "\n",
    "<p> <a href=\"https://medium.com/@sundarstyles89/weight-of-evidence-and-information-value-using-python-6f05072e83eb/\">Weight of Evidence Article</a></p>\n",
    "    \n",
    "    \n",
    "We do this as alluded earlier to reduce model complexity and increase model interpretability. An additional benefit raised by Kuhn & Johnson (2019) <br>\n",
    "is that arriving at fewer features can reduce the costs of acquiring data or improving the throughput of software predictions. <br>\n",
    "So, instead of this pipeline processing 145 features we maybe we only include in the pipeline 20 features that we know are enough to give us an acceptable outcome. \n",
    "\n",
    "> Reduce the number of predictors as far as possible without compromising predictive performance (Kuhn & Johnson, 2019.) <br>\n",
    "    \n",
    "\n",
    "WOE has its roots on the banking industry and has been used in the past to separate good vs bad customers through their credit scores. <br>\n",
    "This techniques measures the strength of feature to seperate two categories, in our case, defaulters vs non-defaulters.\n",
    "If we take an example in our dataset: <br>\n",
    "* Loan amount is able to predict 80% of the time that a customer defaults on their loan <br>\n",
    "* Interest Rate is able to predict 60% of the time that a customer dfeaults on their loan <br>\n",
    "\n",
    "Given the results above, we can say that there is more \"evidence\" that loan amount has more \"weight\" in correclty predicting our outcome. <br>\n",
    "The other reason that I have chosen this method of feature selection is that it is relatively quick as opposed to RFECV, Exhaustive Feature Selection <br>\n",
    "and other similar methods."
   ]
  },
  {
   "cell_type": "code",
   "execution_count": 64,
   "metadata": {},
   "outputs": [],
   "source": [
    "# weight of evidence\n",
    "class FeatureSelection(TransformerMixin,BaseEstimator):\n",
    "    \"\"\"\n",
    "    This class uses Weight of Evidence to determine which features are important given a dataframe. \n",
    "    \"\"\"\n",
    "       \n",
    "    def __init__(self):\n",
    "        pass\n",
    "    \n",
    "    def fit(self,df,y=None):\n",
    "        return self\n",
    "\n",
    "    def transform(self,df):\n",
    "        \n",
    "        ## Weight of Evidence Feature Selection\n",
    "                \n",
    "        # drop our target feature\n",
    "        X = df.drop('loan_status', axis=1)\n",
    "        # save our target feature in a y variable\n",
    "        y = df.loan_status\n",
    "        \n",
    "        # create WOE object  \n",
    "        clf = WOE()\n",
    "        \n",
    "        # fit our dependent/independent variables\n",
    "        clf = clf.fit(X, y)\n",
    "        \n",
    "        # get feature weights\n",
    "        selected_features = clf.iv_df        \n",
    "        selected_features = selected_features.loc[:,['Variable_Name','Information_Value']]\n",
    "        \n",
    "        # filter features based on cut-off feature weights\n",
    "        # less than 0.1 are considered weak predictors and > 0.5 are considered suspect (possible leakage)\n",
    "        selected_features = selected_features[(selected_features['Information_Value'] > 0.1) & (selected_features['Information_Value'] <= 0.5)]\n",
    "        \n",
    "        # convert final list of features into a list\n",
    "        final_list = list(selected_features['Variable_Name'].values)\n",
    "        \n",
    "        # filter our X dataframe to only retain features selected        \n",
    "        df = X[final_list]\n",
    "        \n",
    "        print('WOE Optimal number of features selected : %d' % len(df.columns))\n",
    "        \n",
    "        # merge back the target variable to the dataframe(df)\n",
    "        df = df.merge(y, on=y.index)\n",
    "        \n",
    "        df.drop(\"key_0\", axis=1, inplace=True)\n",
    "                                     \n",
    "        return df"
   ]
  },
  {
   "cell_type": "code",
   "execution_count": 65,
   "metadata": {},
   "outputs": [
    {
     "name": "stdout",
     "output_type": "stream",
     "text": [
      "WOE Optimal number of features selected : 18\n",
      "Train Set Size: (487353, 19)\n",
      "Time elapsed (hh:mm:ss.ms) 0:03:20.277491\n"
     ]
    }
   ],
   "source": [
    "# time how long the conversion takes\n",
    "start_time = datetime.now()\n",
    "\n",
    "#create transformer\n",
    "feature_selector = FeatureSelection()\n",
    "\n",
    "# fit transform training set\n",
    "train_set = feature_selector.fit_transform(train_set)\n",
    "\n",
    "# we will store final features in order to filter our test and hold-out test sets\n",
    "final_features = []\n",
    "\n",
    "# the code below makes sure we  check that all the features selected from the \n",
    "# train set are present in test and hold-out sets first before filtering\n",
    "\n",
    "for column_name in train_set.columns:\n",
    "    if column_name in test_set.columns:\n",
    "        final_features.append(column_name)\n",
    "\n",
    "for column_name in train_set.columns:\n",
    "    if column_name in hold_out_test.columns:\n",
    "        if column_name not in final_features:\n",
    "            final_features.append(column_name)\n",
    "\n",
    "#filter train, test and hold out with features selected\n",
    "train_set = train_set[final_features]\n",
    "test_set = test_set[final_features]\n",
    "hold_out_test = test_set[final_features]\n",
    "\n",
    "# confirm\n",
    "print(\"Train Set Size: {}\".format(train_set.shape))\n",
    "\n",
    "\n",
    "time_elapsed = datetime.now() - start_time\n",
    "print('Time elapsed (hh:mm:ss.ms) {}'.format(time_elapsed))"
   ]
  },
  {
   "cell_type": "markdown",
   "metadata": {},
   "source": [
    "We can see from the above results that WOE determined 18 features were optimal. <br>"
   ]
  },
  {
   "cell_type": "code",
   "execution_count": 66,
   "metadata": {},
   "outputs": [
    {
     "name": "stdout",
     "output_type": "stream",
     "text": [
      "Test Set Shape: (487353, 19)\n",
      "Test 2018 Shape: (146206, 19)\n",
      "Test 2019 Shape: (146206, 19)\n"
     ]
    }
   ],
   "source": [
    "print(\"Test Set Shape: {}\".format(train_set.shape))\n",
    "print(\"Test 2018 Shape: {}\".format(test_set.shape))\n",
    "print(\"Test 2019 Shape: {}\".format(hold_out_test.shape))"
   ]
  },
  {
   "cell_type": "markdown",
   "metadata": {},
   "source": [
    "<h2> <b> Export Cleaned Dataset<b> </h2>\n",
    "<a id=\"export_dataset\"></a>"
   ]
  },
  {
   "cell_type": "code",
   "execution_count": 67,
   "metadata": {},
   "outputs": [],
   "source": [
    "train_set.to_csv('lc_train_cleaned_woe_mean.csv',index=False)\n",
    "hold_out_test.to_csv('lc_hold_out_test_woe_mean.csv',index=False)\n",
    "test_set.to_csv('lc_test_cleaned_woe_mean.csv',index=False)"
   ]
  },
  {
   "cell_type": "code",
   "execution_count": 68,
   "metadata": {},
   "outputs": [
    {
     "name": "stdout",
     "output_type": "stream",
     "text": [
      "Time elapsed (hh:mm:ss.ms) 0:35:29.763741\n"
     ]
    }
   ],
   "source": [
    "notebook_time_elapsed = datetime.now() - notebook_start_time\n",
    "print('Time elapsed (hh:mm:ss.ms) {}'.format(notebook_time_elapsed))"
   ]
  },
  {
   "cell_type": "markdown",
   "metadata": {},
   "source": [
    "The next step is the model building phase. <br>\n",
    "[Predict Loan Defaulters: Part 3 - Model Building](https://nbviewer.jupyter.org/gist/marcelkore/ecf8d28368664cc88ab616a252e26741)"
   ]
  },
  {
   "cell_type": "markdown",
   "metadata": {},
   "source": [
    "### Reference: \n",
    "Azur, M, Stuart, E, Frangakis, C and Leaf, P (2012) 'Multiple Imputation by Chained Equations: What is it and how does it work?' Available at: doi: 10.1002/mpr.329\n",
    "\n",
    "Arora, H (2016) 'Why are tree-based models robust to outliers' Available at: https://dimensionless.in/tree-based-models-roboust-outliers/ <br>\n",
    "Accessed: December 23rd, 2019\n",
    "\n",
    "Boschetti, A and Massaron, L (2018) 'Python Data Science Essentials.' 3rd Edition. Packt Publishing \n",
    "\n",
    "Kuhn, M and Johnson, K (2019) 'Feature Engineering and Selection: A Practical Approach for Predictive Models'<br>\n",
    "Available at: https://bookdown.org/max/FES/goals-of-feature-selection.html (Accessed: December 12th, 2019) <br>\n",
    "\n",
    "Krishnan, S (2018) 'Weight of Evidence and Information Value using Python\" <br>\n",
    "Available at: https://medium.com/@sundarstyles89/weight-of-evidence-and-information-value-using-python-6f05072e83eb (Accessed: December 12th, 2019)"
   ]
  },
  {
   "cell_type": "code",
   "execution_count": null,
   "metadata": {},
   "outputs": [],
   "source": []
  }
 ],
 "metadata": {
  "kernelspec": {
   "display_name": "Python 3",
   "language": "python",
   "name": "python3"
  },
  "language_info": {
   "codemirror_mode": {
    "name": "ipython",
    "version": 3
   },
   "file_extension": ".py",
   "mimetype": "text/x-python",
   "name": "python",
   "nbconvert_exporter": "python",
   "pygments_lexer": "ipython3",
   "version": "3.7.4"
  },
  "name": "Loan_DataSet_Spark",
  "notebookId": 4295954706501391
 },
 "nbformat": 4,
 "nbformat_minor": 4
}
