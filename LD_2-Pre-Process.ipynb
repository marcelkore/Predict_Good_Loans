{
 "cells": [
  {
   "cell_type": "markdown",
   "metadata": {},
   "source": [
    "<h2> Predict Loan Defaulters Part 2_Pre-Processing</h2>\n",
    "We will be processing this notebook using the insight we gained from the first notebook (link below). <br>\n",
    "[Predict Loan Defaulters: Part 1 - EDA](Link here) \n",
    "\n",
    "I will be running the pipelines one by one for the purpose of going through the different steps invoveld in processing this dataset"
   ]
  },
  {
   "cell_type": "markdown",
   "metadata": {},
   "source": [
    "<h3>Notebook Setup</h3>\n",
    "\n",
    "<ol>\n",
    "  <li>Create Transformers to handle diffrents processing needs of our dataset </li>\n",
    "  <li>Apply Transformation to train and test data</li>\n",
    "</ol> \n",
    "\n",
    "\n",
    "[Github Link to orginial notebooks and helper files](https://github.com/marcelkore/LendingClub_LoanDefaulters)"
   ]
  },
  {
   "cell_type": "markdown",
   "metadata": {},
   "source": [
    "### Steps in the process\n",
    "1. [Reading the DataSet](#reading_the_data)\n",
    "2. [Encode Target Feature](#encode_target)\n",
    "3. [Drop Data Leakage Features](#drop_data_leak)\n",
    "3. [Drop Duplicates](#drop_duplicates)  \n",
    "3. [Drop Single Unique Features](#single_unique)  \n",
    "3. [Handle Missing - Drop Using Threshold](#missing_features)  \n",
    "3. [Impute Categoricals](#impute_categorical)  \n",
    "3. [Impute Numerical](#impute_numerical)  \n",
    "3. [Feature Extraction](#feature_extraction)  \n",
    "3. [Feature Engineering](#feature_engineer)\n",
    "3. [Feature Selection](#feature_selector)\n",
    "3. [Export DataSet](#export_dataset)"
   ]
  },
  {
   "cell_type": "code",
   "execution_count": 59,
   "metadata": {
    "slideshow": {
     "slide_type": "slide"
    }
   },
   "outputs": [
    {
     "name": "stdout",
     "output_type": "stream",
     "text": [
      "The autoreload extension is already loaded. To reload it, use:\n",
      "  %reload_ext autoreload\n"
     ]
    }
   ],
   "source": [
    "# Standard Libraries\n",
    "import pandas as pd\n",
    "import numpy as np\n",
    "\n",
    "# category encoding\n",
    "import category_encoders as ce\n",
    "\n",
    "#helper functions\n",
    "import helper_functions as helpers\n",
    "import modeling_helper_functions as mhf\n",
    "import parameter_tuning_helper as pt\n",
    "\n",
    "from eli5.sklearn import PermutationImportance\n",
    "\n",
    "#skearn libraries\n",
    "from sklearn.pipeline import make_pipeline, Pipeline\n",
    "#from sklearn.preprocessing import Imputer, LabelEncoder\n",
    "from sklearn.base import BaseEstimator, TransformerMixin\n",
    "from sklearn.preprocessing import StandardScaler\n",
    "from sklearn.preprocessing import Normalizer\n",
    "from sklearn.impute import SimpleImputer\n",
    "from sklearn.experimental import enable_iterative_imputer\n",
    "from sklearn.impute import IterativeImputer\n",
    "from sklearn.model_selection import train_test_split, cross_val_score\n",
    "from sklearn.metrics import (roc_curve, precision_recall_curve)\n",
    "from sklearn.metrics import accuracy_score, precision_score, recall_score, f1_score\n",
    "\n",
    "from sklearn.linear_model import LogisticRegression\n",
    "from sklearn.feature_selection import RFECV\n",
    "from sklearn.ensemble import RandomForestClassifier\n",
    "from sklearn.model_selection import StratifiedKFold\n",
    "#from fancyimpute import IterativeImputer\n",
    "\n",
    "from xverse.transformer import WOE\n",
    "\n",
    "import yagmail\n",
    "from missingpy import MissForest\n",
    "\n",
    "import itertools\n",
    "# for auto-reloading external modules\n",
    "%load_ext autoreload\n",
    "%autoreload 2\n",
    "\n",
    "import os\n",
    "from datetime import datetime\n",
    "from datetime import date\n",
    "\n",
    "from IPython.core.interactiveshell import InteractiveShell\n",
    "\n",
    "# Viz Libraries\n",
    "import seaborn as sns\n",
    "import psutil\n",
    "import matplotlib.style as style\n",
    "import matplotlib.pyplot as plt\n",
    "%matplotlib inline\n",
    "style.use('fivethirtyeight')\n",
    "\n",
    "\n",
    "import warnings\n",
    "warnings.filterwarnings('ignore')\n",
    "from warnings import simplefilter\n",
    "# ignore all future warnings\n",
    "simplefilter(action='ignore', category=FutureWarning)"
   ]
  },
  {
   "cell_type": "code",
   "execution_count": 2,
   "metadata": {},
   "outputs": [],
   "source": [
    "# track how long notebook took to run\n",
    "notebook_start_time = datetime.now()"
   ]
  },
  {
   "cell_type": "code",
   "execution_count": 3,
   "metadata": {},
   "outputs": [],
   "source": [
    "#!pip install -r requirements.txt\n",
    "#! pipreqs"
   ]
  },
  {
   "cell_type": "code",
   "execution_count": 4,
   "metadata": {},
   "outputs": [],
   "source": [
    "# pretty print all cell's output and not just the last one\n",
    "InteractiveShell.ast_node_interactivity = \"all\"\n",
    "# scientific notation\n",
    "pd.options.display.float_format = '{:.2f}'.format\n",
    "pd.set_option('display.max_columns', 50)"
   ]
  },
  {
   "cell_type": "code",
   "execution_count": 5,
   "metadata": {},
   "outputs": [],
   "source": [
    "# not advised but for the ease of running multiple iterations of this notebook, \n",
    "# i set a couple of global variables for use in the subsequent functions\n",
    "CPU_COUNT = -1"
   ]
  },
  {
   "cell_type": "markdown",
   "metadata": {},
   "source": [
    "### Data Dictionary\n",
    "<h5> We will load the data dictionary to help us inspect feature definitions </h5>"
   ]
  },
  {
   "cell_type": "markdown",
   "metadata": {},
   "source": [
    "We will use data from 2016 and 2017 for training and 2014 and 2018 for test data. <br>"
   ]
  },
  {
   "cell_type": "code",
   "execution_count": 6,
   "metadata": {},
   "outputs": [
    {
     "name": "stdout",
     "output_type": "stream",
     "text": [
      "Train Set Shape: (877986, 152)\n"
     ]
    }
   ],
   "source": [
    "# training data\n",
    "train_set = pd.read_csv('lc_2016_2017.csv')\n",
    "\n",
    "# load 2018 data\n",
    "test_set_2018 = pd.read_csv('lc_2018.csv') # 2019\n",
    "\n",
    "# load 2019 data\n",
    "test_set_2019 = pd.read_csv('lc_2019.csv') # 2019\n",
    "\n",
    "# confirm\n",
    "print(\"Train Set Shape: {}\".format(train_set.shape))"
   ]
  },
  {
   "cell_type": "markdown",
   "metadata": {},
   "source": [
    "## **Convert DataTypes**\n",
    "<a id=\"encode_target\"></a>\n",
    "<p> For memory management, this first transformer converts 'object' datatypes to the less memory demanding 'category' data types. <br>\n",
    "    We also convert any 'float64' data types to 'float32' <br>"
   ]
  },
  {
   "cell_type": "code",
   "execution_count": 7,
   "metadata": {},
   "outputs": [],
   "source": [
    "class ConvertDataTypes(TransformerMixin,BaseEstimator):\n",
    "    \"\"\"\n",
    "    This transformer receives a dataframe and performs the following conversion:\n",
    "    \n",
    "    Any 'object' datatypes present are converted to 'category' datatype\n",
    "    Any 'float64' datatypes present are covnerted to 'float32' datatype\n",
    "    \n",
    "    Args: Pass a dataframe\n",
    "    \n",
    "    Returns: \n",
    "    A dataframe with the data types converted\n",
    "    \n",
    "    \"\"\"\n",
    "    def __init__(self):\n",
    "        pass\n",
    "    \n",
    "    def fit(self,df,y=None):\n",
    "        return self\n",
    "    \n",
    "    def transform(self,df): # pass the dataframe\n",
    "        '''\n",
    "        This transformer calls the convert_data_type function from the helpers_functions file. \n",
    "        '''\n",
    "        \n",
    "        df = helpers.convert_data_type(df)\n",
    "        \n",
    "        return df"
   ]
  },
  {
   "cell_type": "code",
   "execution_count": 8,
   "metadata": {},
   "outputs": [
    {
     "name": "stdout",
     "output_type": "stream",
     "text": [
      "Train Set Size: (877986, 152)\n"
     ]
    }
   ],
   "source": [
    "# create transformer \n",
    "data_type_encoder = ConvertDataTypes()\n",
    "\n",
    "#fit transform dataset\n",
    "train_set = data_type_encoder.fit_transform(train_set)\n",
    "\n",
    "#fit transform dataset\n",
    "test_set_2018 = data_type_encoder.fit_transform(test_set_2018)\n",
    "test_set_2019 = data_type_encoder.fit_transform(test_set_2019)\n",
    "\n",
    "# confirm\n",
    "print(\"Train Set Size: {}\".format(train_set.shape))"
   ]
  },
  {
   "cell_type": "markdown",
   "metadata": {},
   "source": [
    "## **Encode Target Feature**\n",
    "<a id=\"encode_target\"></a>\n",
    "<p> The first step is to split the data into training and test. Since we have an imbalanced dataset as observed in the EDA portion,  <br>\n",
    "    we would be better served if we split it based on having equal representation of our target class in both splits. A stratified split would <br>\n",
    "    be suitable for this although it requires the target feature to be numeric , and hence this first step of encoding our target feature"
   ]
  },
  {
   "cell_type": "code",
   "execution_count": 9,
   "metadata": {},
   "outputs": [
    {
     "data": {
      "image/png": "[encoded data removed]",
      "text/plain": [
       "<Figure size 842.4x187.2 with 1 Axes>"
      ]
     },
     "metadata": {
      "needs_background": "light"
     },
     "output_type": "display_data"
    }
   ],
   "source": [
    "# review our target feature distribution\n",
    "sns.catplot(y=\"loan_status\", kind=\"count\", data=train_set, height=2.6, aspect=4.5, orient='h')\n",
    "plt.title('Train Set')\n",
    "plt.show();"
   ]
  },
  {
   "cell_type": "code",
   "execution_count": 10,
   "metadata": {},
   "outputs": [],
   "source": [
    "class ProcessTargetFeature(TransformerMixin,BaseEstimator):\n",
    "    \"\"\"\n",
    "    This transformer encodes the target feature\n",
    "    \n",
    "    Args: Pass a dataframe\n",
    "    \n",
    "    Returns: \n",
    "    A dataframe with target feature and datatypes converted    \n",
    "    \"\"\"\n",
    "    def __init__(self):\n",
    "        pass\n",
    "    \n",
    "    def fit(self,df,y=None):\n",
    "        return self\n",
    "    \n",
    "    def transform(self,df): # pass the dataframe\n",
    "        \"\"\"\n",
    "        This function calls the helper_functions file to perform the following\n",
    "        \n",
    "        Encode target feature\n",
    "        Filter dataset to the two classes below:\n",
    "        Class 1: Fully Paid Examples in the dataset\n",
    "        Class 0: Charged off, late and defaulted examples.\n",
    "\n",
    "        The target feature is also converted to a category data type\n",
    "        \"\"\"\n",
    "        dataframe = helpers.encode_target_feature(df)\n",
    "                \n",
    "        return dataframe      "
   ]
  },
  {
   "cell_type": "code",
   "execution_count": 11,
   "metadata": {},
   "outputs": [
    {
     "name": "stdout",
     "output_type": "stream",
     "text": [
      "Train Set Size: (482074, 152)\n"
     ]
    }
   ],
   "source": [
    "# create transformer \n",
    "target_encoder = ProcessTargetFeature()\n",
    "\n",
    "#fit transform train and test sets\n",
    "train_set = target_encoder.fit_transform(train_set)\n",
    "\n",
    "#fit transform dataset\n",
    "test_set_2018 = target_encoder.fit_transform(test_set_2018)\n",
    "test_set_2019 = target_encoder.fit_transform(test_set_2019)\n",
    "\n",
    "# confirm\n",
    "print(\"Train Set Size: {}\".format(train_set.shape))"
   ]
  },
  {
   "cell_type": "code",
   "execution_count": 12,
   "metadata": {},
   "outputs": [
    {
     "data": {
      "image/png": "[encoded data removed]",
      "text/plain": [
       "<Figure size 842.4x187.2 with 1 Axes>"
      ]
     },
     "metadata": {
      "needs_background": "light"
     },
     "output_type": "display_data"
    }
   ],
   "source": [
    "# review new distribution of our target feature\n",
    "sns.catplot(y=\"loan_status\", kind=\"count\", data=test_set_2018, height=2.6, aspect=4.5, orient='h')\n",
    "plt.title('Train Set')\n",
    "plt.show();"
   ]
  },
  {
   "cell_type": "code",
   "execution_count": 13,
   "metadata": {},
   "outputs": [
    {
     "data": {
      "image/png": "[encoded data removed]",
      "text/plain": [
       "<Figure size 842.4x187.2 with 1 Axes>"
      ]
     },
     "metadata": {
      "needs_background": "light"
     },
     "output_type": "display_data"
    }
   ],
   "source": [
    "# review new distribution of our target feature\n",
    "sns.catplot(y=\"loan_status\", kind=\"count\", data=train_set, height=2.6, aspect=4.5, orient='h')\n",
    "plt.title('2018 Train Set')\n",
    "plt.show();"
   ]
  },
  {
   "cell_type": "code",
   "execution_count": 14,
   "metadata": {},
   "outputs": [
    {
     "data": {
      "image/png": "[encoded data removed]",
      "text/plain": [
       "<Figure size 842.4x187.2 with 1 Axes>"
      ]
     },
     "metadata": {
      "needs_background": "light"
     },
     "output_type": "display_data"
    }
   ],
   "source": [
    "# review new distribution of our target feature\n",
    "sns.catplot(y=\"loan_status\", kind=\"count\", data=test_set_2019, height=2.6, aspect=4.5, orient='h')\n",
    "plt.title('2019 Train Set')\n",
    "plt.show();"
   ]
  },
  {
   "cell_type": "code",
   "execution_count": 15,
   "metadata": {},
   "outputs": [
    {
     "data": {
      "text/plain": [
       "1   0.77\n",
       "0   0.23\n",
       "Name: loan_status, dtype: float64"
      ]
     },
     "execution_count": 15,
     "metadata": {},
     "output_type": "execute_result"
    }
   ],
   "source": [
    "# view percentage distribution\n",
    "train_set.loan_status.value_counts(normalize=True)"
   ]
  },
  {
   "cell_type": "markdown",
   "metadata": {},
   "source": [
    "<h2><b> Pre-Process Transformers <b></h2>\n",
    "<a id=\"transformers\"></a>\n",
    "We will start our feature selection process during the cleaning phase. With the large number of features available in this dataset,<br> we will first target low hanging fruit i.e., features with a large % of Missing Values, low variance features as candidates for dropping. <p> \n",
    "    \n",
    "<p> We will also drop features as we proceed based on domain/common knowledge i.e., index columns,customer name columns <br>and data collected after a loan applicant has been approved i.e.Target Leak candidates </p>"
   ]
  },
  {
   "cell_type": "markdown",
   "metadata": {},
   "source": [
    "<h2><b> Drop Features <b></h2>\n",
    "<a id=\"drop_features\"></a>"
   ]
  },
  {
   "cell_type": "markdown",
   "metadata": {},
   "source": [
    "We will create a `transformer` that will handle dropping of the following features in our dataset\n",
    "\n",
    "* Irrelevant features that will not inform our final model i.e, indexes\n",
    "* Data Leakage features (see below)\n",
    "* Other features that we determine are not required\n",
    "\n",
    "<p> Data Leakage has to do with using features collected after our event of interest ..in this case, defaulting on a loan.<br>\n",
    "    To put it in another way, these features will not be available to you prior to making the decision whether you should give an <br>\n",
    "    individual a loan or not. The business has to make a decision prior with all the features that make it to our final model\n",
    "    \n",
    "More details on the link below.\n",
    "</p>  \n",
    "<p> <a href=\"https://machinelearningmastery.com/data-leakage-machine-learning/\">Data Leakage in Machine Learning</a></p>\n"
   ]
  },
  {
   "cell_type": "code",
   "execution_count": 16,
   "metadata": {},
   "outputs": [],
   "source": [
    "class DropFeatures(TransformerMixin,BaseEstimator):\n",
    "    \"\"\"\n",
    "    This transformer drops features passed in a list and returns\n",
    "    a dataframe with the features dropped.\n",
    "    \n",
    "    Args:\n",
    "    A list of feature names to be dropped and the dataframe object\n",
    "    Returns:\n",
    "    A dataframe with the features provided dropped. \n",
    "    \"\"\"\n",
    "       \n",
    "    def __init__(self,drop_candidates): # pass list of features to be dropped\n",
    "        self.to_drop = drop_candidates\n",
    "        pass\n",
    "    \n",
    "    def fit(self,df,y=None):\n",
    "        return self\n",
    "    \n",
    "    def transform(self,df):\n",
    "               \n",
    "        drop_features = []\n",
    "        for value in self.to_drop:\n",
    "            if value in df.columns:\n",
    "                drop_features.append(value)\n",
    "                \n",
    "        # Drop the features selected above passed in drop_candidates\n",
    "        return df.drop(labels=drop_features,axis=1) # return dataframe with dropped features"
   ]
  },
  {
   "cell_type": "code",
   "execution_count": 17,
   "metadata": {},
   "outputs": [],
   "source": [
    "# below is a list of features i have determined to either be target leak features or features\n",
    "# that will not inform our model\n",
    "leakage_not_required_features=['recoveries','collection_recovery_fee','last_pymnt_amnt','total_rec_prncp','title',\\\n",
    "                    'total_rec_int','total_rec_late_fee','last_pymnt_d','total_pymnt','funded_amnt',\\\n",
    "                      'total_pymnt_inv','last_credit_pull_d','issue_d','funded_amnt_inv','debt_settlement_flag',\\\n",
    "                'id','member_id','addr_state','zip_code','emp_title','payment_plan_start_date',\n",
    "                'last_fico_range_low','last_fico_range_high','url','issue_date', 'disbursement_method',\\\n",
    "                'desc', 'next_pymnt_d', 'orig_projected_additional_accrued_interest','next_pymnt_d']\n",
    "\n",
    "\n",
    "# we are not going to know payment plan features before providing a loan decision, hence we drop them\n",
    "payment_plan_features = [x for x in train_set.columns[train_set.columns.str.contains('payment')]]\n",
    "\n",
    "# we are not going to know settlement features before providing a loan decision, hence we drop them\n",
    "settlement_features = [x for x in train_set.columns[train_set.columns.str.contains('settlement')]]\n",
    "\n",
    "# hardship features are included if an individual starts facing difficulties during the \n",
    "# life of the loan. definetly information we will not have. hence we drop them\n",
    "hardship_features = [x for x in train_set.columns[train_set.columns.str.contains('hardship')]]\n",
    "\n",
    "# we combine the list of all the features identified above into one list\n",
    "features_to_drop = leakage_not_required_features + payment_plan_features + settlement_features + hardship_features"
   ]
  },
  {
   "cell_type": "code",
   "execution_count": 18,
   "metadata": {},
   "outputs": [
    {
     "name": "stdout",
     "output_type": "stream",
     "text": [
      "Number of features to be dropped including target leakeage features: 51\n",
      "\n",
      "Number of Payment plan features to be dropped: 2\n",
      "\n",
      "Number of Settlement features to be dropped: 2\n",
      "\n",
      "Number of Hardship features to be dropped: 12\n"
     ]
    }
   ],
   "source": [
    "print(\"Number of features to be dropped including target leakeage features: {}\".format(len(features_to_drop)))\n",
    "print(\"\")\n",
    "\n",
    "# drop_features\n",
    "print(\"Number of Payment plan features to be dropped: {}\".format(len(payment_plan_features)))\n",
    "print(\"\")\n",
    "print(\"Number of Settlement features to be dropped: {}\".format(len(payment_plan_features)))\n",
    "print(\"\")\n",
    "print(\"Number of Hardship features to be dropped: {}\".format(len(hardship_features)))"
   ]
  },
  {
   "cell_type": "code",
   "execution_count": 19,
   "metadata": {},
   "outputs": [
    {
     "name": "stdout",
     "output_type": "stream",
     "text": [
      "Train Set Size: (482074, 105)\n"
     ]
    }
   ],
   "source": [
    "#create transformer\n",
    "drop_features_transformer = DropFeatures(features_to_drop)\n",
    "\n",
    "# fit transform training set\n",
    "train_set = drop_features_transformer.fit_transform(train_set)\n",
    "\n",
    "#fit transform dataset\n",
    "test_set_2018 = drop_features_transformer.fit_transform(test_set_2018)\n",
    "test_set_2019 = drop_features_transformer.fit_transform(test_set_2019)\n",
    "\n",
    "# confirm\n",
    "print(\"Train Set Size: {}\".format(train_set.shape))"
   ]
  },
  {
   "cell_type": "markdown",
   "metadata": {},
   "source": [
    "<h2><b> Drop Joint Applications <b></h2>\n",
    "<a id=\"drop_joint_applications\"></a>"
   ]
  },
  {
   "cell_type": "code",
   "execution_count": 20,
   "metadata": {},
   "outputs": [
    {
     "data": {
      "text/plain": [
       "Individual   0.96\n",
       "Joint App    0.04\n",
       "Name: application_type, dtype: float64"
      ]
     },
     "execution_count": 20,
     "metadata": {},
     "output_type": "execute_result"
    }
   ],
   "source": [
    "# check application type unique counts\n",
    "train_set.application_type.value_counts(normalize=True)"
   ]
  },
  {
   "cell_type": "code",
   "execution_count": null,
   "metadata": {},
   "outputs": [],
   "source": []
  },
  {
   "cell_type": "code",
   "execution_count": 21,
   "metadata": {},
   "outputs": [
    {
     "data": {
      "image/png": "[encoded data removed]",
      "text/plain": [
       "<Figure size 842.4x187.2 with 1 Axes>"
      ]
     },
     "metadata": {
      "needs_background": "light"
     },
     "output_type": "display_data"
    }
   ],
   "source": [
    "# review new distribution of our application types\n",
    "sns.catplot(y=\"application_type\", kind=\"count\", data=train_set, height=2.6, aspect=4.5, orient='h')\n",
    "plt.title('Train Set')\n",
    "plt.show();"
   ]
  },
  {
   "cell_type": "code",
   "execution_count": 22,
   "metadata": {},
   "outputs": [
    {
     "data": {
      "image/png": "[encoded data removed]",
      "text/plain": [
       "<Figure size 842.4x187.2 with 1 Axes>"
      ]
     },
     "metadata": {
      "needs_background": "light"
     },
     "output_type": "display_data"
    }
   ],
   "source": [
    "# review new distribution of our application types\n",
    "sns.catplot(y=\"application_type\", kind=\"count\", data=test_set_2018, height=2.6, aspect=4.5, orient='h')\n",
    "plt.title('2018 Test Set')\n",
    "plt.show();"
   ]
  },
  {
   "cell_type": "code",
   "execution_count": 23,
   "metadata": {},
   "outputs": [
    {
     "data": {
      "image/png": "[encoded data removed]",
      "text/plain": [
       "<Figure size 842.4x187.2 with 1 Axes>"
      ]
     },
     "metadata": {
      "needs_background": "light"
     },
     "output_type": "display_data"
    }
   ],
   "source": [
    "# review new distribution of our application types\n",
    "sns.catplot(y=\"application_type\", kind=\"count\", data=test_set_2019, height=2.6, aspect=4.5, orient='h')\n",
    "plt.title('2019 Test Set')\n",
    "plt.show();"
   ]
  },
  {
   "cell_type": "markdown",
   "metadata": {},
   "source": [
    "<p> The output above shows that we have more examples of individual vs joint applications. We want to avoid imbalanced <br> features and more importantly, we can drop 17+ features related to joint applicants that will be otherwise missing. <br>\n",
    "Let's drop those observations and any joint application features available in the dataset i.e., joint & secondary applicant\n",
    "references <br>"
   ]
  },
  {
   "cell_type": "code",
   "execution_count": 24,
   "metadata": {},
   "outputs": [],
   "source": [
    "class DropJointApplications(TransformerMixin,BaseEstimator):\n",
    "    \"\"\"\n",
    "    This transformer drops feature names that match our strings of interest. \n",
    "    In our case, any references to sec & joint\n",
    "    \n",
    "    Args: \n",
    "    ---------------------------------------------\n",
    "    A datframe with our features\n",
    "    \n",
    "    Returns:\n",
    "    ---------------------------------------------\n",
    "    A dataframe without any features with references\n",
    "    to sec, join, hardship and settlement   \n",
    "    \n",
    "    \"\"\"\n",
    "       \n",
    "    def __init__(self):\n",
    "        pass\n",
    "    \n",
    "    def fit(self,df,y=None):\n",
    "        return self\n",
    "    \n",
    "    def transform(self,df):\n",
    "        # we can now assume all references to a secondary applicant start with sec\n",
    "        self.secondary_applicant_drop = [x for x in df.columns[df.columns.str.match('sec')]]\n",
    "        # retrieve columns that contain the word joint which is similar to the\n",
    "        self.secondary_applicant_drop_joint = [x for x in df.columns[df.columns.str.contains('joint')]]\n",
    "   \n",
    "        # Lets drop those features\n",
    "        df.drop(labels=self.secondary_applicant_drop + self.secondary_applicant_drop_joint,inplace=True,axis=1)\n",
    "        return df"
   ]
  },
  {
   "cell_type": "code",
   "execution_count": 25,
   "metadata": {},
   "outputs": [
    {
     "name": "stdout",
     "output_type": "stream",
     "text": [
      "Train Set Size: (482074, 89)\n"
     ]
    }
   ],
   "source": [
    "#create transformer\n",
    "drop_joint_applications_transformer = DropJointApplications()\n",
    "\n",
    "# fit transform training set\n",
    "train_set = drop_joint_applications_transformer.fit_transform(train_set)\n",
    "\n",
    "#fit transform dataset\n",
    "test_set_2018 = drop_joint_applications_transformer.fit_transform(test_set_2018)\n",
    "test_set_2019 = drop_joint_applications_transformer.fit_transform(test_set_2019)\n",
    "\n",
    "# confirm\n",
    "print(\"Train Set Size: {}\".format(train_set.shape))"
   ]
  },
  {
   "cell_type": "markdown",
   "metadata": {},
   "source": [
    "<h2><b> Drop Duplicates <b></h2>\n",
    "<a id=\"drop_duplicates\"></a>"
   ]
  },
  {
   "cell_type": "markdown",
   "metadata": {},
   "source": [
    "Duplicate values decrease the performance of some models. We will drop duplicate observations in the dataset"
   ]
  },
  {
   "cell_type": "code",
   "execution_count": 26,
   "metadata": {},
   "outputs": [],
   "source": [
    "class DropDuplicates(TransformerMixin,BaseEstimator):\n",
    "    \"\"\"\n",
    "    This transformer drops duplicate observations in the dataset\n",
    "    \n",
    "    Args:\n",
    "    a dataframe\n",
    "    \n",
    "    Returns:\n",
    "    a datframe with all duplicates observations dropped\n",
    "    \n",
    "    \"\"\"\n",
    "       \n",
    "    def __init__(self):\n",
    "        pass\n",
    "    \n",
    "    def fit(self,df,y=None):\n",
    "        return self\n",
    "    \n",
    "    def transform(self,df):\n",
    "        # use the pandas function drop duplicates\n",
    "        df.drop_duplicates(inplace=True)\n",
    "        return df"
   ]
  },
  {
   "cell_type": "code",
   "execution_count": 27,
   "metadata": {},
   "outputs": [
    {
     "name": "stdout",
     "output_type": "stream",
     "text": [
      "Train Set Size: (482074, 89)\n"
     ]
    }
   ],
   "source": [
    "#create transformer\n",
    "drop_duplicates = DropDuplicates()\n",
    "\n",
    "# fit transform training set\n",
    "train_set = drop_duplicates.fit_transform(train_set)\n",
    "\n",
    "#fit transform dataset\n",
    "test_set_2018 = drop_duplicates.fit_transform(test_set_2018)\n",
    "test_set_2019 = drop_duplicates.fit_transform(test_set_2019)\n",
    "\n",
    "# confirm\n",
    "print(\"Train Set Size: {}\".format(train_set.shape))"
   ]
  },
  {
   "cell_type": "markdown",
   "metadata": {},
   "source": [
    "<h2><b> Drop Single Unique Features <b></h2>\n",
    "<a id=\"single_unique\"></a>"
   ]
  },
  {
   "cell_type": "markdown",
   "metadata": {},
   "source": [
    "<p> Single unique values do not provide enough variance to benefit a ML algorithm. <p> \n",
    "<p> A feature with all zero would not inform our final model <p>"
   ]
  },
  {
   "cell_type": "code",
   "execution_count": 28,
   "metadata": {},
   "outputs": [],
   "source": [
    "class LowVarianceTransformer(TransformerMixin,BaseEstimator):\n",
    "    \"\"\"\n",
    "    This transformer drops features with single unique values\n",
    "    \n",
    "    Args:\n",
    "    a dataframe\n",
    "    \n",
    "    Returns:\n",
    "    a dataframe with all features with single unique values\n",
    "    dropped\n",
    "    \n",
    "    \"\"\"\n",
    "       \n",
    "    def __init__(self):\n",
    "        pass\n",
    "    \n",
    "    def fit(self,df,y=None):\n",
    "        return self\n",
    "    \n",
    "    def transform(self,df):\n",
    "        \"\"\"\n",
    "        Call function that drops single unique values given a \n",
    "        dataframe\n",
    "        \"\"\"\n",
    "        \n",
    "        df = helpers.drop_low_variance_features(df)\n",
    "        \n",
    "        return df"
   ]
  },
  {
   "cell_type": "code",
   "execution_count": 29,
   "metadata": {},
   "outputs": [
    {
     "name": "stdout",
     "output_type": "stream",
     "text": [
      "The number of features with single unique values is 2\n",
      "The number of features with single unique values is 3\n",
      "The number of features with single unique values is 6\n",
      "Train Set Size: (482074, 87)\n"
     ]
    }
   ],
   "source": [
    "#create transformer\n",
    "drop_low_variance= LowVarianceTransformer()\n",
    "\n",
    "# fit transform training set\n",
    "train_set = drop_low_variance.fit_transform(train_set)\n",
    "\n",
    "#fit transform dataset\n",
    "test_set_2018 = drop_low_variance.fit_transform(test_set_2018)\n",
    "test_set_2019 = drop_low_variance.fit_transform(test_set_2019)\n",
    "\n",
    "# confirm\n",
    "print(\"Train Set Size: {}\".format(train_set.shape))"
   ]
  },
  {
   "cell_type": "code",
   "execution_count": 30,
   "metadata": {},
   "outputs": [
    {
     "name": "stdout",
     "output_type": "stream",
     "text": [
      "Your selected dataframe has 87 columns.\n",
      "There are 31 columns that have missing values.\n"
     ]
    },
    {
     "data": {
      "text/html": [
       "<div>\n",
       "<style scoped>\n",
       "    .dataframe tbody tr th:only-of-type {\n",
       "        vertical-align: middle;\n",
       "    }\n",
       "\n",
       "    .dataframe tbody tr th {\n",
       "        vertical-align: top;\n",
       "    }\n",
       "\n",
       "    .dataframe thead th {\n",
       "        text-align: right;\n",
       "    }\n",
       "</style>\n",
       "<table border=\"1\" class=\"dataframe\">\n",
       "  <thead>\n",
       "    <tr style=\"text-align: right;\">\n",
       "      <th></th>\n",
       "      <th>Missing Values</th>\n",
       "      <th>% of Total Values</th>\n",
       "    </tr>\n",
       "  </thead>\n",
       "  <tbody>\n",
       "    <tr>\n",
       "      <td>mths_since_last_record</td>\n",
       "      <td>386495</td>\n",
       "      <td>80.20</td>\n",
       "    </tr>\n",
       "    <tr>\n",
       "      <td>mths_since_recent_bc_dlq</td>\n",
       "      <td>362589</td>\n",
       "      <td>75.20</td>\n",
       "    </tr>\n",
       "    <tr>\n",
       "      <td>mths_since_last_major_derog</td>\n",
       "      <td>342935</td>\n",
       "      <td>71.10</td>\n",
       "    </tr>\n",
       "    <tr>\n",
       "      <td>mths_since_recent_revol_delinq</td>\n",
       "      <td>311913</td>\n",
       "      <td>64.70</td>\n",
       "    </tr>\n",
       "    <tr>\n",
       "      <td>mths_since_last_delinq</td>\n",
       "      <td>231963</td>\n",
       "      <td>48.10</td>\n",
       "    </tr>\n",
       "    <tr>\n",
       "      <td>il_util</td>\n",
       "      <td>63376</td>\n",
       "      <td>13.10</td>\n",
       "    </tr>\n",
       "    <tr>\n",
       "      <td>mths_since_recent_inq</td>\n",
       "      <td>44460</td>\n",
       "      <td>9.20</td>\n",
       "    </tr>\n",
       "    <tr>\n",
       "      <td>emp_length</td>\n",
       "      <td>32570</td>\n",
       "      <td>6.80</td>\n",
       "    </tr>\n",
       "    <tr>\n",
       "      <td>num_tl_120dpd_2m</td>\n",
       "      <td>24174</td>\n",
       "      <td>5.00</td>\n",
       "    </tr>\n",
       "    <tr>\n",
       "      <td>mths_since_rcnt_il</td>\n",
       "      <td>12467</td>\n",
       "      <td>2.60</td>\n",
       "    </tr>\n",
       "    <tr>\n",
       "      <td>mo_sin_old_il_acct</td>\n",
       "      <td>12417</td>\n",
       "      <td>2.60</td>\n",
       "    </tr>\n",
       "    <tr>\n",
       "      <td>bc_util</td>\n",
       "      <td>5940</td>\n",
       "      <td>1.20</td>\n",
       "    </tr>\n",
       "    <tr>\n",
       "      <td>percent_bc_gt_75</td>\n",
       "      <td>5716</td>\n",
       "      <td>1.20</td>\n",
       "    </tr>\n",
       "    <tr>\n",
       "      <td>bc_open_to_buy</td>\n",
       "      <td>5685</td>\n",
       "      <td>1.20</td>\n",
       "    </tr>\n",
       "    <tr>\n",
       "      <td>mths_since_recent_bc</td>\n",
       "      <td>5355</td>\n",
       "      <td>1.10</td>\n",
       "    </tr>\n",
       "    <tr>\n",
       "      <td>revol_util</td>\n",
       "      <td>359</td>\n",
       "      <td>0.10</td>\n",
       "    </tr>\n",
       "    <tr>\n",
       "      <td>dti</td>\n",
       "      <td>235</td>\n",
       "      <td>0.00</td>\n",
       "    </tr>\n",
       "    <tr>\n",
       "      <td>all_util</td>\n",
       "      <td>96</td>\n",
       "      <td>0.00</td>\n",
       "    </tr>\n",
       "    <tr>\n",
       "      <td>open_acc_6m</td>\n",
       "      <td>56</td>\n",
       "      <td>0.00</td>\n",
       "    </tr>\n",
       "    <tr>\n",
       "      <td>total_cu_tl</td>\n",
       "      <td>56</td>\n",
       "      <td>0.00</td>\n",
       "    </tr>\n",
       "    <tr>\n",
       "      <td>inq_last_12m</td>\n",
       "      <td>56</td>\n",
       "      <td>0.00</td>\n",
       "    </tr>\n",
       "    <tr>\n",
       "      <td>open_il_12m</td>\n",
       "      <td>55</td>\n",
       "      <td>0.00</td>\n",
       "    </tr>\n",
       "    <tr>\n",
       "      <td>open_act_il</td>\n",
       "      <td>55</td>\n",
       "      <td>0.00</td>\n",
       "    </tr>\n",
       "    <tr>\n",
       "      <td>total_bal_il</td>\n",
       "      <td>55</td>\n",
       "      <td>0.00</td>\n",
       "    </tr>\n",
       "    <tr>\n",
       "      <td>open_il_24m</td>\n",
       "      <td>55</td>\n",
       "      <td>0.00</td>\n",
       "    </tr>\n",
       "    <tr>\n",
       "      <td>open_rv_12m</td>\n",
       "      <td>55</td>\n",
       "      <td>0.00</td>\n",
       "    </tr>\n",
       "    <tr>\n",
       "      <td>inq_fi</td>\n",
       "      <td>55</td>\n",
       "      <td>0.00</td>\n",
       "    </tr>\n",
       "    <tr>\n",
       "      <td>max_bal_bc</td>\n",
       "      <td>55</td>\n",
       "      <td>0.00</td>\n",
       "    </tr>\n",
       "    <tr>\n",
       "      <td>open_rv_24m</td>\n",
       "      <td>55</td>\n",
       "      <td>0.00</td>\n",
       "    </tr>\n",
       "    <tr>\n",
       "      <td>avg_cur_bal</td>\n",
       "      <td>5</td>\n",
       "      <td>0.00</td>\n",
       "    </tr>\n",
       "    <tr>\n",
       "      <td>inq_last_6mths</td>\n",
       "      <td>1</td>\n",
       "      <td>0.00</td>\n",
       "    </tr>\n",
       "  </tbody>\n",
       "</table>\n",
       "</div>"
      ],
      "text/plain": [
       "                                Missing Values  % of Total Values\n",
       "mths_since_last_record                  386495              80.20\n",
       "mths_since_recent_bc_dlq                362589              75.20\n",
       "mths_since_last_major_derog             342935              71.10\n",
       "mths_since_recent_revol_delinq          311913              64.70\n",
       "mths_since_last_delinq                  231963              48.10\n",
       "il_util                                  63376              13.10\n",
       "mths_since_recent_inq                    44460               9.20\n",
       "emp_length                               32570               6.80\n",
       "num_tl_120dpd_2m                         24174               5.00\n",
       "mths_since_rcnt_il                       12467               2.60\n",
       "mo_sin_old_il_acct                       12417               2.60\n",
       "bc_util                                   5940               1.20\n",
       "percent_bc_gt_75                          5716               1.20\n",
       "bc_open_to_buy                            5685               1.20\n",
       "mths_since_recent_bc                      5355               1.10\n",
       "revol_util                                 359               0.10\n",
       "dti                                        235               0.00\n",
       "all_util                                    96               0.00\n",
       "open_acc_6m                                 56               0.00\n",
       "total_cu_tl                                 56               0.00\n",
       "inq_last_12m                                56               0.00\n",
       "open_il_12m                                 55               0.00\n",
       "open_act_il                                 55               0.00\n",
       "total_bal_il                                55               0.00\n",
       "open_il_24m                                 55               0.00\n",
       "open_rv_12m                                 55               0.00\n",
       "inq_fi                                      55               0.00\n",
       "max_bal_bc                                  55               0.00\n",
       "open_rv_24m                                 55               0.00\n",
       "avg_cur_bal                                  5               0.00\n",
       "inq_last_6mths                               1               0.00"
      ]
     },
     "execution_count": 30,
     "metadata": {},
     "output_type": "execute_result"
    }
   ],
   "source": [
    "# check number of features with missing values in the dataset\n",
    "helpers.missing_values_table(train_set)"
   ]
  },
  {
   "cell_type": "markdown",
   "metadata": {},
   "source": [
    "<h2><b> Impute Numerical Features <b></h2>\n",
    "<a id=\"impute_numerical\"></a>"
   ]
  },
  {
   "cell_type": "markdown",
   "metadata": {},
   "source": [
    "We create a `transformer` that will handle imputing numerical features. We will impute specific 'count' features that <br>\n",
    "would be penalized  if replaced with a mean or median. These features are relevant in the sense that having an occurence <br>\n",
    "of them is significant i.e., number of charged_off_accounts. The difference between having 1 or more charged_off_accounts <br>\n",
    "and having none (0) means a lot as the latter signifies a discplined clean record  while the former has shown that they <br>\n",
    "are capable of 'defaulting' on an account. Imputing such features with a mean or a median does not  make any sense as they <br>\n",
    "will 'penalize' the observation uncessarily "
   ]
  },
  {
   "cell_type": "code",
   "execution_count": 31,
   "metadata": {},
   "outputs": [],
   "source": [
    "class ReplaceWithValue(TransformerMixin,BaseEstimator):\n",
    "    \"\"\"\n",
    "    This transformer imputes missing  categoricals by replacing them \n",
    "    with the median value.\n",
    "    \n",
    "    Args:\n",
    "    features set: A dataframe\n",
    "    \n",
    "    Returns: \n",
    "    A dataframe with numerical features imputed\n",
    "    \"\"\"\n",
    "    def __init__(self, replace_with_value = None):\n",
    "        self.replace_with_value = replace_with_value\n",
    "        pass\n",
    "    \n",
    "    def fit(self,df,y=None):\n",
    "        return self\n",
    "    \n",
    "    def transform(self,df):\n",
    "        \"\"\"\n",
    "        Call function that imputes missing values in features\n",
    "        passed with a specific value. In this instance the default\n",
    "        replacement value is 0 \n",
    "        \"\"\"\n",
    "        \n",
    "        features_to_impute = []\n",
    "        \n",
    "        for value in self.replace_with_value:\n",
    "            if value in df.columns:\n",
    "                features_to_impute.append(value)        \n",
    "        \n",
    "        \n",
    "        return helpers.impute_numerical_features(df,features_to_impute=features_to_impute)\n",
    "    "
   ]
  },
  {
   "cell_type": "markdown",
   "metadata": {},
   "source": [
    "Below code selects features that are 'counts' of observations i.e., months since last derogatory account, number of <br> \n",
    "open accounts etc. <br>\n",
    "\n",
    "We will replace all missing instances with zero instead of a median or mean value. "
   ]
  },
  {
   "cell_type": "code",
   "execution_count": 32,
   "metadata": {},
   "outputs": [],
   "source": [
    "mths_since = [x for x in train_set.columns[train_set.columns.str.match('mths_since')]]\n",
    "inquiries_since = [x for x in train_set.columns[train_set.columns.str.match('inq_')]]\n",
    "mo_since = [x for x in train_set.columns[train_set.columns.str.match('mo_sin')]]\n",
    "number_of_counts = [x for x in train_set.columns[train_set.columns.str.match('num_')]]\n",
    "number_of_open_a = [x for x in train_set.columns[train_set.columns.str.match('open_')]]\n",
    "number_of_open_b = [x for x in train_set.columns[train_set.columns.str.match('acc_now')]]\n",
    "number_of_open_c = [x for x in train_set.columns[train_set.columns.str.match('chargeoff_within')]]\n",
    "number_of_open_d = [x for x in train_set.columns[train_set.columns.str.match('inq_last')]]\n",
    "number_of_open_e = [x for x in train_set.columns[train_set.columns.str.match('mort_')]]\n",
    "\n",
    "# ['num_tl_120dpd_2m',  'acc_now_delinq', 'num_tl_30dpd']\n",
    "                                                                             \n",
    "replace_with_zero = number_of_open_a + number_of_open_b +\\\n",
    "                    number_of_open_c + number_of_open_d +\\\n",
    "                    number_of_open_d + number_of_open_e +\\\n",
    "                    mths_since + number_of_counts +\\\n",
    "                    mo_since + inquiries_since"
   ]
  },
  {
   "cell_type": "code",
   "execution_count": 33,
   "metadata": {},
   "outputs": [
    {
     "name": "stdout",
     "output_type": "stream",
     "text": [
      "Couldn't find program: 'False'\n"
     ]
    }
   ],
   "source": [
    "%%script False\n",
    "# check for features in test_set_2018\n",
    "test_set_2018_ft = set(test_set_2018.columns.tolist())\n",
    "\n",
    "# check for features in test_set_2018\n",
    "test_set_2019_ft = set(test_set_2019.columns.tolist())\n",
    "\n",
    "test_set_b = set(replace_with_zero)\n",
    "\n",
    "# select only feature present in train and test set\n",
    "test_set_2018_features = test_set_2018_ft & test_set_b\n",
    "test_set_2019_features = test_set_2019_ft & test_set_b\n",
    "\n",
    "# final list of features present in both train and test\n",
    "final_list_to_zero = list(test_set_2018_features & test_set_2019_features)"
   ]
  },
  {
   "cell_type": "code",
   "execution_count": 34,
   "metadata": {},
   "outputs": [
    {
     "name": "stdout",
     "output_type": "stream",
     "text": [
      "43 features have been imputed with 0 value\n",
      "42 features have been imputed with 0 value\n",
      "40 features have been imputed with 0 value\n",
      "Train Set Size: (482074, 87)\n"
     ]
    }
   ],
   "source": [
    "replace_with_value = ReplaceWithValue(replace_with_zero)\n",
    "\n",
    "# fit transform train set\n",
    "train_set = replace_with_value.fit_transform(train_set)\n",
    "\n",
    "#fit transform dataset\n",
    "test_set_2018 = replace_with_value.fit_transform(test_set_2018)\n",
    "test_set_2019 = replace_with_value.fit_transform(test_set_2019)\n",
    "\n",
    "# confirm\n",
    "print(\"Train Set Size: {}\".format(train_set.shape))"
   ]
  },
  {
   "cell_type": "markdown",
   "metadata": {},
   "source": [
    "<h2><b> Feature Extraction <b></h2>\n",
    "<a id=\"feature_extraction\"></a>\n",
    "\n",
    "`Feature extraction`, not to be confused by `Feature Engineering` or feature selection in my opinion deals with extracting features from the <br>\n",
    "existing features. Feature engineering aims to create new features and dimension reduction techniques come up with completly new features that are <br>\n",
    "representative of the orginial data . <br>\n",
    "<br>\n",
    "We will create the `transformer` below to perform the feature extraction on the dataset"
   ]
  },
  {
   "cell_type": "code",
   "execution_count": 35,
   "metadata": {},
   "outputs": [],
   "source": [
    "class FeatureExtraction(TransformerMixin,BaseEstimator):\n",
    "    \n",
    "    \"\"\"\n",
    "    This transformer takes as input a dataframe and a list of features. It then\n",
    "    strips the strings values and leaves only the numerical values resulting in a numeric feature. \n",
    "    \n",
    "    As a secondary step, it also maintains the category dtype for categorical features. \n",
    "    \n",
    "    Args: a dataframe, list of  features to be extracted\n",
    "    \n",
    "    Returns: a dataframe with features extracted\n",
    "     \n",
    "    \"\"\"\n",
    "    \n",
    "    def __init__(self,features_to_extract, convert_to_category): # pass list of features with potential numerical values\n",
    "        self.features = features_to_extract\n",
    "        self.convert_cats = convert_to_category\n",
    "        pass\n",
    "    \n",
    "    def fit(self,df,y=None):\n",
    "        return self\n",
    "    \n",
    "    def transform(self,df):\n",
    "        # calls a function for the helpers file that extract numerical features from a list passed\n",
    "        return helpers.extract_numerical_features(df,\n",
    "                                                  feature_names_to_extract=self.features,\n",
    "                                                  convert_to_categorical=self.convert_cats)"
   ]
  },
  {
   "cell_type": "code",
   "execution_count": 36,
   "metadata": {},
   "outputs": [],
   "source": [
    "# variable for feature extractor - pass features you want to extract numerical\n",
    "features_to_extract = ['term','emp_length','earliest_cr_line']\n",
    "convert_to_categorical_dtype = ['term','emp_length']"
   ]
  },
  {
   "cell_type": "code",
   "execution_count": 37,
   "metadata": {},
   "outputs": [
    {
     "name": "stdout",
     "output_type": "stream",
     "text": [
      "Train Set Size: (482074, 87)\n"
     ]
    }
   ],
   "source": [
    "#create transformer\n",
    "feature_extractor = FeatureExtraction(features_to_extract,convert_to_category = convert_to_categorical_dtype)\n",
    "\n",
    "# fit transform training set\n",
    "train_set = feature_extractor.fit_transform(train_set)\n",
    "\n",
    "#fit transform dataset\n",
    "test_set_2018 = feature_extractor.fit_transform(test_set_2018)\n",
    "test_set_2019 = feature_extractor.fit_transform(test_set_2019)\n",
    "\n",
    "# confirm\n",
    "print(\"Train Set Size: {}\".format(train_set.shape))"
   ]
  },
  {
   "cell_type": "markdown",
   "metadata": {},
   "source": [
    "<h2><b> Handle Missing Values - Drop Using Threshold <b></h2>\n",
    "<a id=\"missing_features\"></a>"
   ]
  },
  {
   "cell_type": "markdown",
   "metadata": {},
   "source": [
    "We will create a `transformer` that will handle dropping of features with missing values and scenarios where imputation should work. This transformer uses a threshold of 80%. We will still inspect <br>\n",
    "the selected features to be dropped to determine if any of them are informative enough for techniques like binning or transforming them into  binary categories. <br>\n",
    "\n",
    "Missing values should be investigated during the exploratory phase to determine why the values are missing and if so, what steps can be taken upstream to ensure they come down the pipeline <br>\n",
    "in a desired format. Organizations with mature data governance shops might see less of these types of issues. <br>\n",
    " "
   ]
  },
  {
   "cell_type": "code",
   "execution_count": 38,
   "metadata": {},
   "outputs": [],
   "source": [
    "class DropMissingTransformer(TransformerMixin,BaseEstimator):\n",
    "    \"\"\"\n",
    "    This transformer drops features with greater than 80% of features missing.  \n",
    "    \n",
    "    Args:\n",
    "    features set: A dataframe\n",
    "    drop threshold: optional field with the target % features to be dropped. default is 80\n",
    "    \n",
    "    Returns: \n",
    "    A dataframe without features with greater than the specified amount of missing values\n",
    "    \"\"\"\n",
    "    def __init__(self,drop_threshold = 80):\n",
    "        self.threshold_for_drop = drop_threshold\n",
    "        pass\n",
    "    \n",
    "    def fit(self,df,y=None):\n",
    "        return self\n",
    "    \n",
    "    def transform(self,df):\n",
    "        # this function calls the helpers - drop_features_with miss function\n",
    "        return helpers.drop_features_with_missing_values(df,threshold_value=self.threshold_for_drop)\n",
    "    "
   ]
  },
  {
   "cell_type": "code",
   "execution_count": 39,
   "metadata": {},
   "outputs": [
    {
     "name": "stdout",
     "output_type": "stream",
     "text": [
      "Train Set Size: (482074, 87)\n"
     ]
    }
   ],
   "source": [
    "#create transformer\n",
    "drop_missing= DropMissingTransformer()\n",
    "\n",
    "# fit transform training set\n",
    "train_set = drop_missing.fit_transform(train_set)\n",
    "\n",
    "#fit transform dataset\n",
    "test_set_2018 = drop_missing.fit_transform(test_set_2018)\n",
    "test_set_2019 = drop_missing.fit_transform(test_set_2019)\n",
    "\n",
    "# confirm\n",
    "print(\"Train Set Size: {}\".format(train_set.shape))"
   ]
  },
  {
   "cell_type": "code",
   "execution_count": 40,
   "metadata": {},
   "outputs": [
    {
     "name": "stdout",
     "output_type": "stream",
     "text": [
      "Your selected dataframe has 87 columns.\n",
      "There are 12 columns that have missing values.\n"
     ]
    },
    {
     "data": {
      "text/html": [
       "<div>\n",
       "<style scoped>\n",
       "    .dataframe tbody tr th:only-of-type {\n",
       "        vertical-align: middle;\n",
       "    }\n",
       "\n",
       "    .dataframe tbody tr th {\n",
       "        vertical-align: top;\n",
       "    }\n",
       "\n",
       "    .dataframe thead th {\n",
       "        text-align: right;\n",
       "    }\n",
       "</style>\n",
       "<table border=\"1\" class=\"dataframe\">\n",
       "  <thead>\n",
       "    <tr style=\"text-align: right;\">\n",
       "      <th></th>\n",
       "      <th>Missing Values</th>\n",
       "      <th>% of Total Values</th>\n",
       "    </tr>\n",
       "  </thead>\n",
       "  <tbody>\n",
       "    <tr>\n",
       "      <td>il_util</td>\n",
       "      <td>63376</td>\n",
       "      <td>13.10</td>\n",
       "    </tr>\n",
       "    <tr>\n",
       "      <td>emp_length</td>\n",
       "      <td>32570</td>\n",
       "      <td>6.80</td>\n",
       "    </tr>\n",
       "    <tr>\n",
       "      <td>bc_util</td>\n",
       "      <td>5940</td>\n",
       "      <td>1.20</td>\n",
       "    </tr>\n",
       "  </tbody>\n",
       "</table>\n",
       "</div>"
      ],
      "text/plain": [
       "            Missing Values  % of Total Values\n",
       "il_util              63376              13.10\n",
       "emp_length           32570               6.80\n",
       "bc_util               5940               1.20"
      ]
     },
     "execution_count": 40,
     "metadata": {},
     "output_type": "execute_result"
    }
   ],
   "source": [
    "# check number of features with missing values in the dataset\n",
    "helpers.missing_values_table(train_set).head(3)"
   ]
  },
  {
   "cell_type": "markdown",
   "metadata": {},
   "source": [
    "<h2><b> Impute Categorical Features <b></h2>\n",
    "<a id=\"impute_categorical\"></a>"
   ]
  },
  {
   "cell_type": "markdown",
   "metadata": {},
   "source": [
    "We will create a `transformer` that will handle imputing categorical features <br>"
   ]
  },
  {
   "cell_type": "code",
   "execution_count": 41,
   "metadata": {},
   "outputs": [],
   "source": [
    "class Impute_Categorical_Features(TransformerMixin,BaseEstimator):\n",
    "    \"\"\"\n",
    "    This transformer imputes missing  categoricals by replacing them \n",
    "    with the most frequent occurence in the feature. It uses the sklearn_pandas\n",
    "    library and replaces missing values with the most frequent occurence\n",
    "    \n",
    "    It will determine categorical features using the dtype 'category'\n",
    "    \n",
    "    Args:\n",
    "    features set: A dataframe\n",
    "    \n",
    "    Returns: \n",
    "    A dataframe with categorical features imputed\n",
    "    \"\"\"\n",
    "    def __init__(self):\n",
    "        pass\n",
    "    \n",
    "    def fit(self,df,y=None):\n",
    "        return self\n",
    "    \n",
    "    def transform(self,df):\n",
    "        '''\n",
    "        create a list of categorical features by identifying\n",
    "        them using the dtype ='category'\n",
    "        '''\n",
    "        df = helpers.impute_features(df,strategy='most_frequent')\n",
    "        return df"
   ]
  },
  {
   "cell_type": "code",
   "execution_count": 42,
   "metadata": {},
   "outputs": [
    {
     "name": "stdout",
     "output_type": "stream",
     "text": [
      "Train Set Size: (482074, 87)\n"
     ]
    }
   ],
   "source": [
    "#create transformer\n",
    "cat_imputer = Impute_Categorical_Features()\n",
    "\n",
    "# fit transform training set\n",
    "train_set = cat_imputer.fit_transform(train_set)\n",
    "\n",
    "#fit transform dataset\n",
    "test_set_2018 = cat_imputer.fit_transform(test_set_2018)\n",
    "test_set_2019 = cat_imputer.fit_transform(test_set_2019)\n",
    "\n",
    "# confirm\n",
    "print(\"Train Set Size: {}\".format(train_set.shape))"
   ]
  },
  {
   "cell_type": "markdown",
   "metadata": {},
   "source": [
    "<h2> <b> Category Encoding </b> </h2>\n",
    "<a id=\"category_encoder\"></a>\n",
    "\n",
    "`Categorical Data`, as the name suggests refers to data that is grouped into different categories such that each variable can take on a limited, or typically <br>\n",
    "fixed number of possible values, thus assigning each individual to a particular category. <br>\n",
    "\n",
    "Different types of categorical data exist today in literature. \n",
    "\n",
    "`Nominal Data` - Defines categorical data without any natural order i.e., dataset that has favourite pie as a feature representing different categories (pies) <br>\n",
    "`Ordinal Data` - As the name implies, this is categorical data that has a ranking order i.e., first grade, second grade, third grade <br>\n",
    "\n",
    "In general, how we handle such features slightly varies depending on the algorithms we are planning to use. We will use the category_encoders libarary <br>\n",
    "to perform the encoding of our categorical data. \n",
    "\n",
    "As a note, there are different types of categorical encoding schemes available including `Binary encoding`,  `One Hot Encoding (OHE)` etc. <br>\n",
    "\n",
    "Some literature highlights that tree-based algorithms are not affected by OneHotEncoding while other say they do. See article below. \n",
    "<p> <a href=\"https://roamanalytics.com/2016/10/28/are-categorical-variables-getting-lost-in-your-random-forests//\">RomanticAnalytics take on OneHotEncoding</a></p>\n",
    "\n",
    "For ordered features, we will use the ordinal encoder to maintain the relationship in heirarchy \n"
   ]
  },
  {
   "cell_type": "code",
   "execution_count": 43,
   "metadata": {},
   "outputs": [],
   "source": [
    "class Ordinal_Encoder(TransformerMixin,BaseEstimator):\n",
    "    \"\"\"\n",
    "    This transformer takes as input a dataframe and encodes\n",
    "    pre-selected features passed as a list.\n",
    "    \n",
    "    Args:\n",
    "    a dataframe and ordinal features\n",
    "    \n",
    "    Returns: \n",
    "    a dataframe containing encoded categorical features\n",
    "    \n",
    "    \"\"\"\n",
    "    def __init__(self,strategy,list_of_features):\n",
    "        self.list_of_features = list_of_features\n",
    "        self.strategy = strategy\n",
    "        pass\n",
    "    \n",
    "    def fit(self,df,y=None):\n",
    "        return self\n",
    "    \n",
    "    def transform(self,df): # pass the dataframe \n",
    "        # catboost ordinal encoder uses the target variable to determine the encodings\n",
    "        dataframe = helpers.encode_categorical_features(df,self.strategy,self.list_of_features)\n",
    "        return dataframe"
   ]
  },
  {
   "cell_type": "code",
   "execution_count": 44,
   "metadata": {},
   "outputs": [
    {
     "data": {
      "text/html": [
       "<div>\n",
       "<style scoped>\n",
       "    .dataframe tbody tr th:only-of-type {\n",
       "        vertical-align: middle;\n",
       "    }\n",
       "\n",
       "    .dataframe tbody tr th {\n",
       "        vertical-align: top;\n",
       "    }\n",
       "\n",
       "    .dataframe thead th {\n",
       "        text-align: right;\n",
       "    }\n",
       "</style>\n",
       "<table border=\"1\" class=\"dataframe\">\n",
       "  <thead>\n",
       "    <tr style=\"text-align: right;\">\n",
       "      <th></th>\n",
       "      <th>term</th>\n",
       "      <th>grade</th>\n",
       "      <th>sub_grade</th>\n",
       "      <th>emp_length</th>\n",
       "      <th>home_ownership</th>\n",
       "      <th>verification_status</th>\n",
       "      <th>loan_status</th>\n",
       "      <th>pymnt_plan</th>\n",
       "      <th>purpose</th>\n",
       "    </tr>\n",
       "  </thead>\n",
       "  <tbody>\n",
       "    <tr>\n",
       "      <td>293736</td>\n",
       "      <td>36.00</td>\n",
       "      <td>A</td>\n",
       "      <td>A4</td>\n",
       "      <td>5.00</td>\n",
       "      <td>MORTGAGE</td>\n",
       "      <td>Not Verified</td>\n",
       "      <td>1</td>\n",
       "      <td>n</td>\n",
       "      <td>debt_consolidation</td>\n",
       "    </tr>\n",
       "    <tr>\n",
       "      <td>453080</td>\n",
       "      <td>36.00</td>\n",
       "      <td>A</td>\n",
       "      <td>A2</td>\n",
       "      <td>1.00</td>\n",
       "      <td>MORTGAGE</td>\n",
       "      <td>Not Verified</td>\n",
       "      <td>1</td>\n",
       "      <td>n</td>\n",
       "      <td>debt_consolidation</td>\n",
       "    </tr>\n",
       "    <tr>\n",
       "      <td>401229</td>\n",
       "      <td>36.00</td>\n",
       "      <td>B</td>\n",
       "      <td>B4</td>\n",
       "      <td>10.00</td>\n",
       "      <td>OWN</td>\n",
       "      <td>Not Verified</td>\n",
       "      <td>1</td>\n",
       "      <td>n</td>\n",
       "      <td>credit_card</td>\n",
       "    </tr>\n",
       "  </tbody>\n",
       "</table>\n",
       "</div>"
      ],
      "text/plain": [
       "        term grade sub_grade emp_length home_ownership verification_status  \\\n",
       "293736 36.00     A        A4       5.00       MORTGAGE        Not Verified   \n",
       "453080 36.00     A        A2       1.00       MORTGAGE        Not Verified   \n",
       "401229 36.00     B        B4      10.00            OWN        Not Verified   \n",
       "\n",
       "       loan_status pymnt_plan             purpose  \n",
       "293736           1          n  debt_consolidation  \n",
       "453080           1          n  debt_consolidation  \n",
       "401229           1          n         credit_card  "
      ]
     },
     "execution_count": 44,
     "metadata": {},
     "output_type": "execute_result"
    }
   ],
   "source": [
    "train_set.iloc[:,0:25].select_dtypes(include='category').sample(3)"
   ]
  },
  {
   "cell_type": "code",
   "execution_count": 45,
   "metadata": {},
   "outputs": [
    {
     "name": "stdout",
     "output_type": "stream",
     "text": [
      "Train Set Size: (482074, 87)\n"
     ]
    }
   ],
   "source": [
    "# ordinal features to encode using the ordinal encoder\n",
    "ordinals = ['grade','sub_grade']\n",
    "\n",
    "#create transformer\n",
    "ordinal_encoder =Ordinal_Encoder(strategy='ordinal',list_of_features=ordinals)\n",
    "\n",
    "# fit transform training set\n",
    "train_set = ordinal_encoder.fit_transform(train_set)\n",
    "\n",
    "#fit transform dataset\n",
    "test_set_2018 = ordinal_encoder.fit_transform(test_set_2018)\n",
    "test_set_2019 = ordinal_encoder.fit_transform(test_set_2019)\n",
    "\n",
    "# confirm\n",
    "print(\"Train Set Size: {}\".format(train_set.shape))"
   ]
  },
  {
   "cell_type": "code",
   "execution_count": 46,
   "metadata": {},
   "outputs": [
    {
     "data": {
      "text/html": [
       "<div>\n",
       "<style scoped>\n",
       "    .dataframe tbody tr th:only-of-type {\n",
       "        vertical-align: middle;\n",
       "    }\n",
       "\n",
       "    .dataframe tbody tr th {\n",
       "        vertical-align: top;\n",
       "    }\n",
       "\n",
       "    .dataframe thead th {\n",
       "        text-align: right;\n",
       "    }\n",
       "</style>\n",
       "<table border=\"1\" class=\"dataframe\">\n",
       "  <thead>\n",
       "    <tr style=\"text-align: right;\">\n",
       "      <th></th>\n",
       "      <th>term</th>\n",
       "      <th>grade</th>\n",
       "      <th>sub_grade</th>\n",
       "      <th>emp_length</th>\n",
       "      <th>home_ownership</th>\n",
       "      <th>verification_status</th>\n",
       "      <th>pymnt_plan</th>\n",
       "      <th>purpose</th>\n",
       "    </tr>\n",
       "  </thead>\n",
       "  <tbody>\n",
       "    <tr>\n",
       "      <td>414451</td>\n",
       "      <td>36.00</td>\n",
       "      <td>5</td>\n",
       "      <td>21</td>\n",
       "      <td>10.00</td>\n",
       "      <td>MORTGAGE</td>\n",
       "      <td>Source Verified</td>\n",
       "      <td>n</td>\n",
       "      <td>medical</td>\n",
       "    </tr>\n",
       "    <tr>\n",
       "      <td>390790</td>\n",
       "      <td>36.00</td>\n",
       "      <td>3</td>\n",
       "      <td>12</td>\n",
       "      <td>5.00</td>\n",
       "      <td>RENT</td>\n",
       "      <td>Verified</td>\n",
       "      <td>n</td>\n",
       "      <td>credit_card</td>\n",
       "    </tr>\n",
       "    <tr>\n",
       "      <td>320741</td>\n",
       "      <td>36.00</td>\n",
       "      <td>3</td>\n",
       "      <td>13</td>\n",
       "      <td>6.00</td>\n",
       "      <td>MORTGAGE</td>\n",
       "      <td>Not Verified</td>\n",
       "      <td>n</td>\n",
       "      <td>credit_card</td>\n",
       "    </tr>\n",
       "  </tbody>\n",
       "</table>\n",
       "</div>"
      ],
      "text/plain": [
       "        term grade sub_grade emp_length home_ownership verification_status  \\\n",
       "414451 36.00     5        21      10.00       MORTGAGE     Source Verified   \n",
       "390790 36.00     3        12       5.00           RENT            Verified   \n",
       "320741 36.00     3        13       6.00       MORTGAGE        Not Verified   \n",
       "\n",
       "       pymnt_plan      purpose  \n",
       "414451          n      medical  \n",
       "390790          n  credit_card  \n",
       "320741          n  credit_card  "
      ]
     },
     "execution_count": 46,
     "metadata": {},
     "output_type": "execute_result"
    }
   ],
   "source": [
    "train_set.iloc[:,0:25].select_dtypes(include='category').sample(3)"
   ]
  },
  {
   "cell_type": "code",
   "execution_count": 47,
   "metadata": {},
   "outputs": [],
   "source": [
    "class Non_Ordinal_Encoder(TransformerMixin,BaseEstimator):\n",
    "    \"\"\"\n",
    "    This transformer takes as input a dataframe and encodes selected features. \n",
    "    \n",
    "    Args: a dataframe\n",
    "    \n",
    "    Returns: \n",
    "    a dataframe containing encoded categorical features. We use the JamesStein Encoder\n",
    "    \n",
    "    \"\"\"\n",
    "    def __init__(self,strategy,list_of_features):\n",
    "        self.list_of_features = list_of_features\n",
    "        self.strategy = strategy\n",
    "        pass\n",
    "    \n",
    "    def fit(self,df,y=None):\n",
    "        return self\n",
    "    \n",
    "    def transform(self,df): # pass the dataframe \n",
    "        # encoder uses the target variable to determine the encodings\n",
    "        # thus we will split the dataset as such, show below\n",
    "        dataframe = helpers.encode_categorical_features(df,self.strategy, self.list_of_features)\n",
    "        return dataframe    "
   ]
  },
  {
   "cell_type": "code",
   "execution_count": 48,
   "metadata": {},
   "outputs": [],
   "source": [
    "# ordinal features to exclude\n",
    "features_to_exclude = ['grade','sub_grade','emp_length','term']"
   ]
  },
  {
   "cell_type": "markdown",
   "metadata": {},
   "source": [
    "We exclude the features above as the transformer relies on the 'category' data type to single out features for encoding. <br>\n",
    "Loan status is also excluded in the function. "
   ]
  },
  {
   "cell_type": "code",
   "execution_count": 49,
   "metadata": {},
   "outputs": [
    {
     "name": "stdout",
     "output_type": "stream",
     "text": [
      "Train Set Size: (482074, 87)\n"
     ]
    }
   ],
   "source": [
    "#create transformer\n",
    "non_ordinal_encoder =Non_Ordinal_Encoder(strategy='non_ordinal',list_of_features=features_to_exclude)\n",
    "\n",
    "# fit transform training set\n",
    "train_set = non_ordinal_encoder.fit_transform(train_set)\n",
    "\n",
    "#fit transform dataset\n",
    "test_set_2018 = non_ordinal_encoder.fit_transform(test_set_2018)\n",
    "test_set_2019 = non_ordinal_encoder.fit_transform(test_set_2019)\n",
    "\n",
    "# confirm\n",
    "print(\"Train Set Size: {}\".format(train_set.shape))"
   ]
  },
  {
   "cell_type": "code",
   "execution_count": 50,
   "metadata": {},
   "outputs": [
    {
     "data": {
      "text/html": [
       "<div>\n",
       "<style scoped>\n",
       "    .dataframe tbody tr th:only-of-type {\n",
       "        vertical-align: middle;\n",
       "    }\n",
       "\n",
       "    .dataframe tbody tr th {\n",
       "        vertical-align: top;\n",
       "    }\n",
       "\n",
       "    .dataframe thead th {\n",
       "        text-align: right;\n",
       "    }\n",
       "</style>\n",
       "<table border=\"1\" class=\"dataframe\">\n",
       "  <thead>\n",
       "    <tr style=\"text-align: right;\">\n",
       "      <th></th>\n",
       "      <th>term</th>\n",
       "      <th>grade</th>\n",
       "      <th>sub_grade</th>\n",
       "      <th>emp_length</th>\n",
       "      <th>home_ownership</th>\n",
       "      <th>verification_status</th>\n",
       "      <th>pymnt_plan</th>\n",
       "      <th>purpose</th>\n",
       "      <th>initial_list_status</th>\n",
       "      <th>application_type</th>\n",
       "      <th>loan_status</th>\n",
       "    </tr>\n",
       "  </thead>\n",
       "  <tbody>\n",
       "    <tr>\n",
       "      <td>14656</td>\n",
       "      <td>60.00</td>\n",
       "      <td>3</td>\n",
       "      <td>14</td>\n",
       "      <td>1.00</td>\n",
       "      <td>0.73</td>\n",
       "      <td>0.77</td>\n",
       "      <td>0.77</td>\n",
       "      <td>0.76</td>\n",
       "      <td>0.78</td>\n",
       "      <td>0.73</td>\n",
       "      <td>1</td>\n",
       "    </tr>\n",
       "    <tr>\n",
       "      <td>308020</td>\n",
       "      <td>60.00</td>\n",
       "      <td>3</td>\n",
       "      <td>11</td>\n",
       "      <td>7.00</td>\n",
       "      <td>0.73</td>\n",
       "      <td>0.71</td>\n",
       "      <td>0.77</td>\n",
       "      <td>0.78</td>\n",
       "      <td>0.78</td>\n",
       "      <td>0.77</td>\n",
       "      <td>0</td>\n",
       "    </tr>\n",
       "  </tbody>\n",
       "</table>\n",
       "</div>"
      ],
      "text/plain": [
       "        term grade sub_grade emp_length home_ownership verification_status  \\\n",
       "14656  60.00     3        14       1.00           0.73                0.77   \n",
       "308020 60.00     3        11       7.00           0.73                0.71   \n",
       "\n",
       "       pymnt_plan purpose initial_list_status application_type loan_status  \n",
       "14656        0.77    0.76                0.78             0.73           1  \n",
       "308020       0.77    0.78                0.78             0.77           0  "
      ]
     },
     "execution_count": 50,
     "metadata": {},
     "output_type": "execute_result"
    }
   ],
   "source": [
    "# confirm categorical features have been encoded and ordinal features excluded\n",
    "train_set.select_dtypes(include='category').sample(2)"
   ]
  },
  {
   "cell_type": "markdown",
   "metadata": {},
   "source": [
    "From the table above, we can now see that all our categorical features have been imputed and encoded based on their specific characteristics"
   ]
  },
  {
   "cell_type": "code",
   "execution_count": 51,
   "metadata": {},
   "outputs": [
    {
     "name": "stdout",
     "output_type": "stream",
     "text": [
      "Your selected dataframe has 87 columns.\n",
      "There are 11 columns that have missing values.\n"
     ]
    },
    {
     "data": {
      "text/html": [
       "<div>\n",
       "<style scoped>\n",
       "    .dataframe tbody tr th:only-of-type {\n",
       "        vertical-align: middle;\n",
       "    }\n",
       "\n",
       "    .dataframe tbody tr th {\n",
       "        vertical-align: top;\n",
       "    }\n",
       "\n",
       "    .dataframe thead th {\n",
       "        text-align: right;\n",
       "    }\n",
       "</style>\n",
       "<table border=\"1\" class=\"dataframe\">\n",
       "  <thead>\n",
       "    <tr style=\"text-align: right;\">\n",
       "      <th></th>\n",
       "      <th>Missing Values</th>\n",
       "      <th>% of Total Values</th>\n",
       "    </tr>\n",
       "  </thead>\n",
       "  <tbody>\n",
       "    <tr>\n",
       "      <td>il_util</td>\n",
       "      <td>63376</td>\n",
       "      <td>13.10</td>\n",
       "    </tr>\n",
       "    <tr>\n",
       "      <td>bc_util</td>\n",
       "      <td>5940</td>\n",
       "      <td>1.20</td>\n",
       "    </tr>\n",
       "    <tr>\n",
       "      <td>percent_bc_gt_75</td>\n",
       "      <td>5716</td>\n",
       "      <td>1.20</td>\n",
       "    </tr>\n",
       "    <tr>\n",
       "      <td>bc_open_to_buy</td>\n",
       "      <td>5685</td>\n",
       "      <td>1.20</td>\n",
       "    </tr>\n",
       "    <tr>\n",
       "      <td>revol_util</td>\n",
       "      <td>359</td>\n",
       "      <td>0.10</td>\n",
       "    </tr>\n",
       "    <tr>\n",
       "      <td>dti</td>\n",
       "      <td>235</td>\n",
       "      <td>0.00</td>\n",
       "    </tr>\n",
       "    <tr>\n",
       "      <td>all_util</td>\n",
       "      <td>96</td>\n",
       "      <td>0.00</td>\n",
       "    </tr>\n",
       "    <tr>\n",
       "      <td>total_cu_tl</td>\n",
       "      <td>56</td>\n",
       "      <td>0.00</td>\n",
       "    </tr>\n",
       "    <tr>\n",
       "      <td>total_bal_il</td>\n",
       "      <td>55</td>\n",
       "      <td>0.00</td>\n",
       "    </tr>\n",
       "    <tr>\n",
       "      <td>max_bal_bc</td>\n",
       "      <td>55</td>\n",
       "      <td>0.00</td>\n",
       "    </tr>\n",
       "    <tr>\n",
       "      <td>avg_cur_bal</td>\n",
       "      <td>5</td>\n",
       "      <td>0.00</td>\n",
       "    </tr>\n",
       "  </tbody>\n",
       "</table>\n",
       "</div>"
      ],
      "text/plain": [
       "                  Missing Values  % of Total Values\n",
       "il_util                    63376              13.10\n",
       "bc_util                     5940               1.20\n",
       "percent_bc_gt_75            5716               1.20\n",
       "bc_open_to_buy              5685               1.20\n",
       "revol_util                   359               0.10\n",
       "dti                          235               0.00\n",
       "all_util                      96               0.00\n",
       "total_cu_tl                   56               0.00\n",
       "total_bal_il                  55               0.00\n",
       "max_bal_bc                    55               0.00\n",
       "avg_cur_bal                    5               0.00"
      ]
     },
     "execution_count": 51,
     "metadata": {},
     "output_type": "execute_result"
    }
   ],
   "source": [
    "# check number of features with missing values in the dataset\n",
    "helpers.missing_values_table(train_set)"
   ]
  },
  {
   "cell_type": "markdown",
   "metadata": {},
   "source": [
    "<h2><b> Impute Numerical Features <b></h2>\n",
    "<a id=\"impute_numerical\"></a>"
   ]
  },
  {
   "cell_type": "markdown",
   "metadata": {},
   "source": [
    "We will create a `transformer` that will handle imputing numerical features.<br>\n",
    "I'll be using MICE imputation for the remaining missing numerical values. More on MICE imputation below:\n",
    "\n",
    "[Azure et,al on MICE Imputation](https://www.ncbi.nlm.nih.gov/pmc/articles/PMC3074241/)"
   ]
  },
  {
   "cell_type": "code",
   "execution_count": null,
   "metadata": {},
   "outputs": [],
   "source": []
  },
  {
   "cell_type": "code",
   "execution_count": 52,
   "metadata": {},
   "outputs": [],
   "source": [
    "class Impute_Numerical_Features(TransformerMixin,BaseEstimator):\n",
    "    \"\"\"\n",
    "    This transformer imputes missing numerical using the \n",
    "    Iterative imputer which is a variant of mice imputation. \n",
    "    \n",
    "    Args:\n",
    "    features set: A dataframe\n",
    "    \n",
    "    Returns: \n",
    "    A dataframe with numerical features imputed\n",
    "    \"\"\"\n",
    "    def __init__(self):\n",
    "        pass\n",
    "    \n",
    "    def fit(self,df,y=None):\n",
    "        return self\n",
    "    \n",
    "    def transform(self,df):\n",
    "              \n",
    "        # drop our target feature\n",
    "        x = df.drop('loan_status', axis=1)\n",
    "        # save our target feature in a y variable\n",
    "        y = df.loan_status\n",
    "        \n",
    "        # store feature names for dataframe\n",
    "        column_names = x.columns\n",
    "                \n",
    "        ## MICE Imputation         \n",
    "        # create mice imputer object\n",
    "        mice_imputer = IterativeImputer()\n",
    "        \n",
    "        # fit_transform dataset        \n",
    "        df_temp_imputed = mice_imputer.fit_transform(x)\n",
    "        \n",
    "        # transform back to a dataframe format        \n",
    "        df_temp_imputed = pd.DataFrame(df_temp_imputed,columns=column_names )\n",
    "                         \n",
    "        # merge back the target variable to the dataframe(df)\n",
    "        df = df_temp_imputed.merge(y, on=y.index)  \n",
    "        \n",
    "        df.drop(\"key_0\", axis=1, inplace=True)\n",
    "              \n",
    "        return df\n",
    "    "
   ]
  },
  {
   "cell_type": "code",
   "execution_count": 53,
   "metadata": {},
   "outputs": [
    {
     "name": "stdout",
     "output_type": "stream",
     "text": [
      "Train Set Size: (482074, 87)\n"
     ]
    }
   ],
   "source": [
    "#create transformer\n",
    "mice_imputer = Impute_Numerical_Features()\n",
    "\n",
    "# fit transform training set\n",
    "train_set = mice_imputer.fit_transform(train_set)\n",
    "\n",
    "#fit transform dataset\n",
    "test_set_2018 = mice_imputer.fit_transform(test_set_2018)\n",
    "test_set_2019 = mice_imputer.fit_transform(test_set_2019)\n",
    "\n",
    "# confirm\n",
    "print(\"Train Set Size: {}\".format(train_set.shape))"
   ]
  },
  {
   "cell_type": "code",
   "execution_count": 54,
   "metadata": {},
   "outputs": [
    {
     "name": "stdout",
     "output_type": "stream",
     "text": [
      "Your selected dataframe has 87 columns.\n",
      "There are 0 columns that have missing values.\n"
     ]
    },
    {
     "data": {
      "text/html": [
       "<div>\n",
       "<style scoped>\n",
       "    .dataframe tbody tr th:only-of-type {\n",
       "        vertical-align: middle;\n",
       "    }\n",
       "\n",
       "    .dataframe tbody tr th {\n",
       "        vertical-align: top;\n",
       "    }\n",
       "\n",
       "    .dataframe thead th {\n",
       "        text-align: right;\n",
       "    }\n",
       "</style>\n",
       "<table border=\"1\" class=\"dataframe\">\n",
       "  <thead>\n",
       "    <tr style=\"text-align: right;\">\n",
       "      <th></th>\n",
       "      <th>Missing Values</th>\n",
       "      <th>% of Total Values</th>\n",
       "    </tr>\n",
       "  </thead>\n",
       "  <tbody>\n",
       "  </tbody>\n",
       "</table>\n",
       "</div>"
      ],
      "text/plain": [
       "Empty DataFrame\n",
       "Columns: [Missing Values, % of Total Values]\n",
       "Index: []"
      ]
     },
     "execution_count": 54,
     "metadata": {},
     "output_type": "execute_result"
    }
   ],
   "source": [
    "# peek at remaining missing values in our dataframe\n",
    "helpers.missing_values_table(train_set).head(3)"
   ]
  },
  {
   "cell_type": "markdown",
   "metadata": {},
   "source": [
    "At this point we have cleaned the dataset of missing values based on various strategies."
   ]
  },
  {
   "cell_type": "markdown",
   "metadata": {},
   "source": [
    "<h2> <b> Feature Engineering <b> </h2>\n",
    "<a id=\"feature_engineer\"></a>\n",
    "<p> Feature Engineering different from feature selection involves generating  new features from the existing data as opposed to say <br>\n",
    "    feature selection which picks and chooses which features to drop based on domain knowledge or unimportance </p>\n",
    "    \n",
    "<p> Feature Engineering is the difference between a great model and a subpar model and usual involves sourcing data from outside <br>\n",
    "    other sources to come up with unique features. We stick to the basics below by interacting with existing features to create new ones </p>\n",
    "    "
   ]
  },
  {
   "cell_type": "code",
   "execution_count": 55,
   "metadata": {},
   "outputs": [],
   "source": [
    "class FeatureEngineering_Manual(TransformerMixin,BaseEstimator):\n",
    "    \"\"\"\n",
    "    This transformer generates new features from the existing dataset. \n",
    "    \n",
    "    Parameters:\n",
    "    ------------------\n",
    "    A dataframe object\n",
    "    \n",
    "    Returns:\n",
    "    ------------------\n",
    "    A dataframe object with new features created\n",
    "    \n",
    "    \"\"\"\n",
    "    def __init__(self):\n",
    "        pass\n",
    "    \n",
    "    def fit(self,df,y=None):\n",
    "        return self\n",
    "    \n",
    "    def transform(self,df):\n",
    "        # store features in a separate variable                \n",
    "        cats= ['term','emp_length']\n",
    "        df[cats] = df[cats].astype('float32')\n",
    "        \n",
    "        # age of earliest credit line\n",
    "        current_year = date.today().year\n",
    "        df['earliest_cr_line_length'] = current_year - df['earliest_cr_line']\n",
    "    \n",
    "        # total interest paid\n",
    "        df['fe_interest_paid_monthly'] = (df['int_rate'] / 12) * df['loan_amnt']\n",
    "        \n",
    "        df['fe_interest_paid_term'] = (df['int_rate'] / df['term']) * df['loan_amnt']\n",
    "        \n",
    "        # calculate monthly interest paid\n",
    "        df['fe_monthly_int'] = (df[\"loan_amnt\"]/df[\"term\"]) + (((df[\"int_rate\"]/100)* 12) * df[\"loan_amnt\"])\n",
    "        \n",
    "        # Total Loan Two\n",
    "        df['fe_loan_total']=(df.dti/100)*(df.annual_inc/12)*df.term\n",
    "        \n",
    "        # calculate annual percentage rate\n",
    "        df['fe_apr'] = ((df['int_rate'] / df['loan_amnt']) * 365) * 100\n",
    "        \n",
    "        \n",
    "         # monthly payment \n",
    "        df['fe_monthly_payment'] = df['loan_amnt'] /df['term']\n",
    "        \n",
    "        # monthly_to_income_available\n",
    "        df['fe_mti_avail'] = df['annual_inc'] - (df['fe_monthly_payment'] * 1000)\n",
    "        \n",
    "        # debt repayment monthly\n",
    "        df['fe_monthly_income'] = df['annual_inc'].apply(lambda x: x/12 if x > 0 else -9999)\n",
    "        \n",
    "        df['fe_int_rate + open_acc'] = df['int_rate'] + df['open_acc']\n",
    "        \n",
    "        df['fe_int_rate * loan_amnt'] = df['int_rate'] * df['loan_amnt']\n",
    "\n",
    "        \n",
    "        # fico score - i think lending club already uses fico score to determine the grades\n",
    "        # in any case, if they are highly correlated, we have a transformer will take care of that\n",
    "        # below.I am really trying to get interaction between fico score and other 'key' features\n",
    "        df['fico_score'] = ((df['fico_range_high'] + df['fico_range_low'])/2)\n",
    "        \n",
    "        df['fico_score_neg'] = (df['fico_range_high'] - df['fico_range_low'])\n",
    "        \n",
    "        df['fico_score_neg_dti'] = (df['fico_range_high'] - df['fico_range_low']) * df['dti']\n",
    "        \n",
    "        df['fico_score_neg_term'] = (df['fico_range_high'] - df['fico_range_low']) * df['term']\n",
    "        \n",
    "        \n",
    "        df.drop('fico_range_high',axis=1,inplace=True)\n",
    "        df.drop('fico_range_low',axis=1,inplace=True)\n",
    "        df.drop('earliest_cr_line',axis=1,inplace=True)\n",
    "        \n",
    "        cats= ['term','emp_length']        \n",
    "        df[cats] = df[cats].astype('category')\n",
    "        \n",
    "        return df"
   ]
  },
  {
   "cell_type": "code",
   "execution_count": 56,
   "metadata": {},
   "outputs": [
    {
     "name": "stdout",
     "output_type": "stream",
     "text": [
      "Train Set Size: (482074, 99)\n"
     ]
    }
   ],
   "source": [
    "#create transformer\n",
    "ft_engineering = FeatureEngineering_Manual()\n",
    "\n",
    "# fit transform training set\n",
    "train_set = ft_engineering.fit_transform(train_set)\n",
    "\n",
    "#fit transform dataset\n",
    "test_set_2018 = ft_engineering.fit_transform(test_set_2018)\n",
    "test_set_2019 = ft_engineering.fit_transform(test_set_2019)\n",
    "\n",
    "# confirm\n",
    "print(\"Train Set Size: {}\".format(train_set.shape))"
   ]
  },
  {
   "cell_type": "markdown",
   "metadata": {},
   "source": [
    "<h2> <b>Correlation <b> </h2>\n",
    "<a id=\"correlation\"></a>\n",
    "<p> We look for highly correlated features because of a couple of reasons. If two or more features are correlated, they <br>\n",
    "    would be informing our final model with the same information. With a dataset with high dimensions like the one we have, <br>\n",
    "    we are looking for ways of reducing the search space for training our final model. Removing highly correlated features is one way to achieve this</p>\n",
    "    "
   ]
  },
  {
   "cell_type": "code",
   "execution_count": 57,
   "metadata": {},
   "outputs": [],
   "source": [
    "class CorrelationTransformer(TransformerMixin,BaseEstimator):\n",
    "    \"\"\"\n",
    "    This transformer takes as input a dataframe and calculates the correlation between the features. \n",
    "    It will then remove the most correlated features based on a threshold of 0.90\n",
    "    \n",
    "    Args: dataframe and threshold hold value that is defaulted at 0.90\n",
    "    \n",
    "    Return: dataframe with correlated features dropped\n",
    "    \n",
    "    \"\"\"\n",
    "    def __init__(self,threshold=0.90):\n",
    "        self.threshold = threshold\n",
    "        pass\n",
    "    \n",
    "    def fit(self,df,y=None):\n",
    "        return self\n",
    "    \n",
    "    def transform(self,df):\n",
    "        \n",
    "        df = helpers.drop_highly_correlated_features(df)\n",
    "        return df"
   ]
  },
  {
   "cell_type": "code",
   "execution_count": 60,
   "metadata": {},
   "outputs": [
    {
     "data": {
      "text/html": [
       "<div>\n",
       "<style scoped>\n",
       "    .dataframe tbody tr th:only-of-type {\n",
       "        vertical-align: middle;\n",
       "    }\n",
       "\n",
       "    .dataframe tbody tr th {\n",
       "        vertical-align: top;\n",
       "    }\n",
       "\n",
       "    .dataframe thead th {\n",
       "        text-align: right;\n",
       "    }\n",
       "</style>\n",
       "<table border=\"1\" class=\"dataframe\">\n",
       "  <thead>\n",
       "    <tr style=\"text-align: right;\">\n",
       "      <th></th>\n",
       "      <th>feature</th>\n",
       "      <th>Description</th>\n",
       "    </tr>\n",
       "  </thead>\n",
       "  <tbody>\n",
       "    <tr>\n",
       "      <td>143</td>\n",
       "      <td>disbursement_method</td>\n",
       "      <td>The method by which the borrower receives their loan. Possible values are: CASH, DIRECT_PAY</td>\n",
       "    </tr>\n",
       "  </tbody>\n",
       "</table>\n",
       "</div>"
      ],
      "text/plain": [
       "                 feature  \\\n",
       "143  disbursement_method   \n",
       "\n",
       "                                                                                     Description  \n",
       "143  The method by which the borrower receives their loan. Possible values are: CASH, DIRECT_PAY  "
      ]
     },
     "execution_count": 60,
     "metadata": {},
     "output_type": "execute_result"
    }
   ],
   "source": [
    "helpers.data_dictionary(['disbursement_method'])"
   ]
  },
  {
   "cell_type": "code",
   "execution_count": 61,
   "metadata": {},
   "outputs": [
    {
     "name": "stdout",
     "output_type": "stream",
     "text": [
      "Number of correlated features dropped = 16\n",
      "Train Set Size: (482074, 83)\n"
     ]
    }
   ],
   "source": [
    "#create transformer\n",
    "correlation = CorrelationTransformer()\n",
    "\n",
    "list_of_features_prior = train_set.columns.tolist()\n",
    "\n",
    "# fit transform training set\n",
    "train_set = correlation.fit_transform(train_set)\n",
    "\n",
    "\n",
    "list_of_features_post = train_set.columns.tolist()\n",
    "\n",
    "\n",
    "def Diff(li1, li2): \n",
    "    return (list(set(li1) - set(li2)))\n",
    "\n",
    "corr_features_to_drop = Diff(list_of_features_prior,list_of_features_post )\n",
    "\n",
    "#fit transform dataset\n",
    "\n",
    "for value in corr_features_to_drop:\n",
    "    if value in corr_features_to_drop:\n",
    "        test_set_2018.drop(labels=value,axis=1,inplace=True)\n",
    "        \n",
    "for value in corr_features_to_drop:\n",
    "    if value in corr_features_to_drop:\n",
    "        test_set_2019.drop(labels=value,axis=1,inplace=True)\n",
    "\n",
    "# confirm\n",
    "print(\"Train Set Size: {}\".format(train_set.shape))"
   ]
  },
  {
   "cell_type": "markdown",
   "metadata": {},
   "source": [
    "We can see most of our engineered features were dropped since they were highly correlated as suspected."
   ]
  },
  {
   "cell_type": "markdown",
   "metadata": {},
   "source": [
    "<h2> <b> Remove Outliers<b> </h2>\n",
    "<h3> Multi-variate Outlier Detection </h3>\n",
    "<a id=\"outliers\"></a>\n",
    "<p>\n",
    "Outliers represent a rare occurence in the dataset, an unusual occurence of a distribution or some mistakes in the data collection phase. <br>\n",
    "Due to the high dimensions in the dataset, we will employ multi-variate outlier detection techniques. One point to note  is that fact that tree-based algorithms <br>\n",
    "are not neccessarily affected by outliers (Arora, 2016). Having said that, we might try to explore linear models during the feature selection phase or even explore a <br>\n",
    "neural network algorithm which might be affected by outliers. Needless to say, removing outliers from the dataset does not neccesarily degrade performance of a <br>\n",
    "decision tree based algorithm other than the fact we are are removing more training examples that could be used by the model </p>"
   ]
  },
  {
   "cell_type": "markdown",
   "metadata": {},
   "source": [
    "<h4> Elliptic Envelope </h4>\n",
    "\n",
    "`Elliptic Envolope` function tries to figure out the key parameters while assuming the entire dataset is an expression of an underlying multivariate gaussian distribution. <br>\n",
    "It checks the distance of each observation with respect to a grand mean that takes into account all variables in your dataset. (Boschetti and Massaron, 2018) </p>\n",
    "\n",
    "Elliptic envolope function tries to figure out the key parameters while assuming the entire dataset is an expression of an underlying multivariate gaussian <br>\n",
    "distribution. It will spot both univariate and multivariate outliers. <br> \n",
    "\n",
    "For this reason, we will also ensure we scale the features before performing the outlier detection due to the aforemention assumptioned of a gaussian distribution. <br>\n",
    "The function used below scales the features using sklearn's standard scaler before applying the EE function. \n",
    "    \n",
    "Also for this large dataset, it would be tedious to manually use boxplots to determine and drop outliers for each feature. \n",
    "\n",
    "</p>"
   ]
  },
  {
   "cell_type": "code",
   "execution_count": 62,
   "metadata": {},
   "outputs": [],
   "source": [
    "class OutlierTransformer(TransformerMixin,BaseEstimator):\n",
    "    \"\"\"\n",
    "    This transformer is responsible for removing outliers in our dataset. \n",
    "    It uses the elliptical envolope functions to achieve this. \n",
    "    \"\"\"\n",
    "    \n",
    "    def __init__(self,contamination = 0.2):\n",
    "        self.contamination_value = contamination\n",
    "        pass\n",
    "    \n",
    "    def fit(self,df,y=None):\n",
    "        return self\n",
    "    \n",
    "    def transform(self,df):\n",
    "        # call the Ellliptic Envelope function through the helpers file\n",
    "        df = helpers.remove_outliers(df)\n",
    "        \n",
    "        return df"
   ]
  },
  {
   "cell_type": "code",
   "execution_count": 63,
   "metadata": {},
   "outputs": [],
   "source": [
    "# https://ramhiser.com/post/2018-03-25-feature-selection-with-scikit-learn-pipeline/\n",
    "class PipelineRFE(Pipeline):\n",
    "\n",
    "    def fit(self, X, y=None, **fit_params):\n",
    "        super(PipelineRFE, self).fit(X, y, **fit_params)\n",
    "        self.feature_importances_ = self.steps[-1][-1].feature_importances_\n",
    "        return self"
   ]
  },
  {
   "cell_type": "code",
   "execution_count": 64,
   "metadata": {},
   "outputs": [],
   "source": [
    "class OutlierTransformer_Scaled(TransformerMixin,BaseEstimator):\n",
    "    \"\"\"\n",
    "    \"\"\"\n",
    "       \n",
    "    def __init__(self):\n",
    "        pass\n",
    "    \n",
    "    def fit(self,df,y=None):\n",
    "        return self\n",
    "\n",
    "    def transform(self,df):\n",
    "        \n",
    "                \n",
    "        # load preprocessing transformers        \n",
    "        outlier_pipeline= PipelineRFE(steps=[\n",
    "            ('scaling_transformer', StandardScaler()),# here we want to scale our features before running our model tuning\n",
    "            ('outlier_detection', OutlierTransformer())]) # here we pass the outlier transformer\n",
    "            \n",
    "        df=outlier_pipeline.fit_transform(df)          \n",
    "                                     \n",
    "        return df"
   ]
  },
  {
   "cell_type": "code",
   "execution_count": 65,
   "metadata": {},
   "outputs": [
    {
     "name": "stdout",
     "output_type": "stream",
     "text": [
      "The number of outliers in the dataframe passed : (96415, 84)\n",
      "The number of outliers in the dataframe passed : (32882, 83)\n",
      "The number of outliers in the dataframe passed : (8514, 80)\n",
      "Train Set Size: (385659, 83)\n"
     ]
    }
   ],
   "source": [
    "#create transformer\n",
    "outliers = OutlierTransformer()\n",
    "\n",
    "# fit transform training set\n",
    "train_set = outliers.fit_transform(train_set)\n",
    "\n",
    "#fit transform dataset\n",
    "test_set_2018 = outliers.fit_transform(test_set_2018)\n",
    "test_set_2019 = outliers.fit_transform(test_set_2019)\n",
    "\n",
    "# confirm\n",
    "print(\"Train Set Size: {}\".format(train_set.shape))"
   ]
  },
  {
   "cell_type": "markdown",
   "metadata": {},
   "source": [
    "<h2> <b> Feature Selection <b> </h2>\n",
    "    \n",
    "<h3> <b> Weight of Evidence and Information Value<b> </h3>\n",
    "<a id=\"feature_selector\"></a>\n",
    "    \n",
    "I have reviewed a number of papers related to this specific dataset and what I noticed was that while most of them achieve higher scores, <br>\n",
    "they perform no feature selection whatsoever. This is both impracticable and misleading as a trade-off between predictive performance and <br>\n",
    "model interpretability has to be considered. \n",
    "    \n",
    "For this dataset, we will be using WOE and IV to calculate the most informative features in our dataset. <br>\n",
    "\n",
    "<p> <a href=\"https://medium.com/@sundarstyles89/weight-of-evidence-and-information-value-using-python-6f05072e83eb/\">Weight of Evidence Article</a></p>\n",
    "    \n",
    "    \n",
    "We do this as alluded earlier to reduce model complexity and increase model interpretability. An additional benefit raised by Kuhn & Johnson (2019) <br>\n",
    "is that arriving fewer features can reduce the costs of acquiring data or improving the throughput of software predictions. <br>\n",
    "So, instead of this pipeline processing 145 features we maybe we only include in the pipeline 20 features that we know are enough to give us an acceptable outcome. \n",
    "\n",
    "> Reduce the number of predictors as far as possible without compromising predictive performance (Kuhn & Johnson, 2019.) <br>\n",
    "    \n",
    "Other available methods that can be used include:\n",
    "\n",
    "`RFECV ` -This is considered a greedy wrapper method that uses backwards selection to arrive to a smaller set of predictors. The search begins with a all the <br>\n",
    "features included after which through the ranking generated by feature importance, the set of features is reduced. One disadvantage of this technique is that <br>\n",
    "it does not consider important interactions between different features i.e., fico_score and annual_income together might lead to a more accurate prediction. <br>\n",
    "The second disadvantage is that it is more likely to overfit the training data. The third and most salient for me is that it takes a long long time. <br>\n",
    "\n",
    "`Permutation Importance`  - This method determines important features in a dataset by introducing randomized features and measuring the increase in prediction error <br>\n",
    "(sensitivity of the model). If a feature is important for predicting an outcome, then altering or permuting its values results in a significant reduction of the <br>\n",
    " models performance. If no change is observed, then the assumption is made that the feature was not that important to begin with. It can be used in conjunction with selectkbest <br>\n",
    "as a feature selection method. "
   ]
  },
  {
   "cell_type": "code",
   "execution_count": 66,
   "metadata": {},
   "outputs": [],
   "source": [
    "class FeatureSelection(TransformerMixin,BaseEstimator):\n",
    "    \"\"\"\n",
    "    This transformer takes as input a dataframe and determines features\n",
    "    importance using the Weight of Evidence Algorithm. \n",
    "    \n",
    "    Args: \n",
    "    A dataframe\n",
    "    \n",
    "    Return: \n",
    "    A dataframe with ony important features selected based on a threshold. \n",
    "    \n",
    "    \"\"\"\n",
    "       \n",
    "    def __init__(self):\n",
    "        pass\n",
    "    \n",
    "    def fit(self,df,y=None):\n",
    "        return self\n",
    "\n",
    "    def transform(self,df):\n",
    "        \n",
    "        cat_features = []\n",
    "        for col_name in df.columns:\n",
    "            if(df[col_name].dtype != 'float64'):\n",
    "                if col_name != 'loan_status':\n",
    "                    cat_features.append(col_name)\n",
    "                df[col_name] = df[col_name].astype('int64')\n",
    "                \n",
    "        # drop our target feature\n",
    "        X = df.drop('loan_status', axis=1)\n",
    "        # save our target feature in a y variable\n",
    "        y = df.loan_status\n",
    "        \n",
    "        # create WOE object\n",
    "        clf = WOE()\n",
    "        \n",
    "        # fit the dataset X,y\n",
    "        clf = clf.fit(X, y)\n",
    "        \n",
    "        # extract dataframe with information value metrics\n",
    "        selected_features = clf.iv_df        \n",
    "        selected_features = selected_features.loc[:,['Variable_Name','Information_Value']]\n",
    "        \n",
    "        # filter features by selecting only features greater than 0.1 and less than 0.5\n",
    "        selected_features = selected_features[(selected_features['Information_Value'] > 0.1) & (selected_features['Information_Value'] <= 0.5)]\n",
    "        \n",
    "        # filter final list of features\n",
    "        final_list = list(selected_features['Variable_Name'].values)   \n",
    "        \n",
    "        # filter our original dataframe and select only\n",
    "        df = X[final_list]     \n",
    "        \n",
    "        # merge back the target variable to the dataframe(df)\n",
    "        df = df.merge(y, on=y.index)\n",
    "        \n",
    "        # drop generated index\n",
    "        df.drop(\"key_0\", axis=1, inplace=True)\n",
    "        \n",
    "        self.cat_features = cat_features\n",
    "                                     \n",
    "        return df"
   ]
  },
  {
   "cell_type": "code",
   "execution_count": 67,
   "metadata": {},
   "outputs": [
    {
     "name": "stdout",
     "output_type": "stream",
     "text": [
      "Train Set Size: (385659, 7)\n",
      "Time elapsed (hh:mm:ss.ms) 0:03:28.895522\n"
     ]
    }
   ],
   "source": [
    "# time how long the conversion takes\n",
    "start_time = datetime.now()\n",
    "\n",
    "#create transformer\n",
    "feature_selector = FeatureSelection()\n",
    "\n",
    "# fit transform training set\n",
    "train_set = feature_selector.fit_transform(train_set)\n",
    "\n",
    "#fit transform dataset\n",
    "test_set_2018 = test_set_2018[train_set.columns.tolist()]\n",
    "test_set_2019 = test_set_2019[train_set.columns.tolist()]\n",
    "\n",
    "# confirm\n",
    "print(\"Train Set Size: {}\".format(train_set.shape))\n",
    "\n",
    "\n",
    "time_elapsed = datetime.now() - start_time\n",
    "print('Time elapsed (hh:mm:ss.ms) {}'.format(time_elapsed))"
   ]
  },
  {
   "cell_type": "markdown",
   "metadata": {},
   "source": [
    "We can see that we were able to reduce our features from 145+ to 7 features. I might try other techniques for feature selection if the selected <br>\n",
    "seven features do not provide an acceptable performance. "
   ]
  },
  {
   "cell_type": "code",
   "execution_count": 68,
   "metadata": {},
   "outputs": [
    {
     "name": "stdout",
     "output_type": "stream",
     "text": [
      "Test Set Shape: (385659, 7)\n",
      "Test 2018 Shape: (131526, 7)\n",
      "Test 2019 Shape: (34053, 7)\n"
     ]
    }
   ],
   "source": [
    "print(\"Test Set Shape: {}\".format(train_set.shape))\n",
    "print(\"Test 2018 Shape: {}\".format(test_set_2018.shape))\n",
    "print(\"Test 2019 Shape: {}\".format(test_set_2019.shape))"
   ]
  },
  {
   "cell_type": "code",
   "execution_count": 69,
   "metadata": {},
   "outputs": [
    {
     "data": {
      "text/plain": [
       "['term', 'emp_length']"
      ]
     },
     "execution_count": 69,
     "metadata": {},
     "output_type": "execute_result"
    }
   ],
   "source": [
    "feature_selector.cat_features"
   ]
  },
  {
   "cell_type": "markdown",
   "metadata": {},
   "source": [
    "<h2> <b> Export Cleaned Dataset<b> </h2>\n",
    "<a id=\"export_dataset\"></a>"
   ]
  },
  {
   "cell_type": "code",
   "execution_count": 70,
   "metadata": {},
   "outputs": [
    {
     "name": "stdout",
     "output_type": "stream",
     "text": [
      "Couldn't find program: 'False'\n"
     ]
    }
   ],
   "source": [
    "%%script False\n",
    "train_set.to_csv('lc_train_cleaned.csv',index=False)\n",
    "test_set_2019.to_csv('lc_2019_test_cleaned.csv',index=False)\n",
    "test_set_2018.to_csv('lc_2018_test_cleaned.csv',index=False)"
   ]
  },
  {
   "cell_type": "code",
   "execution_count": 71,
   "metadata": {},
   "outputs": [
    {
     "name": "stdout",
     "output_type": "stream",
     "text": [
      "Time elapsed (hh:mm:ss.ms) 14:00:59.323051\n"
     ]
    }
   ],
   "source": [
    "notebook_time_elapsed = datetime.now() - notebook_start_time\n",
    "print('Time elapsed (hh:mm:ss.ms) {}'.format(notebook_time_elapsed))"
   ]
  },
  {
   "cell_type": "markdown",
   "metadata": {},
   "source": [
    "### Reference: \n",
    "Azur, M, Stuart, E, Frangakis, C and Leaf, P (2012) 'Multiple Imputation by Chained Equations: What is it and how does it work?' Available at: doi: 10.1002/mpr.329\n",
    "\n",
    "Arora, H (2016) 'Why are tree-based models robust to outliers' Available at: https://dimensionless.in/tree-based-models-roboust-outliers/ <br>\n",
    "Accessed: December 23rd, 2019\n",
    "\n",
    "Boschetti, A and Massaron, L (2018) 'Python Data Science Essentials.' 3rd Edition. Packt Publishing \n",
    "\n",
    "Kuhn, M and Johnson, K (2019) 'Feature Engineering and Selection: A Practical Approach for Predictive Models'<br>\n",
    "Available at: https://bookdown.org/max/FES/goals-of-feature-selection.html (Accessed: December 12th, 2019) <br>"
   ]
  },
  {
   "cell_type": "code",
   "execution_count": null,
   "metadata": {},
   "outputs": [],
   "source": []
  }
 ],
 "metadata": {
  "kernelspec": {
   "display_name": "Python 3",
   "language": "python",
   "name": "python3"
  },
  "language_info": {
   "codemirror_mode": {
    "name": "ipython",
    "version": 3
   },
   "file_extension": ".py",
   "mimetype": "text/x-python",
   "name": "python",
   "nbconvert_exporter": "python",
   "pygments_lexer": "ipython3",
   "version": "3.7.4"
  },
  "name": "Loan_DataSet_Spark",
  "notebookId": 4295954706501391
 },
 "nbformat": 4,
 "nbformat_minor": 4
}
